{
 "cells": [
  {
   "cell_type": "markdown",
   "metadata": {},
   "source": [
    "# Numpy!"
   ]
  },
  {
   "cell_type": "code",
   "execution_count": 2,
   "metadata": {},
   "outputs": [],
   "source": [
    "import numpy as np\n",
    "import matplotlib.pyplot as plt"
   ]
  },
  {
   "cell_type": "code",
   "execution_count": 43,
   "metadata": {},
   "outputs": [
    {
     "name": "stdout",
     "output_type": "stream",
     "text": [
      "3.41 ms ± 80.3 µs per loop (mean ± std. dev. of 7 runs, 100 loops each)\n",
      "11.9 µs ± 67.4 ns per loop (mean ± std. dev. of 7 runs, 100000 loops each)\n"
     ]
    }
   ],
   "source": [
    "# since python 3.6, you can add _ as a decorator to make numbers more readable\n",
    "# list comprehension\n",
    "# let's create a list of squares length n\n",
    "n = 10_000 \n",
    "%timeit nsquared = [x**2 for x in range (n)]\n",
    "\n",
    "# you can also just do this element wise multiplication with numpy, this is faster\n",
    "%timeit nsquared = np.arange(n)**2"
   ]
  },
  {
   "cell_type": "markdown",
   "metadata": {},
   "source": [
    "### Creating arrays"
   ]
  },
  {
   "cell_type": "code",
   "execution_count": 99,
   "metadata": {},
   "outputs": [
    {
     "name": "stdout",
     "output_type": "stream",
     "text": [
      "<class 'numpy.ndarray'>\n",
      "[2, 4, 'dada', 8, 10]\n",
      "int64\n",
      "float64\n",
      "[1 3 5 7 9]\n",
      "[  1   3   5   7   9 100 200 500]\n",
      "[  0.  10.  20.  30.  40.  50.  60.  70.  80.  90. 100.]\n"
     ]
    }
   ],
   "source": [
    "# this is not a list! this is an ndarray\n",
    "a = np.arange(10) \n",
    "print(type(a))\n",
    "\n",
    "# in a list, we can have different types. so in python we could multply different types\n",
    "b = [ i*2 for i in [1,2,'da',4,5] ]\n",
    "print(b)\n",
    "\n",
    "# to get around this, we use an ndarray as the values must be the same\n",
    "# we can specify dtype in a ndarray\n",
    "print(a.dtype)\n",
    "a = np.arange(10,dtype=float)\n",
    "print(a.dtype)\n",
    "\n",
    "# unicode21 is a universal string type that allows all characters from all languages in the world\n",
    "#np.arange(1,10,2,dtype='<U21')\n",
    "\n",
    "# this is a useful functiont that allows us to use a : to create an array, which you wouldn't otherwise be allowed to do\n",
    "c = np.r_[1:10:2]\n",
    "print(c)\n",
    "d = np.r_[ 1:10:2,100,200,500 ]\n",
    "print(d)\n",
    "\n",
    "# linspace allows you to specify how many numbers you want between two bounds\n",
    "# this is different to arange, where you say add x to the first bound until you reach the last bound\n",
    "# linspace gives you floats, so it's useful for using with numbers between 0-1\n",
    "e = np.linspace(0,100,11)\n",
    "print(e)"
   ]
  },
  {
   "cell_type": "code",
   "execution_count": 72,
   "metadata": {},
   "outputs": [
    {
     "name": "stdout",
     "output_type": "stream",
     "text": [
      "[1 1 1 1 1 1 1 1 1 1 2 2 2 2 2 2 2 2 2 2]\n",
      "[1 1 1 1 1 1 1 1 1 1 2 2 2 2 2]\n",
      "[1 2 1 2 1 2 1 2 1 2]\n",
      "[1 2 1 2 1 2 1 2 1 2 1 2 1 2 1 2 1 2 1 2]\n"
     ]
    }
   ],
   "source": [
    "n = 10 # number of repititions\n",
    "a = [1,2]\n",
    "\n",
    "# repeat elements by a certain number of time\n",
    "b = np.repeat(a,n)\n",
    "print(b)\n",
    "\n",
    "# you can also specify element wise the number of repitions to do\n",
    "b = np.repeat(a,[n,5])\n",
    "print(b)\n",
    "\n",
    "# we can repeat non-element wise also\n",
    "c = np.resize(a,10)\n",
    "print(c)\n",
    "\n",
    "# or by using tile\n",
    "c = np.tile(a,10)\n",
    "print(c)"
   ]
  },
  {
   "cell_type": "code",
   "execution_count": 87,
   "metadata": {},
   "outputs": [
    {
     "data": {
      "text/plain": [
       "array([10,  2,  9,  8,  1,  3,  4,  6,  7,  5])"
      ]
     },
     "execution_count": 87,
     "metadata": {},
     "output_type": "execute_result"
    }
   ],
   "source": [
    "# when calling the random function, anyone who gives the same seed will get the same random numbers\n",
    "np.random.seed(123)\n",
    "# this creates an narray of random numbers\n",
    "np.random.rand(10)\n",
    "# we can create random numbers around a normal distribution\n",
    "np.random.normal(10,1,5)\n",
    "# we can create random intergers between a certain range\n",
    "np.random.randint(0,5,10)\n",
    "# we can choose randomly from a list that we supply\n",
    "np.random.choice(['head','tail'],10)\n",
    "# we can also specify the probability by which one is chosen over another\n",
    "np.random.choice(['head','tail'],10,p=[0.8,0.2])\n",
    "# we can also specify whether or not to put a value back in the pot to be chosen again with 'replace'\n",
    "np.random.choice([1,2,3,4,5,6,7,8,9,10],10,replace=False)\n"
   ]
  },
  {
   "cell_type": "code",
   "execution_count": 111,
   "metadata": {},
   "outputs": [
    {
     "name": "stdout",
     "output_type": "stream",
     "text": [
      "[0 1 2 3 4 5 6 7 8 9]\n",
      "10\n",
      "(10,)\n",
      "1\n",
      "[[0 1 2 3 4]\n",
      " [5 6 7 8 9]]\n",
      "2\n",
      "[0 1 2 3 4 5 6 7 8 9]\n",
      "[[0 1 2 3 4]\n",
      " [5 6 7 8 9]]\n",
      "[[0 1]\n",
      " [2 3]\n",
      " [4 5]\n",
      " [6 7]\n",
      " [8 9]]\n"
     ]
    }
   ],
   "source": [
    "# dimensions\n",
    "x = np.arange(10)\n",
    "print(x)\n",
    "print(len(x))\n",
    "print(x.shape) # this is not a function, you inherently know the shape of an object, so you just read what you want from it\n",
    "print(x.ndim)\n",
    "\n",
    "# we can set the shape of an object, but the new shape has to fit the original object\n",
    "x.shape = (2,5) # this is the in-place version\n",
    "print(x)\n",
    "print(x.ndim)\n",
    "\n",
    "y = np.arange(10)\n",
    "y.reshape(2,5) # this is just creating a copy, so you'd have to save it as a variable if you want to replicate it\n",
    "print(y)\n",
    "\n",
    "# you can reshape by using -1, and it will calculate the number of rows or columns it needs to shape properly\n",
    "print(y.reshape(2,-1))\n",
    "print(y.reshape(-1,2))"
   ]
  },
  {
   "cell_type": "code",
   "execution_count": 149,
   "metadata": {},
   "outputs": [
    {
     "name": "stdout",
     "output_type": "stream",
     "text": [
      "[[0.7  0.29]\n",
      " [0.23 0.55]\n",
      " [0.72 0.42]]\n",
      "[[0.7  0.29 1.  ]\n",
      " [0.23 0.55 1.  ]\n",
      " [0.72 0.42 1.  ]]\n",
      "[[0.7  2.   0.29 1.  ]\n",
      " [0.23 2.   0.55 1.  ]\n",
      " [0.72 2.   0.42 1.  ]]\n",
      "[[0.7  0.29 1.  ]\n",
      " [0.23 0.55 1.  ]\n",
      " [0.72 0.42 1.  ]]\n",
      "[[0.7  2.   0.29 1.  ]\n",
      " [0.23 2.   0.55 1.  ]\n",
      " [0.72 2.   0.42 1.  ]]\n"
     ]
    }
   ],
   "source": [
    "np.random.seed(123)\n",
    "a = np.round(np.random.rand(3,2),2)\n",
    "print(a)\n",
    "\n",
    "# now let's add column of 1s\n",
    "rows = x.shape[0]\n",
    "ones = np.ones(rows+1)\n",
    "b = np.column_stack((a,ones))\n",
    "print(b)\n",
    "\n",
    "# now let's add a column of 2s in the middle\n",
    "twos = ones+1\n",
    "c = np.insert(b,1,values=2,axis=1)\n",
    "print(c)\n",
    "\n",
    "# in fact, insert can be used in all cases\n",
    "# insert args are the tensor, the index, the values, the axis\n",
    "b = np.insert(a,2,ones,axis=1)\n",
    "print(b)\n",
    "c = np.insert(b,1,twos,axis=1)\n",
    "print(c)"
   ]
  },
  {
   "cell_type": "markdown",
   "metadata": {},
   "source": [
    "### Arithmetic operators\n"
   ]
  },
  {
   "cell_type": "code",
   "execution_count": 162,
   "metadata": {},
   "outputs": [
    {
     "name": "stdout",
     "output_type": "stream",
     "text": [
      "[  1  20 300]\n",
      "[[   1   10  100 1000]\n",
      " [   1   10  100 1000]]\n",
      "[1 2 3 4]\n",
      "[[   1   20  300 4000]\n",
      " [   1   20  300 4000]]\n",
      "[4321 4321]\n"
     ]
    }
   ],
   "source": [
    "# the seven base operators in python have been vectorized in numpy so they work element wise\n",
    "# element-wise multiplication\n",
    "\n",
    "print(np.r_[1,2,3] * np.r_[1,10,100])\n",
    "\n",
    "# this means you can't do a matrix multiplication just using *\n",
    "a = np.array([[1,10,100,1000],\n",
    "              [1,10,100,1000]])\n",
    "print(a)\n",
    "\n",
    "b = np.array([1,2,3,4])\n",
    "print(b)\n",
    "print(a*b)\n",
    "\n",
    "# to do a matrix multiplication, we use @\n",
    "# to do this, we need to make sure that row length of matrix 1 is same as column length of matrix 2\n",
    "c = a@b\n",
    "print(c)"
   ]
  },
  {
   "cell_type": "code",
   "execution_count": 171,
   "metadata": {},
   "outputs": [
    {
     "name": "stdout",
     "output_type": "stream",
     "text": [
      "[[ 0  1  2  3]\n",
      " [ 4  5  6  7]\n",
      " [ 8  9 10 11]]\n",
      "[12 15 18 21]\n",
      "[ 6 22 38]\n",
      "[12 15 18 21]\n"
     ]
    }
   ],
   "source": [
    "# Aggregation functions, they create a summary in one value\n",
    "# functions: np.sum(a), prod, mean, var, std, amax, amin, all, any, median\n",
    "# methods: a.sum(), prod, mean, var, std, amax, amin, all, any, median\n",
    "\n",
    "a = np.arange(12)\n",
    "a.shape = (3,4)\n",
    "print(a)\n",
    "\n",
    "# so we can sum along both axes of a matrix\n",
    "print(a.sum(axis=0))\n",
    "print(a.sum(axis=1))"
   ]
  },
  {
   "cell_type": "code",
   "execution_count": 189,
   "metadata": {},
   "outputs": [
    {
     "name": "stdout",
     "output_type": "stream",
     "text": [
      "[4.86 3.31 1.45 0.22]\n",
      "[0.2764055  0.29137605 0.10246951 0.07483315]\n",
      "[[ 0.24  0.19 -0.05 -0.02]\n",
      " [ 0.04 -0.31 -0.05 -0.02]\n",
      " [-0.16 -0.11 -0.15 -0.02]\n",
      " [-0.26 -0.21  0.05 -0.02]\n",
      " [ 0.14  0.29 -0.05 -0.02]\n",
      " [ 0.54  0.59  0.25  0.18]\n",
      " [-0.26  0.09 -0.05  0.08]\n",
      " [ 0.14  0.09  0.05 -0.02]\n",
      " [-0.46 -0.41 -0.05 -0.02]\n",
      " [ 0.04 -0.21  0.05 -0.12]]\n",
      "[[ 0.86828953  0.65207831 -0.48795004 -0.26726124]\n",
      " [ 0.14471492 -1.06391725 -0.48795004 -0.26726124]\n",
      " [-0.57885968 -0.37751902 -1.46385011 -0.26726124]\n",
      " [-0.94064699 -0.72071813  0.48795004 -0.26726124]\n",
      " [ 0.50650222  0.99527742 -0.48795004 -0.26726124]\n",
      " [ 1.95365143  2.02487476  2.43975018  2.40535118]\n",
      " [-0.94064699  0.3088792  -0.48795004  1.06904497]\n",
      " [ 0.50650222  0.3088792   0.48795004 -0.26726124]\n",
      " [-1.66422159 -1.40711636 -0.48795004 -0.26726124]\n",
      " [ 0.14471492 -0.72071813  0.48795004 -1.60356745]]\n",
      "[[ 0.86828953  0.65207831 -0.48795004 -0.26726124]\n",
      " [ 0.14471492 -1.06391725 -0.48795004 -0.26726124]\n",
      " [-0.57885968 -0.37751902 -1.46385011 -0.26726124]\n",
      " [-0.94064699 -0.72071813  0.48795004 -0.26726124]\n",
      " [ 0.50650222  0.99527742 -0.48795004 -0.26726124]\n",
      " [ 1.95365143  2.02487476  2.43975018  2.40535118]\n",
      " [-0.94064699  0.3088792  -0.48795004  1.06904497]\n",
      " [ 0.50650222  0.3088792   0.48795004 -0.26726124]\n",
      " [-1.66422159 -1.40711636 -0.48795004 -0.26726124]\n",
      " [ 0.14471492 -0.72071813  0.48795004 -1.60356745]]\n",
      "[ 2.21489493e-15 -7.77156117e-17  2.22044605e-17 -3.10862447e-16]\n",
      "[1. 1. 1. 1.]\n"
     ]
    }
   ],
   "source": [
    "# let's import the first 10 rows of the iris dataset\n",
    "\n",
    "%matplotlib inline\n",
    "import matplotlib.pyplot as plt\n",
    "import numpy as np\n",
    "import pandas as pd\n",
    "import seaborn as sns\n",
    "iris = np.array(sns.load_dataset(\"iris\").iloc[:10, 0:4])\n",
    "\n",
    "# standardize the values of the dataset, so that units don't matter. we zero mean and find standard dev to do this\n",
    "# subtract the means, and divide by std\n",
    "means = iris.mean(axis=0)\n",
    "std = iris.std(axis=0)\n",
    "zero_mean = iris-means\n",
    "standardized = zero_mean/std\n",
    "print(means)\n",
    "print(std)\n",
    "print(zero_mean)\n",
    "print(standardized)\n",
    "\n",
    "# this can all be done in one line of code as well!\n",
    "standardized = (iris-iris.mean(axis=0))/iris.std(axis=0)\n",
    "print(standardized)\n",
    "\n",
    "# the standardised matrix is a matrix of z-scores\n",
    "\n",
    "# a way to check you have the standardized matrix. each column mean is 0. each column standard dev is 1\n",
    "print(standardized.mean(axis=0))\n",
    "print(standardized.std(axis=0))"
   ]
  },
  {
   "cell_type": "markdown",
   "metadata": {},
   "source": [
    "### COMPARISON AND RELATIONAL OPERATORS"
   ]
  },
  {
   "cell_type": "code",
   "execution_count": 203,
   "metadata": {},
   "outputs": [
    {
     "name": "stdout",
     "output_type": "stream",
     "text": [
      "[[ 0  1  2  3]\n",
      " [ 4  5  6  7]\n",
      " [ 8  9 10 11]]\n",
      "[[False False False False]\n",
      " [False False False  True]\n",
      " [ True  True  True  True]]\n",
      "[[False False False False]\n",
      " [ True  True  True  True]\n",
      " [ True  True  True  True]]\n",
      "[[False False False False]\n",
      " [ True  True  True  True]\n",
      " [ True False False False]]\n",
      "True\n",
      "False\n",
      "4\n",
      "0.3333333333333333\n",
      "[[0 0 0 0]\n",
      " [0 0 0 0]\n",
      " [1 1 1 1]]\n"
     ]
    }
   ],
   "source": [
    "a = np.arange(12)\n",
    "a.shape = (3,4)\n",
    "print(a)\n",
    "\n",
    "b = a > 6 # creates a boolean matrix, looking at each element to find the condition\n",
    "print(b)\n",
    "\n",
    "# we can also check along a row of a matrix, but we must supply the same numbr of conditions\n",
    "# this is done element wise\n",
    "c = a > np.r_[1,2,3,4]\n",
    "print(c)\n",
    "\n",
    "# which elements in a are between 4 and 8?\n",
    "# we use & to do a vectorised \"AND\" in python\n",
    "d = (4 <= a) & (a <= 8)\n",
    "print(d)\n",
    "\n",
    "# verify if all of the values in similar matrices are the same\n",
    "print(np.all(a == a))\n",
    "# or do this for any element\n",
    "b = [1,2,3,4]\n",
    "print(np.any(a == b))\n",
    "\n",
    "# we can find the number of elements that are greater than a number\n",
    "# remember that the function inside the brackets here first calculates the boolean matrix, and then np.sum sums it\n",
    "print(np.sum(a>7))\n",
    "\n",
    "# this gives the proportion of the elements that meet a requirement\n",
    "print(np.mean(a>7))\n",
    "\n",
    "# we can turn a boolean matrix into 1 and 0s\n",
    "print((a>7).astype(np.int_))  # the _ here denotes that it should be the default integer type"
   ]
  },
  {
   "cell_type": "markdown",
   "metadata": {},
   "source": [
    "### VECTORIZED MATHS"
   ]
  },
  {
   "cell_type": "code",
   "execution_count": 213,
   "metadata": {},
   "outputs": [
    {
     "name": "stdout",
     "output_type": "stream",
     "text": [
      "[ 0.00000000e+00  2.53654584e-01  4.90717552e-01  6.95682551e-01\n",
      "  8.55142763e-01  9.58667853e-01  9.99486216e-01  9.74927912e-01\n",
      "  8.86599306e-01  7.40277997e-01  5.45534901e-01  3.15108218e-01\n",
      "  6.40702200e-02 -1.91158629e-01 -4.33883739e-01 -6.48228395e-01\n",
      " -8.20172255e-01 -9.38468422e-01 -9.95379113e-01 -9.87181783e-01\n",
      " -9.14412623e-01 -7.81831482e-01 -5.98110530e-01 -3.75267005e-01\n",
      " -1.27877162e-01  1.27877162e-01  3.75267005e-01  5.98110530e-01\n",
      "  7.81831482e-01  9.14412623e-01  9.87181783e-01  9.95379113e-01\n",
      "  9.38468422e-01  8.20172255e-01  6.48228395e-01  4.33883739e-01\n",
      "  1.91158629e-01 -6.40702200e-02 -3.15108218e-01 -5.45534901e-01\n",
      " -7.40277997e-01 -8.86599306e-01 -9.74927912e-01 -9.99486216e-01\n",
      " -9.58667853e-01 -8.55142763e-01 -6.95682551e-01 -4.90717552e-01\n",
      " -2.53654584e-01 -4.89858720e-16]\n"
     ]
    },
    {
     "data": {
      "text/plain": [
       "[<matplotlib.lines.Line2D at 0x1a298f4908>]"
      ]
     },
     "execution_count": 213,
     "metadata": {},
     "output_type": "execute_result"
    },
    {
     "data": {
      "image/png": "[encoded data removed]",
      "text/plain": [
       "<Figure size 432x288 with 1 Axes>"
      ]
     },
     "metadata": {},
     "output_type": "display_data"
    }
   ],
   "source": [
    "# we can call vectorized functions that will act on all elements of a vector, such as sin, cosine, sqrt, log, round etc...\n",
    "x = np.linspace(0,4*np.pi,50)\n",
    "y = np.sin(x)\n",
    "print(y)\n",
    "plt.plot(x,y)"
   ]
  },
  {
   "cell_type": "code",
   "execution_count": 216,
   "metadata": {},
   "outputs": [
    {
     "data": {
      "text/plain": [
       "<matplotlib.collections.PathCollection at 0x1a29b8d8d0>"
      ]
     },
     "execution_count": 216,
     "metadata": {},
     "output_type": "execute_result"
    },
    {
     "data": {
      "image/png": "[encoded data removed]",
      "text/plain": [
       "<Figure size 432x288 with 1 Axes>"
      ]
     },
     "metadata": {},
     "output_type": "display_data"
    }
   ],
   "source": [
    "# let's plot some random data with some added noise\n",
    "np.random.seed(123)\n",
    "x = np.random.rand(25)\n",
    "y = np.random.randn(25)+20*x+4 # 20x + 4 is our noise here\n",
    "plt.scatter(x,y)"
   ]
  },
  {
   "cell_type": "code",
   "execution_count": 218,
   "metadata": {},
   "outputs": [
    {
     "data": {
      "text/plain": [
       "<seaborn.axisgrid.PairGrid at 0x1a2a50ef28>"
      ]
     },
     "execution_count": 218,
     "metadata": {},
     "output_type": "execute_result"
    },
    {
     "data": {
      "image/png": "[encoded data removed]",
      "text/plain": [
       "<Figure size 720x720 with 20 Axes>"
      ]
     },
     "metadata": {},
     "output_type": "display_data"
    }
   ],
   "source": [
    "from jupyterthemes import jtplot\n",
    "jtplot.style('chesterish')\n",
    "sns.pairplot(sns.load_dataset(\"iris\"))"
   ]
  },
  {
   "cell_type": "code",
   "execution_count": 424,
   "metadata": {},
   "outputs": [
    {
     "name": "stdout",
     "output_type": "stream",
     "text": [
      "0.973\n",
      "(0.9730180056190826, 3.7898578167586404e-16)\n",
      "[[ 1.    -0.118  0.872  0.818]\n",
      " [-0.118  1.    -0.428 -0.366]\n",
      " [ 0.872 -0.428  1.     0.963]\n",
      " [ 0.818 -0.366  0.963  1.   ]]\n"
     ]
    },
    {
     "data": {
      "text/plain": [
       "array([[ 1.        , -0.11756978,  0.87175378,  0.81794113],\n",
       "       [-0.11756978,  1.        , -0.4284401 , -0.36612593],\n",
       "       [ 0.87175378, -0.4284401 ,  1.        ,  0.96286543],\n",
       "       [ 0.81794113, -0.36612593,  0.96286543,  1.        ]])"
      ]
     },
     "execution_count": 424,
     "metadata": {},
     "output_type": "execute_result"
    }
   ],
   "source": [
    "# let's define a function that calculates a pearson coefficient. it's a measure of linear correlation between two variables\n",
    "# it has a value between -1 and 1. 1 is total linear correlation, and 0 is no linear correlation\n",
    "# pearson does a good job at linearly correlated variables\n",
    "# for non-linearly correlated variables, we'd used the spearman coefficient\n",
    "\n",
    "np.random.seed(123)\n",
    "x = np.random.rand(25)\n",
    "y = np.random.randn(25)+20*x+4 # 20x + 4 is our noise here\n",
    "\n",
    "def pearson(x,y):\n",
    "    numerator = np.sum( (x - x.mean()) * (y-y.mean()) )\n",
    "    denominator = np.sqrt(np.sum((x - x.mean())**2)) * np.sqrt(np.sum((y - y.mean())**2))\n",
    "    pearson_coef = numerator / denominator\n",
    "    pearson_coef = np.round(pearson_coef,3)\n",
    "    return pearson_coef\n",
    "\n",
    "print(pearson(x,y))\n",
    "\n",
    "# you can do this all in a nice scipy function!\n",
    "# the two numbers that come out are the pearson coefficient, and the p-value\n",
    "# p-values are only used in small sample datasets, we won't use this in big data with companies\n",
    "import scipy\n",
    "print(scipy.stats.pearsonr(x,y))\n",
    "iris = np.array(sns.load_dataset(\"iris\").iloc[:, 0:4])\n",
    "\n",
    "\n",
    "# let's get the pearson coeffs for iris variables against eachother\n",
    "pearson_iris = [pearson(iris[:,i],iris[:,j]) for i in range(4) for j in range(4)]\n",
    "pearson_iris = np.asarray(pearson_iris)\n",
    "pearson_iris.shape = (4,4)\n",
    "print(pearson_iris)\n",
    "\n",
    "# we can do this without forloops\n",
    "iris_std = (iris - np.mean(iris,axis=0)) / np.std(iris,axis=0,ddof=0)\n",
    "iris_std.T @ iris_std/iris.shape[0]"
   ]
  },
  {
   "cell_type": "markdown",
   "metadata": {},
   "source": [
    "### Vector and matrix indexing"
   ]
  },
  {
   "cell_type": "code",
   "execution_count": 298,
   "metadata": {},
   "outputs": [
    {
     "name": "stdout",
     "output_type": "stream",
     "text": [
      "1\n",
      "4\n",
      "[1, 2]\n",
      "1\n",
      "[1 2 3 4]\n",
      "[1 3 5]\n",
      "[4 5]\n",
      "['Dan' 'Jon']\n"
     ]
    }
   ],
   "source": [
    "x = [1,2,3,4,5]\n",
    "print(x[0])\n",
    "print(x[-2]) # this indexes backwards\n",
    "print(x[0:2]) # remember that the output of this is another list\n",
    "\n",
    "x = np.r_[1,2,3,4,5] # create a ndarray\n",
    "print(x[0])\n",
    "print(x[:-1]) # take up until the last element\n",
    "\n",
    "# you can do something called masking which is cool!\n",
    "print( x[ np.r_[True,False,True,False,True] ] )\n",
    "\n",
    "# filtering - the x>3 creates a boolean vector!\n",
    "print(x[x>3])\n",
    "\n",
    "# another example of masking with a conditional filter\n",
    "names = np.array(['Phil','James','Dan','Jon'])\n",
    "years = np.array([2018,2018,2019,2022])\n",
    "print(names[years>2018])"
   ]
  },
  {
   "cell_type": "markdown",
   "metadata": {},
   "source": [
    "### Exercise"
   ]
  },
  {
   "cell_type": "code",
   "execution_count": 394,
   "metadata": {},
   "outputs": [
    {
     "name": "stdout",
     "output_type": "stream",
     "text": [
      "[-0.31  0.73  0.22 -0.9  -2.49  0.91  1.13 -1.51  1.64 -0.43  2.63  0.6\n",
      " -0.34  1.24  0.11  0.13  0.08 -0.16  0.63  0.81]\n"
     ]
    }
   ],
   "source": [
    "np.random.seed(6)\n",
    "x = np.round(np.random.normal(size=20),2)\n",
    "print(x)"
   ]
  },
  {
   "cell_type": "code",
   "execution_count": 414,
   "metadata": {},
   "outputs": [
    {
     "name": "stdout",
     "output_type": "stream",
     "text": [
      "13\n",
      "0.65\n",
      "0.85\n",
      "10\n",
      "16\n",
      "[ 7 10  4]\n",
      "[-0.31  0.73  0.22 -0.9   0.91  1.13 -1.51  1.64 -0.43  0.6  -0.34  1.24\n",
      "  0.11  0.13  0.08 -0.16  0.63  0.81]\n",
      "['negative' 'non-negative' 'non-negative' 'negative' 'negative'\n",
      " 'non-negative' 'non-negative' 'negative' 'non-negative' 'negative'\n",
      " 'non-negative' 'non-negative' 'negative' 'non-negative' 'non-negative'\n",
      " 'non-negative' 'non-negative' 'negative' 'non-negative' 'non-negative']\n",
      "['medium' 'medium' 'medium' 'medium' 'small' 'medium' 'large' 'small'\n",
      " 'large' 'medium' 'large' 'medium' 'medium' 'large' 'medium' 'medium'\n",
      " 'medium' 'medium' 'medium' 'medium']\n"
     ]
    }
   ],
   "source": [
    "# print number of non-negative values\n",
    "print(np.sum(x>=0))\n",
    "# print proportion of non-negative values\n",
    "print(np.mean(x>=0))\n",
    "# print mean of abs values\n",
    "print(np.abs(x).mean())\n",
    "# print elements which are most distant from 0\n",
    "print(np.abs(x).argmax())\n",
    "# print elements that are closest to 0\n",
    "print(np.abs(x).argmin())\n",
    "# determine 3 elements that are the most distant from the mean of x\n",
    "print(np.abs(x - np.mean(x)).argsort()[-3:])\n",
    "# remove outliers from x, based on quartiles\n",
    "q1 = np.percentile(x,25)\n",
    "q3 = np.percentile(x,75)\n",
    "iqr = q3-q1\n",
    "lower_outlier = q1 - 1.5*iqr\n",
    "upper_outlier = q3 + 1.5*iqr\n",
    "# | does OR\n",
    "print(x[np.invert((x<lower_outlier) | (x>upper_outlier))])\n",
    "# print new array based on conditional. this is a great line of code that does an if else statement for us\n",
    "print(np.where(x>=0,\"non-negative\",\"negative\"))\n",
    "print(np.where(x<-1,\"small\",np.where(x>1,\"large\",\"medium\")))"
   ]
  },
  {
   "cell_type": "code",
   "execution_count": 1,
   "metadata": {
    "collapsed": true
   },
   "outputs": [
    {
     "name": "stderr",
     "output_type": "stream",
     "text": [
      "/Users/garethjones/anaconda3/lib/python3.6/site-packages/h5py/__init__.py:36: FutureWarning: Conversion of the second argument of issubdtype from `float` to `np.floating` is deprecated. In future, it will be treated as `np.float64 == np.dtype(float).type`.\n",
      "  from ._conv import register_converters as _register_converters\n"
     ]
    },
    {
     "data": {
      "text/plain": [
       "array([[ 1,  2,  3,  4],\n",
       "       [ 5,  6,  7,  8],\n",
       "       [ 9, 10, 11, 12]])"
      ]
     },
     "execution_count": 1,
     "metadata": {},
     "output_type": "execute_result"
    }
   ],
   "source": [
    "%matplotlib inline\n",
    "import numpy as np\n",
    "import pandas as pd\n",
    "import matplotlib.pyplot as plt\n",
    "import seaborn as sns\n",
    "import tensorflow as tf\n",
    "\n"
   ]
  },
  {
   "cell_type": "markdown",
   "metadata": {},
   "source": [
    "# Matrix Indexing"
   ]
  },
  {
   "cell_type": "code",
   "execution_count": 3,
   "metadata": {},
   "outputs": [
    {
     "data": {
      "text/plain": [
       "array([[ 1,  2,  3,  4],\n",
       "       [ 5,  6,  7,  8],\n",
       "       [ 9, 10, 11, 12]])"
      ]
     },
     "execution_count": 3,
     "metadata": {},
     "output_type": "execute_result"
    }
   ],
   "source": [
    "A = np.r_[1:13].reshape(3, 4)\n",
    "A"
   ]
  },
  {
   "cell_type": "code",
   "execution_count": 4,
   "metadata": {},
   "outputs": [
    {
     "name": "stdout",
     "output_type": "stream",
     "text": [
      "2\n",
      "[ 9 11]\n",
      "[12]\n",
      "[[10 11 12]]\n",
      "[ 6  2 10  2]\n",
      "[[11 12]\n",
      " [ 7  8]\n",
      " [ 3  4]]\n",
      "[[0]\n",
      " [1]\n",
      " [2]\n",
      " [3]]\n",
      "[[0 1 2 3]]\n",
      "[ 1 10  3]\n",
      "[[ 1  2  3]\n",
      " [ 9 10 11]]\n",
      "(array([[ 0],\n",
      "       [-1]]), array([[0, 1, 2]]))\n",
      "[[ 1  2  3]\n",
      " [ 9 10 11]]\n"
     ]
    }
   ],
   "source": [
    "print(A[0,1]) # this provides a specific index in a matrix, a scalar\n",
    "print(A[2,::2]) # this selects the third row, and then all column values up to (not including) index 2, a vector\n",
    "print(A[2:,-1]) # this skips first two rows, takes the remaining and then selects the last column, a vector\n",
    "print(A[2:,A.mean(axis=0)>5]) # first calcs the mean of each column, creates a boolean matrix, selects only those true in the third column, a vector\n",
    "print(A[[1,0,-1,0],1]) # selects the second column, from that column, chooses indexes given by [1,0,-1,0]\n",
    "print(A[::-1,2:]) # selecting with 2 slices will create a matrix. Select all rows until the last one, select third col onwards\n",
    "\n",
    "# We can do element wise selections\n",
    "print(np.r_[0,1,2,3].reshape(-1,1)) # this reshape says put everything in one column, and take as many rows as you need\n",
    "print(np.r_[0,1,2,3].reshape(1,-1)) # this reshape says put everything in one row, and take as many columns as you need\n",
    "\n",
    "# this is element wise row and column selections!\n",
    "# to do this, the vectors needs to be of the same size, if not there'll be an error\n",
    "print(A[ [0,-1,0] , [0,1,2] ]) \n",
    "\n",
    "# this will select a chunk of the matrix, but we need to make the vectors vertical and horizontal to do that\n",
    "# we're saying select the first and last row, and all the columns, because we're making them into row and column arrays\n",
    "print(A[ np.r_[0,-1].reshape(-1,1), np.r_[0,1,2].reshape(1,-1) ])\n",
    "\n",
    "# this method .ix_ does the reshaping above for us! so we can select the rows and columns we want from a matrix easily\n",
    "print(np.ix_([0,-1], [0,1,2]))\n",
    "print( A[ np.ix_([0,-1], [0,1,2]) ]) "
   ]
  },
  {
   "cell_type": "code",
   "execution_count": 5,
   "metadata": {},
   "outputs": [
    {
     "name": "stdout",
     "output_type": "stream",
     "text": [
      "[[1 2 3 4]\n",
      " [5 6 7 8]]\n",
      "[[1 2 3 4]\n",
      " [5 6 7 8]]\n",
      "[[ 9 10 11 12]\n",
      " [ 5  6  7  8]\n",
      " [ 1  2  3  4]]\n"
     ]
    }
   ],
   "source": [
    "# something to be clear on!\n",
    "# slicing convention is \"from\", \"to\", \"by\"\n",
    "\n",
    "# I don't understand why these wo are different?\n",
    "print(A[:-1,:]) # this says: go from all, until all but one\n",
    "print(A[:-1:])\n",
    "\n",
    "# this says select all rows and columns, but move backwards through them\n",
    "print(A[::-1])"
   ]
  }
 ],
 "metadata": {
  "kernelspec": {
   "display_name": "Python 3",
   "language": "python",
   "name": "python3"
  },
  "language_info": {
   "codemirror_mode": {
    "name": "ipython",
    "version": 3
   },
   "file_extension": ".py",
   "mimetype": "text/x-python",
   "name": "python",
   "nbconvert_exporter": "python",
   "pygments_lexer": "ipython3",
   "version": "3.6.4"
  }
 },
 "nbformat": 4,
 "nbformat_minor": 2
}
