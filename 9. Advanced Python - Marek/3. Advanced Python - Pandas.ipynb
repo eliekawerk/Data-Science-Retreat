{
 "cells": [
  {
   "cell_type": "markdown",
   "metadata": {},
   "source": [
    "# Pandas!"
   ]
  },
  {
   "cell_type": "code",
   "execution_count": 21,
   "metadata": {},
   "outputs": [],
   "source": [
    "import pandas as pd\n",
    "import numpy as np\n",
    "# if you want to turn off the html output then you can run this line of code\n",
    "# pd.set_option(\"display.notebook_repr_html\", False)"
   ]
  },
  {
   "cell_type": "code",
   "execution_count": 22,
   "metadata": {},
   "outputs": [],
   "source": [
    "birth_dates = pd.read_csv(\"http://www.gagolewski.com/resources/data/birth_dates.csv\",comment=\"#\")\n",
    "flights = pd.read_csv(\"http://www.gagolewski.com/resources/data/flights.csv\",comment=\"#\")\n",
    "iris = pd.read_csv(\"http://www.gagolewski.com/resources/data/iris.csv\",comment=\"#\")\n",
    "tips = pd.read_csv(\"http://www.gagolewski.com/resources/data/tips.csv\",comment=\"#\")"
   ]
  },
  {
   "cell_type": "code",
   "execution_count": 23,
   "metadata": {},
   "outputs": [
    {
     "name": "stdout",
     "output_type": "stream",
     "text": [
      "          A      B     C\n",
      "0  0.696469   True     f\n",
      "1  0.286139  False  None\n",
      "2  0.226851   True     m\n",
      "3  0.551315   None     f\n",
      "4  0.719469   True     m\n",
      "<class 'pandas.core.frame.DataFrame'>\n"
     ]
    }
   ],
   "source": [
    "# we can define a dataframe with a dictionary, where the keys are columns\n",
    "np.random.seed(123)\n",
    "x = pd.DataFrame({ # dict\n",
    "    \"A\": np.random.rand(5),\n",
    "    \"B\": [True, False, True, None, True],\n",
    "    \"C\": [\"f\", None, \"m\", \"f\", \"m\"]\n",
    "})\n",
    "print(x)\n",
    "print(type(x))"
   ]
  },
  {
   "cell_type": "code",
   "execution_count": 24,
   "metadata": {},
   "outputs": [
    {
     "name": "stdout",
     "output_type": "stream",
     "text": [
      "   total_bill   tip     sex smoker  day    time  size\n",
      "0       16.99  1.01  Female     No  Sun  Dinner     2\n",
      "1       10.34  1.66    Male     No  Sun  Dinner     3\n",
      "2       21.01  3.50    Male     No  Sun  Dinner     3\n",
      "3       23.68  3.31    Male     No  Sun  Dinner     2\n",
      "4       24.59  3.61  Female     No  Sun  Dinner     4\n",
      "     total_bill   tip     sex smoker   day    time  size\n",
      "239       29.03  5.92    Male     No   Sat  Dinner     3\n",
      "240       27.18  2.00  Female    Yes   Sat  Dinner     2\n",
      "241       22.67  2.00    Male    Yes   Sat  Dinner     2\n",
      "242       17.82  1.75    Male     No   Sat  Dinner     2\n",
      "243       18.78  3.00  Female     No  Thur  Dinner     2\n",
      "(244, 7)\n",
      "total_bill    float64\n",
      "tip           float64\n",
      "sex            object\n",
      "smoker         object\n",
      "day            object\n",
      "time           object\n",
      "size            int64\n",
      "dtype: object\n",
      "<bound method DataFrame.info of      total_bill   tip     sex smoker   day    time  size\n",
      "0         16.99  1.01  Female     No   Sun  Dinner     2\n",
      "1         10.34  1.66    Male     No   Sun  Dinner     3\n",
      "2         21.01  3.50    Male     No   Sun  Dinner     3\n",
      "3         23.68  3.31    Male     No   Sun  Dinner     2\n",
      "4         24.59  3.61  Female     No   Sun  Dinner     4\n",
      "5         25.29  4.71    Male     No   Sun  Dinner     4\n",
      "6          8.77  2.00    Male     No   Sun  Dinner     2\n",
      "7         26.88  3.12    Male     No   Sun  Dinner     4\n",
      "8         15.04  1.96    Male     No   Sun  Dinner     2\n",
      "9         14.78  3.23    Male     No   Sun  Dinner     2\n",
      "10        10.27  1.71    Male     No   Sun  Dinner     2\n",
      "11        35.26  5.00  Female     No   Sun  Dinner     4\n",
      "12        15.42  1.57    Male     No   Sun  Dinner     2\n",
      "13        18.43  3.00    Male     No   Sun  Dinner     4\n",
      "14        14.83  3.02  Female     No   Sun  Dinner     2\n",
      "15        21.58  3.92    Male     No   Sun  Dinner     2\n",
      "16        10.33  1.67  Female     No   Sun  Dinner     3\n",
      "17        16.29  3.71    Male     No   Sun  Dinner     3\n",
      "18        16.97  3.50  Female     No   Sun  Dinner     3\n",
      "19        20.65  3.35    Male     No   Sat  Dinner     3\n",
      "20        17.92  4.08    Male     No   Sat  Dinner     2\n",
      "21        20.29  2.75  Female     No   Sat  Dinner     2\n",
      "22        15.77  2.23  Female     No   Sat  Dinner     2\n",
      "23        39.42  7.58    Male     No   Sat  Dinner     4\n",
      "24        19.82  3.18    Male     No   Sat  Dinner     2\n",
      "25        17.81  2.34    Male     No   Sat  Dinner     4\n",
      "26        13.37  2.00    Male     No   Sat  Dinner     2\n",
      "27        12.69  2.00    Male     No   Sat  Dinner     2\n",
      "28        21.70  4.30    Male     No   Sat  Dinner     2\n",
      "29        19.65  3.00  Female     No   Sat  Dinner     2\n",
      "..          ...   ...     ...    ...   ...     ...   ...\n",
      "214       28.17  6.50  Female    Yes   Sat  Dinner     3\n",
      "215       12.90  1.10  Female    Yes   Sat  Dinner     2\n",
      "216       28.15  3.00    Male    Yes   Sat  Dinner     5\n",
      "217       11.59  1.50    Male    Yes   Sat  Dinner     2\n",
      "218        7.74  1.44    Male    Yes   Sat  Dinner     2\n",
      "219       30.14  3.09  Female    Yes   Sat  Dinner     4\n",
      "220       12.16  2.20    Male    Yes   Fri   Lunch     2\n",
      "221       13.42  3.48  Female    Yes   Fri   Lunch     2\n",
      "222        8.58  1.92    Male    Yes   Fri   Lunch     1\n",
      "223       15.98  3.00  Female     No   Fri   Lunch     3\n",
      "224       13.42  1.58    Male    Yes   Fri   Lunch     2\n",
      "225       16.27  2.50  Female    Yes   Fri   Lunch     2\n",
      "226       10.09  2.00  Female    Yes   Fri   Lunch     2\n",
      "227       20.45  3.00    Male     No   Sat  Dinner     4\n",
      "228       13.28  2.72    Male     No   Sat  Dinner     2\n",
      "229       22.12  2.88  Female    Yes   Sat  Dinner     2\n",
      "230       24.01  2.00    Male    Yes   Sat  Dinner     4\n",
      "231       15.69  3.00    Male    Yes   Sat  Dinner     3\n",
      "232       11.61  3.39    Male     No   Sat  Dinner     2\n",
      "233       10.77  1.47    Male     No   Sat  Dinner     2\n",
      "234       15.53  3.00    Male    Yes   Sat  Dinner     2\n",
      "235       10.07  1.25    Male     No   Sat  Dinner     2\n",
      "236       12.60  1.00    Male    Yes   Sat  Dinner     2\n",
      "237       32.83  1.17    Male    Yes   Sat  Dinner     2\n",
      "238       35.83  4.67  Female     No   Sat  Dinner     3\n",
      "239       29.03  5.92    Male     No   Sat  Dinner     3\n",
      "240       27.18  2.00  Female    Yes   Sat  Dinner     2\n",
      "241       22.67  2.00    Male    Yes   Sat  Dinner     2\n",
      "242       17.82  1.75    Male     No   Sat  Dinner     2\n",
      "243       18.78  3.00  Female     No  Thur  Dinner     2\n",
      "\n",
      "[244 rows x 7 columns]>\n"
     ]
    }
   ],
   "source": [
    "# print first few rows\n",
    "print(tips.head())\n",
    "# print last few rows\n",
    "print(tips.tail())\n",
    "# we can find the shape of a dataframe\n",
    "print(tips.shape)\n",
    "# we can print datatype of each column\n",
    "print(tips.dtypes)\n",
    "# we can find out info of our dataframe\n",
    "print(tips.info)"
   ]
  },
  {
   "cell_type": "code",
   "execution_count": 33,
   "metadata": {},
   "outputs": [
    {
     "name": "stdout",
     "output_type": "stream",
     "text": [
      "0    0.696469\n",
      "1    0.286139\n",
      "2    0.226851\n",
      "3    0.551315\n",
      "4    0.719469\n",
      "Name: A, dtype: float64\n",
      "0    0.696469\n",
      "1    0.286139\n",
      "2    0.226851\n",
      "3    0.551315\n",
      "4    0.719469\n",
      "Name: A, dtype: float64\n",
      "0    0.696469\n",
      "1    0.286139\n",
      "2    0.226851\n",
      "3    0.551315\n",
      "4    0.719469\n",
      "Name: A, dtype: float64\n",
      "<bound method DataFrame.sum of           A      B     C\n",
      "0  0.696469   True     f\n",
      "1  0.286139  False  None\n",
      "2  0.226851   True     m\n",
      "3  0.551315   None     f\n",
      "4  0.719469   True     m>\n",
      "[0.69646919 0.28613933 0.22685145 0.55131477 0.71946897]\n",
      "float64\n"
     ]
    }
   ],
   "source": [
    "y = pd.Series([1,2,3,4])\n",
    "\n",
    "# if you want to extract a column from a dataframe, you can use loc as the best option!\n",
    "print(x.loc[:,\"A\"])\n",
    "# but you can also just do this, but it's not always great, we'll find out more\n",
    "print(x[\"A\"])\n",
    "# you can also use the . character. but we need to be careful as if you have a column called 'sum', you can't call it obvs\n",
    "print(x.A)\n",
    "print(x.sum)\n",
    "# we can then pull the values into a numpy array for example\n",
    "print(x['A'].values)\n",
    "# or ask for the dtype of that column\n",
    "print(x['A'].dtype)"
   ]
  },
  {
   "cell_type": "code",
   "execution_count": 39,
   "metadata": {},
   "outputs": [
    {
     "name": "stdout",
     "output_type": "stream",
     "text": [
      "0    0.696469\n",
      "1    0.286139\n",
      "2    0.226851\n",
      "3    0.551315\n",
      "4    0.719469\n",
      "Name: Hello, dtype: float64\n",
      "      Hello\n",
      "0  0.696469\n",
      "1  0.286139\n",
      "2  0.226851\n",
      "3  0.551315\n",
      "4  0.719469\n"
     ]
    }
   ],
   "source": [
    "# we could pull out a column of the dataframe and make it a vector\n",
    "u = x['A'].copy()\n",
    "# and then we can rename it, and this means when we put it back in the dataframe, this will be the column name\n",
    "u.name = 'Hello'\n",
    "print(u)\n",
    "print(pd.DataFrame(u))"
   ]
  },
  {
   "cell_type": "markdown",
   "metadata": {},
   "source": [
    "# Datetime"
   ]
  },
  {
   "cell_type": "code",
   "execution_count": 65,
   "metadata": {},
   "outputs": [
    {
     "name": "stdout",
     "output_type": "stream",
     "text": [
      "0   2018-10-14\n",
      "1   2018-10-21\n",
      "2   2018-10-28\n",
      "3   2018-11-04\n",
      "4   2018-11-11\n",
      "dtype: datetime64[ns]\n",
      "object\n",
      "               Name   BirthDate\n",
      "0    Hung Hyun-Seok  12.06.2000\n",
      "1  Benno Blumenthal  31.12.1918\n",
      "2  Paitoon Ornwimol  26.06.1958\n",
      "3    P'yon Yong-Sun  10.07.1947\n",
      "4    Étienne Chaney  04.09.1983\n",
      "datetime64[ns]\n",
      "               Name  BirthDate\n",
      "0    Hung Hyun-Seok 2000-06-12\n",
      "1  Benno Blumenthal 1918-12-31\n",
      "2  Paitoon Ornwimol 1958-06-26\n",
      "3    P'yon Yong-Sun 1947-07-10\n",
      "4    Étienne Chaney 1983-09-04\n"
     ]
    }
   ],
   "source": [
    "# Datetime is something tricky you work with\n",
    "# date_range is a good way to make date ranges, and makes a new datetime format\n",
    "# it will round up to start a week on Sunday\n",
    "dates = pd.Series(pd.date_range(\"2018-10-13\",periods=5,freq='w'))\n",
    "print(dates)\n",
    "\n",
    "birth_dates = pd.read_csv(\"http://www.gagolewski.com/resources/data/birth_dates.csv\",comment=\"#\")\n",
    "# let's convert the BirthDate column to a date_time datatype\n",
    "# remember to put dayfirst = True, to be sure that all dates are converted properly\n",
    "print(birth_dates['BirthDate'].dtype)\n",
    "print(birth_dates.head())\n",
    "birth_dates['BirthDate'] = pd.to_datetime(birth_dates.BirthDate,dayfirst=True)\n",
    "print(birth_dates['BirthDate'].dtype)\n",
    "print(birth_dates.head())"
   ]
  },
  {
   "cell_type": "markdown",
   "metadata": {},
   "source": [
    "# Categorical data"
   ]
  },
  {
   "cell_type": "code",
   "execution_count": 70,
   "metadata": {},
   "outputs": [
    {
     "name": "stdout",
     "output_type": "stream",
     "text": [
      "['setosa' 'versicolor' 'virginica']\n",
      "72     1\n",
      "112    2\n",
      "132    2\n",
      "88     1\n",
      "37     0\n",
      "dtype: int8\n"
     ]
    }
   ],
   "source": [
    "print(np.unique(iris[\"Species\"]))\n",
    "# we can tell pandas to interpret a column as a categorical datatype. Dtype = category!\n",
    "# we're going to randomly sample some of the data in this column\n",
    "iris[\"Species\"].astype(\"category\").sample(n=5,random_state=123)\n",
    "\n",
    "# categories are good to work with because they're represented as intergers and not strings\n",
    "# this is great because then we're close to one-hot encoding categories!\n",
    "y = iris[\"Species\"].astype(\"category\")\n",
    "print(y.cat.codes.sample(n=5,random_state=123))"
   ]
  },
  {
   "cell_type": "markdown",
   "metadata": {},
   "source": [
    "# Row & Column Indexes"
   ]
  },
  {
   "cell_type": "code",
   "execution_count": 80,
   "metadata": {},
   "outputs": [
    {
     "name": "stdout",
     "output_type": "stream",
     "text": [
      "RangeIndex(start=0, stop=5, step=1)\n",
      "Index(['A', 'B', 'C'], dtype='object')\n",
      "     Sepal.Length  Sepal.Width  Petal.Length  Petal.Width     Species\n",
      "72            6.3          2.5           4.9          1.5  versicolor\n",
      "112           6.8          3.0           5.5          2.1   virginica\n",
      "132           6.4          2.8           5.6          2.2   virginica\n",
      "88            5.6          3.0           4.1          1.3  versicolor\n",
      "37            4.9          3.6           1.4          0.1      setosa\n",
      "Int64Index([72, 112, 132, 88, 37], dtype='int64')\n",
      "   index  Sepal.Length  Sepal.Width  Petal.Length  Petal.Width     Species\n",
      "0     72           6.3          2.5           4.9          1.5  versicolor\n",
      "1    112           6.8          3.0           5.5          2.1   virginica\n",
      "2    132           6.4          2.8           5.6          2.2   virginica\n",
      "3     88           5.6          3.0           4.1          1.3  versicolor\n",
      "4     37           4.9          3.6           1.4          0.1      setosa\n",
      "   Sepal.Length  Sepal.Width  Petal.Length  Petal.Width     Species\n",
      "0           6.3          2.5           4.9          1.5  versicolor\n",
      "1           6.8          3.0           5.5          2.1   virginica\n",
      "2           6.4          2.8           5.6          2.2   virginica\n",
      "3           5.6          3.0           4.1          1.3  versicolor\n",
      "4           4.9          3.6           1.4          0.1      setosa\n"
     ]
    }
   ],
   "source": [
    "# indexes - a dataframe has 2, series has 1\n",
    "# we can assign each row with a label if we want\n",
    "print(x.index)\n",
    "# and then we can see the index of columns:\n",
    "print(x.columns)\n",
    "\n",
    "# we may have dataframes where the row index isn't sequential\n",
    "print(iris.sample(n=5,random_state=123))\n",
    "print(iris.sample(n=5,random_state=123).index)\n",
    "\n",
    "# we can go ahead and reset the index, but it prints the index as a new column, so if we don't want it, we call drop=True\n",
    "print(iris.sample(n=5,random_state=123).reset_index())\n",
    "print(iris.sample(n=5,random_state=123).reset_index(drop=True))"
   ]
  },
  {
   "cell_type": "code",
   "execution_count": 83,
   "metadata": {},
   "outputs": [
    {
     "name": "stdout",
     "output_type": "stream",
     "text": [
      "     Sepal.Length  Sepal.Width  Petal.Length  Petal.Width       Hello\n",
      "72            6.3          2.5           4.9          1.5  versicolor\n",
      "112           6.8          3.0           5.5          2.1   virginica\n",
      "132           6.4          2.8           5.6          2.2   virginica\n",
      "88            5.6          3.0           4.1          1.3  versicolor\n",
      "37            4.9          3.6           1.4          0.1      setosa\n",
      "   index     New_Col\n",
      "0     72  versicolor\n",
      "1    112   virginica\n",
      "2    132   virginica\n",
      "3     88  versicolor\n",
      "4     37      setosa\n"
     ]
    }
   ],
   "source": [
    "# we want to be able to rename something on the fly, because we're going to lots of manipulation to a column in one go, and you don't want it to be destructive\n",
    "# so we can use the rename method\n",
    "print(iris.sample(n=5,random_state=123).rename({\"Species\":\"Hello\"},axis=1))\n",
    "\n",
    "# if we want to pull a sample of dataset and make it a new DataFrame and restart the index:\n",
    "print(iris.sample(n=5,random_state=123)['Species'].reset_index(name='New_Col'))"
   ]
  },
  {
   "cell_type": "code",
   "execution_count": 84,
   "metadata": {},
   "outputs": [
    {
     "name": "stdout",
     "output_type": "stream",
     "text": [
      "Columns         A      B     C\n",
      "Rows                          \n",
      "0        0.696469   True     f\n",
      "1        0.286139  False  None\n",
      "2        0.226851   True     m\n",
      "3        0.551315   None     f\n",
      "4        0.719469   True     m\n"
     ]
    }
   ],
   "source": [
    "# we can also rename the row_index and column_index if we like\n",
    "x.index.name = \"Rows\"\n",
    "x.columns.name = \"Columns\"\n",
    "print(x)"
   ]
  },
  {
   "cell_type": "code",
   "execution_count": 87,
   "metadata": {},
   "outputs": [
    {
     "name": "stdout",
     "output_type": "stream",
     "text": [
      "Columns       B     C\n",
      "A                    \n",
      "0.696469   True     f\n",
      "0.286139  False  None\n",
      "0.226851   True     m\n",
      "0.551315   None     f\n",
      "0.719469   True     m\n",
      "Columns         A     C\n",
      "B                      \n",
      "True     0.696469     f\n",
      "False    0.286139  None\n",
      "True     0.226851     m\n",
      "NaN      0.551315     f\n",
      "True     0.719469     m\n"
     ]
    }
   ],
   "source": [
    "# we can set our index to something whatever we want as well!\n",
    "print(x.set_index(\"A\"))\n",
    "print(x.set_index(\"B\"))"
   ]
  },
  {
   "cell_type": "code",
   "execution_count": 97,
   "metadata": {},
   "outputs": [
    {
     "name": "stdout",
     "output_type": "stream",
     "text": [
      "               passengers\n",
      "year month               \n",
      "1949 January          112\n",
      "     February         118\n",
      "     March            132\n",
      "     April            129\n",
      "     May              121\n",
      "sex     smoker\n",
      "Female  No        2.773519\n",
      "        Yes       2.931515\n",
      "Male    No        3.113402\n",
      "        Yes       3.051167\n",
      "Name: tip, dtype: float64\n",
      "      sex smoker       tip\n",
      "0  Female     No  2.773519\n",
      "1  Female    Yes  2.931515\n",
      "2    Male     No  3.113402\n",
      "3    Male    Yes  3.051167\n"
     ]
    }
   ],
   "source": [
    "# we can set the index to consist of a number of columns if we want!\n",
    "# this is a heirachical index\n",
    "print(flights.set_index([\"year\",\"month\"]).head())\n",
    "\n",
    "# we need to be aware of this because some functions will return a heirachical index, like an excel pivot table\n",
    "print(tips.groupby(['sex','smoker']).tip.mean())\n",
    "# we can reset the index of these outputs to get rid of the heirachical index\n",
    "print(tips.groupby(['sex','smoker']).tip.mean().reset_index())"
   ]
  },
  {
   "cell_type": "markdown",
   "metadata": {},
   "source": [
    "# Test what we've learned so far"
   ]
  },
  {
   "cell_type": "code",
   "execution_count": 164,
   "metadata": {},
   "outputs": [
    {
     "name": "stdout",
     "output_type": "stream",
     "text": [
      "   year     month  passengers\n",
      "0  1949   January         112\n",
      "1  1949  February         118\n",
      "2  1949     March         132\n",
      "3  1949     April         129\n",
      "4  1949       May         121\n",
      "                           year     month  passengers\n",
      "0 1970-01-01 00:00:00.000001949   January         112\n",
      "1 1970-01-01 00:00:00.000001949  February         118\n",
      "2 1970-01-01 00:00:00.000001949     March         132\n",
      "3 1970-01-01 00:00:00.000001949     April         129\n",
      "4 1970-01-01 00:00:00.000001949       May         121\n",
      "            year     month  passengers\n",
      "1949-01-01  1949   January         112\n",
      "1949-02-01  1949  February         118\n",
      "1949-03-01  1949     March         132\n",
      "1949-04-01  1949     April         129\n",
      "1949-05-01  1949       May         121\n"
     ]
    },
    {
     "name": "stderr",
     "output_type": "stream",
     "text": [
      "/Users/garethjones/anaconda3/lib/python3.6/site-packages/ipykernel_launcher.py:9: FutureWarning: specifying 'categories' or 'ordered' in .astype() is deprecated; pass a CategoricalDtype instead\n",
      "  if __name__ == '__main__':\n"
     ]
    }
   ],
   "source": [
    "flights = pd.read_csv(\"http://www.gagolewski.com/resources/data/flights.csv\",comment=\"#\")\n",
    "\n",
    "# let's set the index of the passengers dataframe to be of date_time type\n",
    "print(flights.head())\n",
    "\n",
    "# my solution didn't really work!\n",
    "flights['year'] = pd.to_datetime(flights['year'],dayfirst=True)\n",
    "print(flights.head())\n",
    "y = flights['month'].astype('category',ordered=False)\n",
    "y[:12]\n",
    "\n",
    "flights = pd.read_csv(\"http://www.gagolewski.com/resources/data/flights.csv\",comment=\"#\")\n",
    "# this is Marek's solution. you can't call to_datetime on just a month name, but you can if it's month and year\n",
    "flights.index = pd.to_datetime(flights[\"month\"] + \" \" + flights[\"year\"].astype('str'))\n",
    "print(flights.head())"
   ]
  },
  {
   "cell_type": "markdown",
   "metadata": {},
   "source": [
    "# Indexing"
   ]
  },
  {
   "cell_type": "code",
   "execution_count": 165,
   "metadata": {},
   "outputs": [],
   "source": [
    "np.random.seed(123)\n",
    "b = pd.Series(np.round(np.random.uniform(0,1,10),2))\n",
    "c = b.copy()\n",
    "c.index = [\"a\", \"b\", \"c\", \"d\", \"e\", \"f\", \"g\", \"h\", \"i\", \"j\"]\n",
    "b.index = np.random.permutation(np.r_[0:10])"
   ]
  },
  {
   "cell_type": "code",
   "execution_count": 193,
   "metadata": {},
   "outputs": [
    {
     "name": "stdout",
     "output_type": "stream",
     "text": [
      "2    0.70\n",
      "1    0.29\n",
      "8    0.23\n",
      "7    0.55\n",
      "9    0.72\n",
      "4    0.42\n",
      "5    0.98\n",
      "6    0.68\n",
      "3    0.48\n",
      "0    0.39\n",
      "dtype: float64\n",
      "0.39\n",
      "0.7\n",
      "    tip     sex smoker\n",
      "0  1.01  Female     No\n",
      "1  1.66    Male     No\n",
      "2  3.50    Male     No\n",
      "3  3.31    Male     No\n",
      "4  3.61  Female     No\n",
      "0.39\n",
      "c    0.23\n",
      "d    0.55\n",
      "e    0.72\n",
      "f    0.42\n",
      "dtype: float64\n",
      "e    0.72\n",
      "g    0.98\n",
      "dtype: float64\n",
      "             total_bill       tip      size\n",
      "sex    day                                 \n",
      "Female Fri    14.145556  2.781111  2.111111\n",
      "       Sat    19.680357  2.801786  2.250000\n",
      "       Sun    19.872222  3.367222  2.944444\n",
      "       Thur   16.715312  2.575625  2.468750\n",
      "Male   Fri    19.857000  2.693000  2.100000\n",
      "       Sat    20.802542  3.083898  2.644068\n",
      "       Sun    21.887241  3.220345  2.810345\n",
      "       Thur   18.714667  2.980333  2.433333\n",
      "      total_bill       tip      size\n",
      "day                                 \n",
      "Fri    19.857000  2.693000  2.100000\n",
      "Sat    20.802542  3.083898  2.644068\n",
      "Sun    21.887241  3.220345  2.810345\n",
      "Thur   18.714667  2.980333  2.433333\n",
      "             total_bill       tip      size\n",
      "sex    day                                 \n",
      "Female Fri    14.145556  2.781111  2.111111\n",
      "       Sat    19.680357  2.801786  2.250000\n",
      "       Sun    19.872222  3.367222  2.944444\n",
      "       Thur   16.715312  2.575625  2.468750\n"
     ]
    }
   ],
   "source": [
    "# don't apply a square brackets operator on a Series to find the index number, because it works based on the label!\n",
    "print(b)\n",
    "# we would expect this to be first position, but it's the 0 label. hence as we saw earlier, don't do this!\n",
    "print(b[0])\n",
    "# instead, we should using iloc\n",
    "print(b.iloc[0])\n",
    "\n",
    "\n",
    "# the reason loc is good is when you have column names, you can select a slice using it\n",
    "print(tips.loc[:,\"tip\":\"smoker\"].head())\n",
    "# this is the same as looking for the label, but means we can use labels to slice\n",
    "print(b.loc[0])\n",
    "# we can use loc to do string slice for example\n",
    "print(c.loc[\"c\":\"f\"])\n",
    "\n",
    "# we can do a conditional boolean type slice using loc also\n",
    "print(c.loc[c>0.7])\n",
    "\n",
    "# we can use loc on a heirachical index. the result here is that the sub-index becomes the new dominant index\n",
    "x = tips.groupby([\"sex\",\"day\"]).mean()\n",
    "print(x)\n",
    "print(x.loc[\"Male\",:])\n",
    "\n",
    "# we can also do something similar using slice(None), that selects all rows\n",
    "print(x.loc[(slice(None,\"Fri\")),:])"
   ]
  },
  {
   "cell_type": "code",
   "execution_count": 244,
   "metadata": {},
   "outputs": [
    {
     "name": "stdout",
     "output_type": "stream",
     "text": [
      "   total_bill   tip   sex smoker  day    time  size\n",
      "1       10.34  1.66  Male     No  Sun  Dinner   3.0\n",
      "2       21.01  3.50  Male     No  Sun  Dinner   3.0\n",
      "3       23.68  3.31  Male     No  Sun  Dinner   2.0\n",
      "5       25.29  4.71  Male     No  Sun  Dinner   4.0\n",
      "6        8.77  2.00  Male     No  Sun  Dinner   2.0\n",
      "    total_bill   tip   sex smoker  day    time  size\n",
      "1        10.34  1.66  Male     No  Sun  Dinner   3.0\n",
      "8        15.04  1.96  Male     No  Sun  Dinner   2.0\n",
      "9        14.78  3.23  Male     No  Sun  Dinner   2.0\n",
      "10       10.27  1.71  Male     No  Sun  Dinner   2.0\n",
      "12       15.42  1.57  Male     No  Sun  Dinner   2.0\n",
      "    total_bill   tip     sex smoker  day    time  size\n",
      "23       39.42  7.58    Male     No  Sat  Dinner   4.0\n",
      "44       30.40  5.60    Male     No  Sun  Dinner   4.0\n",
      "47       32.40  6.00    Male     No  Sun  Dinner   4.0\n",
      "52       34.81  5.20  Female     No  Sun  Dinner   4.0\n",
      "59       48.27  6.73    Male     No  Sat  Dinner   4.0\n"
     ]
    }
   ],
   "source": [
    "# My solution\n",
    "\n",
    "tips = pd.read_csv(\"http://www.gagolewski.com/resources/data/tips.csv\",comment=\"#\")\n",
    "\n",
    "# 1. get data on male customers only\n",
    "# 2. choose male customers with total bill in $10-20\n",
    "# 3. choose Sat and Sun with tip > $5\n",
    "# 4. partition(split) tips: create 2 df: tips_train (80%) and tips_test (20% rows)\n",
    "\n",
    "# 1.\n",
    "male_custs = tips.where(tips['sex'] == 'Male').dropna()\n",
    "print(male_custs.head())\n",
    "\n",
    "# 2. \n",
    "male_bill = male_custs.where(male_custs['total_bill'].between(10,20)).dropna()\n",
    "print(male_bill.head())\n",
    "\n",
    "# 3.\n",
    "day_tip5 = tips[(tips['day'] == 'Sun') | (tips['day'] == 'Sat')] \n",
    "day_tip5 = day_tip5.where(day_tip5['tip'] > 5).dropna()\n",
    "print(day_tip5.head())\n",
    "\n",
    "# 4.\n",
    "index_split = len(tips.index)*0.8\n",
    "tips = tips.reset_index()\n",
    "tips_train = tips.where(tips['index'] < index_split).dropna().drop('index',axis=1)\n",
    "tips_test = tips.where(tips['index'] >= index_split).dropna().drop('index',axis=1)"
   ]
  },
  {
   "cell_type": "code",
   "execution_count": 250,
   "metadata": {},
   "outputs": [
    {
     "name": "stdout",
     "output_type": "stream",
     "text": [
      "   total_bill   tip   sex smoker  day    time  size\n",
      "1       10.34  1.66  Male     No  Sun  Dinner     3\n",
      "2       21.01  3.50  Male     No  Sun  Dinner     3\n",
      "3       23.68  3.31  Male     No  Sun  Dinner     2\n",
      "5       25.29  4.71  Male     No  Sun  Dinner     4\n",
      "6        8.77  2.00  Male     No  Sun  Dinner     2\n",
      "   total_bill   tip   sex smoker  day    time  size\n",
      "1       10.34  1.66  Male     No  Sun  Dinner     3\n",
      "2       21.01  3.50  Male     No  Sun  Dinner     3\n",
      "3       23.68  3.31  Male     No  Sun  Dinner     2\n",
      "5       25.29  4.71  Male     No  Sun  Dinner     4\n",
      "6        8.77  2.00  Male     No  Sun  Dinner     2\n",
      "    total_bill   tip   sex smoker  day    time  size\n",
      "1        10.34  1.66  Male     No  Sun  Dinner     3\n",
      "8        15.04  1.96  Male     No  Sun  Dinner     2\n",
      "9        14.78  3.23  Male     No  Sun  Dinner     2\n",
      "10       10.27  1.71  Male     No  Sun  Dinner     2\n",
      "12       15.42  1.57  Male     No  Sun  Dinner     2\n",
      "    total_bill   tip   sex smoker  day    time  size\n",
      "1        10.34  1.66  Male     No  Sun  Dinner     3\n",
      "8        15.04  1.96  Male     No  Sun  Dinner     2\n",
      "9        14.78  3.23  Male     No  Sun  Dinner     2\n",
      "10       10.27  1.71  Male     No  Sun  Dinner     2\n",
      "12       15.42  1.57  Male     No  Sun  Dinner     2\n",
      "    total_bill   tip     sex smoker  day    time  size\n",
      "23       39.42  7.58    Male     No  Sat  Dinner     4\n",
      "44       30.40  5.60    Male     No  Sun  Dinner     4\n",
      "47       32.40  6.00    Male     No  Sun  Dinner     4\n",
      "52       34.81  5.20  Female     No  Sun  Dinner     4\n",
      "59       48.27  6.73    Male     No  Sat  Dinner     4\n",
      "    total_bill   tip     sex smoker  day    time  size\n",
      "23       39.42  7.58    Male     No  Sat  Dinner     4\n",
      "44       30.40  5.60    Male     No  Sun  Dinner     4\n",
      "47       32.40  6.00    Male     No  Sun  Dinner     4\n",
      "52       34.81  5.20  Female     No  Sun  Dinner     4\n",
      "59       48.27  6.73    Male     No  Sat  Dinner     4\n",
      "(195, 7)\n",
      "(49, 7)\n"
     ]
    }
   ],
   "source": [
    "tips = pd.read_csv(\"http://www.gagolewski.com/resources/data/tips.csv\",comment=\"#\")\n",
    "\n",
    "# Marek's solution\n",
    "# 1. \n",
    "print(tips.loc[tips['sex'] == 'Male',:].head())\n",
    "# or this is another way, where the query function does everything for us\n",
    "print(tips.query(\"sex=='Male'\").head())\n",
    "\n",
    "# 2. \n",
    "print(tips.loc[(tips.sex=='Male') & (tips.total_bill.between(10,20)),:].head())\n",
    "# or\n",
    "print(tips.query(\"sex=='Male' and 10 <= total_bill <= 20\").head())\n",
    "\n",
    "# 3. \n",
    "print(tips.loc[((tips.day=='Sat') | (tips.day=='Sun')) & (tips.tip > 5)].head())\n",
    "print(tips.query( \"tip > 5 and day in ['Sat','Sun']\" ).head())\n",
    "\n",
    "# 4.\n",
    "# create random list of permutations of our indexes\n",
    "idx = np.random.permutation(np.arange(tips.shape[0]))\n",
    "list1 = idx[:int(tips.shape[0]*0.8)] # select up until the 80th %\n",
    "list2 = idx[int(tips.shape[0]*0.8):] # select beyond the 80th %\n",
    "tips_train = tips.iloc[list1,:] # select all columns of dataframe where rows are in list1\n",
    "tips_test = tips.iloc[list2,:]  # select all columns of dataframe where rows are in list2\n",
    "print(tips_train.shape)\n",
    "print(tips_test.shape)"
   ]
  }
 ],
 "metadata": {
  "kernelspec": {
   "display_name": "Python 3",
   "language": "python",
   "name": "python3"
  },
  "language_info": {
   "codemirror_mode": {
    "name": "ipython",
    "version": 3
   },
   "file_extension": ".py",
   "mimetype": "text/x-python",
   "name": "python",
   "nbconvert_exporter": "python",
   "pygments_lexer": "ipython3",
   "version": "3.6.4"
  }
 },
 "nbformat": 4,
 "nbformat_minor": 2
}
