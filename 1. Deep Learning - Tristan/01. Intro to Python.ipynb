{
 "cells": [
  {
   "cell_type": "markdown",
   "metadata": {},
   "source": [
    "Jupyter Cheat Sheet: https://www.cheatography.com/weidadeyue/cheat-sheets/jupyter-notebook/"
   ]
  },
  {
   "cell_type": "code",
   "execution_count": 1,
   "metadata": {
    "collapsed": true
   },
   "outputs": [
    {
     "data": {
      "text/plain": [
       "'I will live to age 100'"
      ]
     },
     "execution_count": 1,
     "metadata": {},
     "output_type": "execute_result"
    }
   ],
   "source": [
    "# format function\n",
    "\n",
    "a = 100\n",
    "'I will live to age {}'.format(a)"
   ]
  },
  {
   "cell_type": "code",
   "execution_count": 1,
   "metadata": {
    "collapsed": true
   },
   "outputs": [
    {
     "name": "stdout",
     "output_type": "stream",
     "text": [
      "The letter is a\n",
      "The letter is b\n",
      "The letter is c\n"
     ]
    }
   ],
   "source": [
    "# for loop using in\n",
    "\n",
    "for i in ['a','b','c']:\n",
    "    print ('The letter is {}'.format(i))"
   ]
  },
  {
   "cell_type": "code",
   "execution_count": 24,
   "metadata": {
    "collapsed": true
   },
   "outputs": [
    {
     "name": "stdout",
     "output_type": "stream",
     "text": [
      "The first letter of the alphabet is a\n",
      "The second letter of the alphabet is b\n",
      "The third letter of the alphabet is c\n",
      "The first letter of the alphabet is a\n",
      "The second letter of the alphabet is b\n",
      "The third letter of the alphabet is c\n"
     ]
    }
   ],
   "source": [
    "# for loop using zip\n",
    "\n",
    "a = ['first','second','third']\n",
    "b = ['a','b','c']\n",
    "for i,j in zip(a,b):\n",
    "    print('The {} letter of the alphabet is {}'.format(i,j))\n",
    "    \n",
    "# same using items() function and dictionary\n",
    "dic = {'a':'first','b':'second','c':'third'}\n",
    "x = dic.items()\n",
    "for i,j in x:\n",
    "    print('The {} letter of the alphabet is {}'.format(j,i))"
   ]
  },
  {
   "cell_type": "code",
   "execution_count": 3,
   "metadata": {
    "collapsed": true
   },
   "outputs": [
    {
     "name": "stdout",
     "output_type": "stream",
     "text": [
      "[20, 40, 80, 160]\n",
      "20 40 80 160 "
     ]
    }
   ],
   "source": [
    "# while loop\n",
    "\n",
    "# use empty list and append values to it\n",
    "a = []\n",
    "b = 10\n",
    "while b < 100:\n",
    "    b = b*2\n",
    "    a.append(b)\n",
    "print(a)\n",
    "\n",
    "# use end=\" \" in print function to finish print function with a space rather than new line\n",
    "a = []\n",
    "b = 10\n",
    "while b < 100:\n",
    "    b = b*2\n",
    "    print(b,end=\" \")"
   ]
  },
  {
   "cell_type": "code",
   "execution_count": 4,
   "metadata": {
    "collapsed": true
   },
   "outputs": [
    {
     "name": "stdout",
     "output_type": "stream",
     "text": [
      "1\n",
      "1 2 4 "
     ]
    }
   ],
   "source": [
    "# break function, stops for / while loop when a condition is met\n",
    "a = [1, 0, 2, 4]\n",
    "for i in a:\n",
    "    if i == 0: # double equals sign means that you are checking if the value meets the condition\n",
    "        break\n",
    "    print(i)\n",
    "    \n",
    "# continue function, skips step in for / while loop when a condition is met\n",
    "a = [1,0,2,4]\n",
    "for i in a:\n",
    "    if i == 0:\n",
    "        continue\n",
    "    print(i,end=\" \")"
   ]
  },
  {
   "cell_type": "code",
   "execution_count": 5,
   "metadata": {
    "collapsed": true
   },
   "outputs": [
    {
     "name": "stdout",
     "output_type": "stream",
     "text": [
      "Hello\n",
      "how\n",
      "are\n",
      "you?\n"
     ]
    }
   ],
   "source": [
    "# split function\n",
    "\n",
    "message = \"Hello how are you?\"\n",
    "a = message.split() # returns a list\n",
    "\n",
    "for word in a:\n",
    "\n",
    "    print(word)"
   ]
  },
  {
   "cell_type": "code",
   "execution_count": 30,
   "metadata": {},
   "outputs": [
    {
     "name": "stdout",
     "output_type": "stream",
     "text": [
      "x is 5\n",
      "x is 5\n",
      "x is 10\n"
     ]
    }
   ],
   "source": [
    "# Use global in a function to define a variable as being global outside of the function\n",
    "x = 5\n",
    "print('x is {}'.format(x))\n",
    "\n",
    "# no global function means x remains 5\n",
    "def setx(y):\n",
    "     x = y\n",
    "setx(10)\n",
    "print('x is %d' % x)\n",
    "\n",
    "# using global function means x is now updated when printing\n",
    "def setx(y):\n",
    "     global x\n",
    "     x = y\n",
    "setx(10)\n",
    "print('x is %d' % x)"
   ]
  },
  {
   "cell_type": "code",
   "execution_count": 53,
   "metadata": {},
   "outputs": [
    {
     "name": "stdout",
     "output_type": "stream",
     "text": [
      "[0, 1]\n"
     ]
    }
   ],
   "source": [
    "def fibonacci(n):\n",
    "    a = [0,1]\n",
    "    for i in range(n):\n",
    "        x = a[-1]+a[-2]\n",
    "        a.append(x)\n",
    "    print(a)\n",
    "\n",
    "fibonacci(0)"
   ]
  }
 ],
 "metadata": {
  "kernelspec": {
   "display_name": "Python 3",
   "language": "python",
   "name": "python3"
  },
  "language_info": {
   "codemirror_mode": {
    "name": "ipython",
    "version": 3
   },
   "file_extension": ".py",
   "mimetype": "text/x-python",
   "name": "python",
   "nbconvert_exporter": "python",
   "pygments_lexer": "ipython3",
   "version": "3.6.4"
  }
 },
 "nbformat": 4,
 "nbformat_minor": 2
}
