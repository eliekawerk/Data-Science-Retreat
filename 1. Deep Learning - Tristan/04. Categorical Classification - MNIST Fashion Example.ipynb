{
 "cells": [
  {
   "cell_type": "code",
   "execution_count": 3,
   "metadata": {},
   "outputs": [
    {
     "name": "stderr",
     "output_type": "stream",
     "text": [
      "/Users/garethjones/anaconda3/lib/python3.6/site-packages/h5py/__init__.py:36: FutureWarning: Conversion of the second argument of issubdtype from `float` to `np.floating` is deprecated. In future, it will be treated as `np.float64 == np.dtype(float).type`.\n",
      "  from ._conv import register_converters as _register_converters\n",
      "Using TensorFlow backend.\n",
      "/Users/garethjones/anaconda3/lib/python3.6/site-packages/matplotlib/__init__.py:955: UserWarning: Illegal line #3\n",
      "\t\"\"\"\"\n",
      "\"\n",
      "\tin file \"/Users/garethjones/anaconda3/lib/python3.6/site-packages/matplotlib/mpl-data/matplotlibrc\"\n",
      "  warnings.warn('Illegal %s' % error_details)\n",
      "/Users/garethjones/anaconda3/lib/python3.6/site-packages/matplotlib/__init__.py:955: UserWarning: Illegal line #7\n",
      "\t\"\"\"\"\n",
      "\"\n",
      "\tin file \"/Users/garethjones/anaconda3/lib/python3.6/site-packages/matplotlib/mpl-data/matplotlibrc\"\n",
      "  warnings.warn('Illegal %s' % error_details)\n",
      "\n",
      "Bad key \"Created on Thu May 24 09\" on line 4 in\n",
      "/Users/garethjones/anaconda3/lib/python3.6/site-packages/matplotlib/mpl-data/matplotlibrc.\n",
      "You probably need to get an updated matplotlibrc file from\n",
      "http://github.com/matplotlib/matplotlib/blob/master/matplotlibrc.template\n",
      "or from the matplotlib source distribution\n",
      "\n",
      "Bad key \"@author\" on line 6 in\n",
      "/Users/garethjones/anaconda3/lib/python3.6/site-packages/matplotlib/mpl-data/matplotlibrc.\n",
      "You probably need to get an updated matplotlibrc file from\n",
      "http://github.com/matplotlib/matplotlib/blob/master/matplotlibrc.template\n",
      "or from the matplotlib source distribution\n"
     ]
    },
    {
     "name": "stdout",
     "output_type": "stream",
     "text": [
      "2.2.2\n"
     ]
    }
   ],
   "source": [
    "# this cell import keras and the dataset we want to use\n",
    "import keras\n",
    "print(keras.__version__)\n",
    "from keras.datasets import fashion_mnist\n",
    "from keras import models, layers"
   ]
  },
  {
   "cell_type": "code",
   "execution_count": 4,
   "metadata": {},
   "outputs": [
    {
     "name": "stdout",
     "output_type": "stream",
     "text": [
      "_________________________________________________________________\n",
      "Layer (type)                 Output Shape              Param #   \n",
      "=================================================================\n",
      "dense_1 (Dense)              (None, 512)               401920    \n",
      "_________________________________________________________________\n",
      "dense_2 (Dense)              (None, 10)                5130      \n",
      "=================================================================\n",
      "Total params: 407,050\n",
      "Trainable params: 407,050\n",
      "Non-trainable params: 0\n",
      "_________________________________________________________________\n"
     ]
    }
   ],
   "source": [
    "model = models.Sequential()\n",
    "model.add(layers.Dense(512,activation='relu',input_shape=(28*28,)))\n",
    "model.add(layers.Dense(10,activation='softmax'))\n",
    "model.summary() # this gives a summary of the layers that are being used in the neural network\n",
    "model.compile(optimizer='rmsprop',loss='categorical_crossentropy',metrics=['accuracy']) # you compile the network before you run it"
   ]
  },
  {
   "cell_type": "code",
   "execution_count": 5,
   "metadata": {},
   "outputs": [
    {
     "name": "stderr",
     "output_type": "stream",
     "text": [
      "/Users/garethjones/anaconda3/lib/python3.6/site-packages/matplotlib/style/core.py:203: UserWarning: In /Users/garethjones/anaconda3/lib/python3.6/site-packages/matplotlib/mpl-data/stylelib/gj.mplstyle: Bad val \"cycler('color', ['DarkCerulean','Cardinal','DarkSpringGreen','Eggplant','Gamboge','Gray'])\" on line #2\n",
      "\t\"axes.prop_cycle: cycler('color', ['DarkCerulean','Cardinal','DarkSpringGreen','Eggplant','Gamboge','Gray'])\n",
      "\"\n",
      "\tin file \"/Users/garethjones/anaconda3/lib/python3.6/site-packages/matplotlib/mpl-data/stylelib/gj.mplstyle\"\n",
      "\tKey axes.prop_cycle: 'cycler('color', ['DarkCerulean','Cardinal','DarkSpringGreen','Eggplant','Gamboge','Gray'])' is not a valid cycler construction: DarkCerulean does not look like a color arg\n",
      "  warnings.warn(message)\n"
     ]
    },
    {
     "name": "stdout",
     "output_type": "stream",
     "text": [
      "Train: (60000, 28, 28)\n",
      "Test: (10000, 28, 28)\n"
     ]
    },
    {
     "data": {
      "image/png": "[encoded data removed]",
      "text/plain": [
       "<matplotlib.figure.Figure at 0x182684c160>"
      ]
     },
     "metadata": {},
     "output_type": "display_data"
    },
    {
     "name": "stdout",
     "output_type": "stream",
     "text": [
      "Before: 0\n",
      "After: [1. 0. 0. 0. 0. 0. 0. 0. 0. 0.]\n"
     ]
    }
   ],
   "source": [
    "# magic trick to make sure matplotlib works\n",
    "%matplotlib inline \n",
    "import matplotlib.pyplot as plt\n",
    "\n",
    "(train_images, train_labels), (test_images, test_labels) = fashion_mnist.load_data()\n",
    "# this shows us the number of samples, and the shape of each sample. In our case, the sample is a 2D image of 28x28 pixels\n",
    "print(\"Train:\", train_images.shape)\n",
    "print(\"Test:\", test_images.shape)\n",
    "\n",
    "# this plots the selected sample image\n",
    "# set cmap=gray to stop matplotlib applying a colormap and making the data 3D\n",
    "plt.imshow(train_images[1],cmap='gray')\n",
    "plt.title(str(train_labels[1]))\n",
    "plt.show()\n",
    "\n",
    "\n",
    "# this is data science area, essentially cleaning up the data before feeding to the model\n",
    "train_images = train_images.reshape((60000,28*28))\n",
    "train_images = train_images.astype(\"float32\")/255.0\n",
    "\n",
    "test_images = test_images.reshape((10000,28*28))\n",
    "test_images = test_images.astype(\"float32\")/255.0\n",
    "\n",
    "from keras.utils import to_categorical\n",
    "\n",
    "# categorical puts our training label into vector form, a perfect probability distribution\n",
    "# it goes through the dataset and works out how many classes there are itself\n",
    "# this is essentially one-hot encoding\n",
    "print(\"Before:\",train_labels[1])\n",
    "train_labels = to_categorical(train_labels)\n",
    "test_labels = to_categorical(test_labels)\n",
    "print(\"After:\",train_labels[1])"
   ]
  },
  {
   "cell_type": "code",
   "execution_count": 6,
   "metadata": {},
   "outputs": [
    {
     "name": "stdout",
     "output_type": "stream",
     "text": [
      "60000/60000 [==============================] - 38s 641us/step\n"
     ]
    },
    {
     "data": {
      "text/plain": [
       "[2.4750347106933592, 0.08036666666666667]"
      ]
     },
     "execution_count": 6,
     "metadata": {},
     "output_type": "execute_result"
    }
   ],
   "source": [
    "# this shows us the metrics such as accuracy, without optimising by changing the weights and biases\n",
    "# in the first instance, the weights are randomly assigned, hence every time you run this you will get different numbers\n",
    "model.evaluate(train_images,train_labels)"
   ]
  },
  {
   "cell_type": "code",
   "execution_count": 9,
   "metadata": {},
   "outputs": [
    {
     "name": "stdout",
     "output_type": "stream",
     "text": [
      "[[0.04344845 0.15515986 0.09870532 0.24375999 0.14518662 0.10539486\n",
      "  0.03525527 0.05023524 0.07343724 0.04941712]]\n",
      "The max probabilty found is 0.24375999\n",
      "The index of the max probability is 3\n",
      "[0. 0. 0. 0. 0. 0. 0. 0. 0. 1.]\n"
     ]
    }
   ],
   "source": [
    "# we use predict to show for a given sample, how likely will it be assigned to a given class\n",
    "# you use this every time you run your neural network, rather than evaluate which is used once at the end\n",
    "# the predict function (like fit and evaluate) expects a vector, rather than one number\n",
    "print(model.predict(train_images[0:1]))\n",
    "\n",
    "# we can use max to get the max probability across the classes, and argmax to show the index point along the classes\n",
    "import numpy as np\n",
    "print('The max probabilty found is', np.max(model.predict(train_images[0:1])))\n",
    "print('The index of the max probability is', np.argmax(model.predict(train_images[0:1])))\n",
    "\n",
    "# we can check whether is was right, by looking at the correctly assigned label\n",
    "print(train_labels[0])"
   ]
  },
  {
   "cell_type": "code",
   "execution_count": 42,
   "metadata": {},
   "outputs": [
    {
     "name": "stdout",
     "output_type": "stream",
     "text": [
      "Epoch 1/5\n",
      "60000/60000 [==============================] - 72s 1ms/step - loss: 0.0282 - acc: 0.9913\n",
      "Epoch 2/5\n",
      "60000/60000 [==============================] - 72s 1ms/step - loss: 0.0218 - acc: 0.9938\n",
      "Epoch 3/5\n",
      "60000/60000 [==============================] - 70s 1ms/step - loss: 0.0170 - acc: 0.9951\n",
      "Epoch 4/5\n",
      "60000/60000 [==============================] - 76s 1ms/step - loss: 0.0131 - acc: 0.9964\n",
      "Epoch 5/5\n",
      "60000/60000 [==============================] - 72s 1ms/step - loss: 0.0097 - acc: 0.9976\n"
     ]
    }
   ],
   "source": [
    "# you could change the number of epochs here if you you think you need to do more training\n",
    "# batch size will always be power of 2\n",
    "# you can do fitting as often as you like, but it won't reset the model. So if you run again, it \n",
    "# fit will return an object called history that contains lots of information about your model over time\n",
    "history = model.fit(train_images,train_labels,epochs=5,batch_size=128)"
   ]
  },
  {
   "cell_type": "code",
   "execution_count": 45,
   "metadata": {},
   "outputs": [
    {
     "data": {
      "image/png": "[encoded data removed]",
      "text/plain": [
       "<matplotlib.figure.Figure at 0x183546b9e8>"
      ]
     },
     "metadata": {},
     "output_type": "display_data"
    },
    {
     "data": {
      "image/png": "[encoded data removed]",
      "text/plain": [
       "<matplotlib.figure.Figure at 0x183558ed30>"
      ]
     },
     "metadata": {},
     "output_type": "display_data"
    }
   ],
   "source": [
    "# we can then plot elements of history that are stored such as loss and accuracy of the model over time\n",
    "plt.plot(history.history['loss'],label='Loss')\n",
    "plt.legend()\n",
    "plt.show()\n",
    "plt.close()\n",
    "\n",
    "plt.plot(history.history[\"acc\"],label='Accuracy')\n",
    "plt.legend()\n",
    "plt.show()\n",
    "plt.close()"
   ]
  },
  {
   "cell_type": "code",
   "execution_count": 17,
   "metadata": {},
   "outputs": [
    {
     "name": "stdout",
     "output_type": "stream",
     "text": [
      "60000/60000 [==============================] - 40s 662us/step\n",
      "0.022688862531185926 0.9934166666666666\n"
     ]
    }
   ],
   "source": [
    "test_loss, test_acc = model.evaluate(train_images,train_labels)\n",
    "print(test_loss,test_acc)\n",
    "\n",
    "# you can do this again with test images and labels to see if the model is working "
   ]
  },
  {
   "cell_type": "code",
   "execution_count": null,
   "metadata": {},
   "outputs": [],
   "source": []
  }
 ],
 "metadata": {
  "kernelspec": {
   "display_name": "Python 3",
   "language": "python",
   "name": "python3"
  },
  "language_info": {
   "codemirror_mode": {
    "name": "ipython",
    "version": 3
   },
   "file_extension": ".py",
   "mimetype": "text/x-python",
   "name": "python",
   "nbconvert_exporter": "python",
   "pygments_lexer": "ipython3",
   "version": "3.6.4"
  }
 },
 "nbformat": 4,
 "nbformat_minor": 2
}
