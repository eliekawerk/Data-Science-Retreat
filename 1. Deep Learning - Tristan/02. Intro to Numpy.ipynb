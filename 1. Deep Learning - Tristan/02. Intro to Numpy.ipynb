{
 "cells": [
  {
   "cell_type": "markdown",
   "metadata": {},
   "source": [
    "Numpy tutorial can be found online at: www.tutorialspoint.com/numpy\n",
    "Numpy cheat sheet https://s3.amazonaws.com/assets.datacamp.com/blog_assets/Numpy_Python_Cheat_Sheet.pdf"
   ]
  },
  {
   "cell_type": "code",
   "execution_count": 23,
   "metadata": {},
   "outputs": [
    {
     "name": "stdout",
     "output_type": "stream",
     "text": [
      "[1 2 3 4 5]\n",
      "[ 0  1  2  3  4  5  6  7  8  9 10 11 12 13 14 15 16 17]\n",
      "1\n",
      "[[ 0  1  2  3  4  5]\n",
      " [ 6  7  8  9 10 11]\n",
      " [12 13 14 15 16 17]]\n",
      "1\n",
      "[-9223372036854775808 -8070441736889495990      140725734932482]\n",
      "[[0 0]\n",
      " [0 0]\n",
      " [0 0]]\n",
      "[[1 1 1 1 1]\n",
      " [1 1 1 1 1]\n",
      " [1 1 1 1 1]\n",
      " [1 1 1 1 1]\n",
      " [1 1 1 1 1]]\n",
      "[1. 2. 3. 4. 5. 6.]\n",
      "[10. 15. 20. 25. 30. 35. 40. 45. 50.]\n",
      "[10.         14.44444444 18.88888889 23.33333333 27.77777778 32.22222222\n",
      " 36.66666667 41.11111111 45.55555556]\n",
      "[[ 0  1  2  3]\n",
      " [ 4  5  6  7]\n",
      " [ 8  9 10 11]\n",
      " [12 13 14 15]\n",
      " [16 17 18 19]]\n",
      "[ 0  1  2  3  4  5  6  7  8  9 10 11 12 13 14 15 16 17 18 19]\n",
      "['Hello, how are you?' 'Yes' 'No']\n",
      "['Hello, How Are You?' 'Yes' 'No']\n",
      "['HelloHelloHello']\n"
     ]
    }
   ],
   "source": [
    "# .array() creates an array of specified values\n",
    "# .dtype defines the type of value created\n",
    "import numpy as np\n",
    "a = np.array([1,2,3,4,5],dtype=int)\n",
    "print(a)\n",
    "\n",
    "# .arange() creates a 1D array up to specified value\n",
    "a = np.arange(18)\n",
    "print(a)\n",
    "\n",
    "# .ndim() shows the total number of dimensions\n",
    "print(a.ndim) \n",
    "\n",
    "# .reshape() allows you to change the number of dimensions\n",
    "print(a.reshape(3,6))\n",
    "print(a.ndim) \n",
    "\n",
    "# .empty() creates an empty array of specified size, initial random variables are given until they are initialised\n",
    "a = np.empty([3],dtype=int)\n",
    "print(a)\n",
    "\n",
    "# .zeros()) creates an array of zeros of specified size\n",
    "a = np.zeros([3,2],dtype=int)\n",
    "print(a)\n",
    "\n",
    "# .ones() creates an array of ones of specified size\n",
    "a = np.ones([5,5],dtype=int)\n",
    "print(a)\n",
    "\n",
    "# .asarray() turns existing data into a np array\n",
    "x = [1,2,3,4,5,6]\n",
    "y = np.asarray(x,dtype=float)\n",
    "print(y)\n",
    "\n",
    "# .linspace() creates array of x number of steps, for given start and stop points\n",
    "x = np.linspace(10,50,9)\n",
    "print(x)\n",
    "y = np.linspace(10,50,9,endpoint=False) # means final stop is not included in array\n",
    "print(y)\n",
    "\n",
    "# .flatten() can be used to reduce an array to 1D\n",
    "a = np.arange(20)\n",
    "a = a.reshape(5,4)\n",
    "print(a)\n",
    "a = a.flatten()\n",
    "print(a)\n",
    "\n",
    "\n",
    "\n",
    "# STRING FUNCTIONS\n",
    "\n",
    "# char.capitalize() creates array with only first letter capatialised\n",
    "a = np.char.capitalize(['hello, how are you?','yes','no'])\n",
    "print(a)\n",
    "\n",
    "# char.title() creates array with every string element capiltalised\n",
    "a = np.char.title(['hello, how are you?','yes','no'])\n",
    "print(a)\n",
    "\n",
    "# char.multiply() creates an array of x times a given string\n",
    "a = np.char.multiply(['Hello'],3)\n",
    "print(a)\n",
    "\n",
    "\n"
   ]
  },
  {
   "cell_type": "code",
   "execution_count": null,
   "metadata": {},
   "outputs": [],
   "source": []
  }
 ],
 "metadata": {
  "kernelspec": {
   "display_name": "Python 3",
   "language": "python",
   "name": "python3"
  },
  "language_info": {
   "codemirror_mode": {
    "name": "ipython",
    "version": 3
   },
   "file_extension": ".py",
   "mimetype": "text/x-python",
   "name": "python",
   "nbconvert_exporter": "python",
   "pygments_lexer": "ipython3",
   "version": "3.6.4"
  }
 },
 "nbformat": 4,
 "nbformat_minor": 2
}
