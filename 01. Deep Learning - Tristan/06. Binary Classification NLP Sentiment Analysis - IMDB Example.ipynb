{
 "cells": [
  {
   "cell_type": "code",
   "execution_count": 1,
   "metadata": {},
   "outputs": [
    {
     "name": "stderr",
     "output_type": "stream",
     "text": [
      "/Users/garethjones/anaconda3/lib/python3.6/site-packages/h5py/__init__.py:36: FutureWarning: Conversion of the second argument of issubdtype from `float` to `np.floating` is deprecated. In future, it will be treated as `np.float64 == np.dtype(float).type`.\n",
      "  from ._conv import register_converters as _register_converters\n",
      "Using TensorFlow backend.\n",
      "/Users/garethjones/anaconda3/lib/python3.6/site-packages/matplotlib/__init__.py:955: UserWarning: Illegal line #3\n",
      "\t\"\"\"\"\n",
      "\"\n",
      "\tin file \"/Users/garethjones/anaconda3/lib/python3.6/site-packages/matplotlib/mpl-data/matplotlibrc\"\n",
      "  warnings.warn('Illegal %s' % error_details)\n",
      "/Users/garethjones/anaconda3/lib/python3.6/site-packages/matplotlib/__init__.py:955: UserWarning: Illegal line #7\n",
      "\t\"\"\"\"\n",
      "\"\n",
      "\tin file \"/Users/garethjones/anaconda3/lib/python3.6/site-packages/matplotlib/mpl-data/matplotlibrc\"\n",
      "  warnings.warn('Illegal %s' % error_details)\n",
      "\n",
      "Bad key \"Created on Thu May 24 09\" on line 4 in\n",
      "/Users/garethjones/anaconda3/lib/python3.6/site-packages/matplotlib/mpl-data/matplotlibrc.\n",
      "You probably need to get an updated matplotlibrc file from\n",
      "http://github.com/matplotlib/matplotlib/blob/master/matplotlibrc.template\n",
      "or from the matplotlib source distribution\n",
      "\n",
      "Bad key \"@author\" on line 6 in\n",
      "/Users/garethjones/anaconda3/lib/python3.6/site-packages/matplotlib/mpl-data/matplotlibrc.\n",
      "You probably need to get an updated matplotlibrc file from\n",
      "http://github.com/matplotlib/matplotlib/blob/master/matplotlibrc.template\n",
      "or from the matplotlib source distribution\n"
     ]
    }
   ],
   "source": [
    "import keras\n",
    "from keras.datasets import imdb\n",
    "# num_words uses the x many most common words in the vocabulary (or the word index)\n",
    "(train_data,train_labels),(test_data,test_labels) = imdb.load_data(num_words=10000)"
   ]
  },
  {
   "cell_type": "code",
   "execution_count": 2,
   "metadata": {},
   "outputs": [
    {
     "name": "stdout",
     "output_type": "stream",
     "text": [
      "(25000,)\n",
      "(25000,)\n",
      "(25000,)\n",
      "(25000,)\n",
      "2494\n",
      "11\n",
      "238.71364\n",
      "2494\n",
      "11\n",
      "238.71364\n"
     ]
    }
   ],
   "source": [
    "import numpy as np\n",
    "\n",
    "# do some things here to understand what's the shape, what are the labels etc?\n",
    "# the max length of a neural network is 25000\n",
    "print(train_data.shape)\n",
    "print(test_data.shape)\n",
    "print(train_labels.shape)\n",
    "print(test_labels.shape)\n",
    "\n",
    "# let's find out the min, max, avg length of each sample in the dataset. My way to do this would be:\n",
    "a = []\n",
    "for i in train_data:\n",
    "    temp = len(i)\n",
    "    a.append(temp)\n",
    "print(max(a))\n",
    "print(min(a))\n",
    "print(np.mean(a))\n",
    "\n",
    "# a more concise way to write this method would be the following using a list comprehension\n",
    "\n",
    "b = [len(i) for i in train_data]\n",
    "print(max(b))\n",
    "print(min(b))\n",
    "print(np.mean(b))"
   ]
  },
  {
   "cell_type": "code",
   "execution_count": 3,
   "metadata": {},
   "outputs": [
    {
     "name": "stdout",
     "output_type": "stream",
     "text": [
      "88584\n",
      "1 14 22 16 43 530 973 1622 1385 65 458 4468 66 3941 4 173 36 256 5 25 100 43 838 112 50 670 2 9 35 480 284 5 150 4 172 112 167 2 336 385 39 4 172 4536 1111 17 546 38 13 447 4 192 50 16 6 147 2025 19 14 22 4 1920 4613 469 4 22 71 87 12 16 43 530 38 76 15 13 1247 4 22 17 515 17 12 16 626 18 2 5 62 386 12 8 316 8 106 5 4 2223 5244 16 480 66 3785 33 4 130 12 16 38 619 5 25 124 51 36 135 48 25 1415 33 6 22 12 215 28 77 52 5 14 407 16 82 2 8 4 107 117 5952 15 256 4 2 7 3766 5 723 36 71 43 530 476 26 400 317 46 7 4 2 1029 13 104 88 4 381 15 297 98 32 2071 56 26 141 6 194 7486 18 4 226 22 21 134 476 26 480 5 144 30 5535 18 51 36 28 224 92 25 104 4 226 65 16 38 1334 88 12 16 283 5 16 4472 113 103 32 15 16 5345 19 178 32\n",
      "? this film was just brilliant casting location scenery story direction everyone's really suited the part they played and you could just imagine being there robert ? is an amazing actor and now the same being director ? father came from the same scottish island as myself so i loved the fact there was a real connection with this film the witty remarks throughout the film were great it was just brilliant so much that i bought the film as soon as it was released for ? and would recommend it to everyone to watch and the fly fishing was amazing really cried at the end it was so sad and you know what they say if you cry at a film it must have been good and this definitely was also ? to the two little boy's that played the ? of norman and paul they were just brilliant children are often left out of the ? list i think because the stars that play them all grown up are such a big profile for the whole film but these children are amazing and should be praised for what they have done don't you think the whole story was so lovely because it was true and was someone's life after all that was shared with us all\n"
     ]
    }
   ],
   "source": [
    "# let's work out what the hell is written here. The person who did some pre-processing kindly has already made a word index for us\n",
    "# the word index shows each word and it's index position based on how common it is\n",
    "word_index = imdb.get_word_index()\n",
    "print(len(word_index))\n",
    "\n",
    "# this loop goes through the items which are the key:value pairs using items()\n",
    "# we then reverse the value / key position\n",
    "reverse_word_index = dict([(value,key) for (key,value) in word_index.items()])\n",
    "\n",
    "# now we have a word index, we can decode our dataset into strings\n",
    "review = train_data[0]\n",
    "decoded_review = \" \".join(\n",
    "    [str(index) for index in review]\n",
    ")\n",
    "print(decoded_review)\n",
    "\n",
    "# .get() goes to the index and says if the number given exists, print the index, if the number isn't there, then print ?\n",
    "# we have to -3 from the index because there are normally 3 reserved words in NLP\n",
    "decoded_review = \" \".join(\n",
    "    [reverse_word_index.get(index-3,'?') for index in review]\n",
    ")\n",
    "print(decoded_review)"
   ]
  },
  {
   "cell_type": "code",
   "execution_count": 4,
   "metadata": {},
   "outputs": [
    {
     "name": "stdout",
     "output_type": "stream",
     "text": [
      "[0. 1. 1. ... 0. 0. 0.]\n",
      "(25000, 10000)\n"
     ]
    }
   ],
   "source": [
    "def vectorize_sequences(sequences, dimension=10000):\n",
    "    results = np.zeros((len(sequences),dimension))\n",
    "    for i, sequence in enumerate(sequences):\n",
    "        results[i,sequence] = 1.0 # this is 2D indexing called fancy indexing. we put to a float because it's built on tensorflow which inputs floats\n",
    "    return results\n",
    "\n",
    "x_train = vectorize_sequences(train_data)\n",
    "x_test = vectorize_sequences(test_data)\n",
    "print(x_train[0])\n",
    "print(x_train.shape)"
   ]
  },
  {
   "cell_type": "code",
   "execution_count": 6,
   "metadata": {},
   "outputs": [
    {
     "name": "stdout",
     "output_type": "stream",
     "text": [
      "(25000,)\n",
      "(25000,)\n"
     ]
    }
   ],
   "source": [
    "y_train = np.asarray(train_labels).astype(\"float32\")\n",
    "y_test = np.asarray(test_labels).astype(\"float32\")\n",
    "print(y_train.shape)\n",
    "print(y_test.shape)"
   ]
  },
  {
   "cell_type": "code",
   "execution_count": null,
   "metadata": {},
   "outputs": [],
   "source": [
    "from keras import models, layers\n",
    "model = models.Sequential()\n",
    "# input shape is 10,000 because we turned each sample review into a one-hot encoded matrix\n",
    "# of width 10,000. It's therefore is the number of features we provide the network in one go\n",
    "model.add(layers.Dense(16,activation=\"relu\",input_shape=(10000,)))\n",
    "model.add(layers.Dense(16,activation=\"relu\"))\n",
    "model.add(layers.Dense(1, activation=\"sigmoid\"))\n",
    "\n",
    "model.summary()\n",
    "\n",
    "# we can use this approach to see the total list of optimizers / loss functions / metrics available etc\n",
    "# from keras import optimizers, losses, metrics\n",
    "# model.compile(optimizer=optimizers.RMSprop(lr=0.001),\n",
    "#              loss=losses.binary_crossentropy(),\n",
    "#              metrics=[metrics.binary_accuracy])\n",
    "\n",
    "# we use cross entropy because this is a probability distribution. but we use a binary one in this case\n",
    "model.compile(optimizer=\"rmsprop\",loss=\"binary_crossentropy\",metrics=[\"accuracy\"])"
   ]
  },
  {
   "cell_type": "code",
   "execution_count": null,
   "metadata": {},
   "outputs": [],
   "source": [
    "# let's create a validation dataset that's a small slice of the training data\n",
    "# we have 25000 samples, so let's choose a subset of that\n",
    "x_val = x_train[:10000]\n",
    "partial_x_train = x_train[10000:]\n",
    "\n",
    "# then we do the same for our labels\n",
    "y_val = y_train[:10000]\n",
    "partial_y_train = y_train[10000:]"
   ]
  },
  {
   "cell_type": "code",
   "execution_count": null,
   "metadata": {},
   "outputs": [],
   "source": [
    "# let's put the data into the model\n",
    "history = model.fit(partial_x_train,partial_y_train,\n",
    "          epochs=20,\n",
    "          batch_size=512,\n",
    "          validation_data=(x_val,y_val))"
   ]
  },
  {
   "cell_type": "code",
   "execution_count": null,
   "metadata": {},
   "outputs": [],
   "source": [
    "import matplotlib.pyplot as plt\n",
    "\n",
    "r = range(1, len(history.history['acc'])+1)\n",
    "\n",
    "plt.plot(r, history.history[\"acc\"], label = \"Accuracy\")\n",
    "plt.plot(r,history.history[\"val_acc\"],label=\"Validation Accuracy\")\n",
    "plt.legend()\n",
    "plt.show()\n",
    "plt.close()\n",
    "\n",
    "plt.plot(r,history.history[\"loss\"],label=\"Loss\")\n",
    "plt.plot(r,history.history[\"val_loss\"],label=\"Validation Loss\")\n",
    "plt.legend()\n",
    "plt.show()\n",
    "plt.close()\n"
   ]
  },
  {
   "cell_type": "code",
   "execution_count": null,
   "metadata": {},
   "outputs": [],
   "source": []
  }
 ],
 "metadata": {
  "kernelspec": {
   "display_name": "Python 3",
   "language": "python",
   "name": "python3"
  },
  "language_info": {
   "codemirror_mode": {
    "name": "ipython",
    "version": 3
   },
   "file_extension": ".py",
   "mimetype": "text/x-python",
   "name": "python",
   "nbconvert_exporter": "python",
   "pygments_lexer": "ipython3",
   "version": "3.6.4"
  }
 },
 "nbformat": 4,
 "nbformat_minor": 2
}
