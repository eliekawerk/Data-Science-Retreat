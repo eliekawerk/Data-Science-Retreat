{
 "cells": [
  {
   "cell_type": "markdown",
   "metadata": {},
   "source": [
    "### We will see in this notebook how to de-noise data using an autoencoder\n",
    "##### Run this on colab GPU"
   ]
  },
  {
   "cell_type": "code",
   "execution_count": 4,
   "metadata": {
    "colab": {
     "base_uri": "https://localhost:8080/",
     "height": 51
    },
    "colab_type": "code",
    "id": "eR30rwAVZaa8",
    "outputId": "7e938c10-f36c-4571-9118-ba237ffb1dd4"
   },
   "outputs": [
    {
     "name": "stdout",
     "output_type": "stream",
     "text": [
      "Downloading data from https://s3.amazonaws.com/img-datasets/mnist.npz\n",
      "11493376/11490434 [==============================] - 0s 0us/step\n"
     ]
    }
   ],
   "source": [
    "from keras.datasets import mnist\n",
    "import numpy as np\n",
    "\n",
    "(x_train,_),(x_test,_) = mnist.load_data()"
   ]
  },
  {
   "cell_type": "code",
   "execution_count": 0,
   "metadata": {
    "colab": {},
    "colab_type": "code",
    "id": "2nynOJLoZxZ6"
   },
   "outputs": [],
   "source": [
    "# normalise the data\n",
    "x_train = x_train.astype('float32')/255.0\n",
    "x_test = x_test.astype('float32')/255.0\n",
    "\n",
    "# reshape the data\n",
    "# we need 3D because we're going to do convolution\n",
    "x_train = x_train.reshape((-1,28,28,1))\n",
    "x_test = x_test.reshape((-1,28,28,1))"
   ]
  },
  {
   "cell_type": "code",
   "execution_count": 0,
   "metadata": {
    "colab": {},
    "colab_type": "code",
    "id": "ZtLWDVwbaBdG"
   },
   "outputs": [],
   "source": [
    "noise_factor = 0.5\n",
    "x_train_noisy = x_train + noise_factor*np.random.normal(loc=0.0,scale=1.0,size=(60000,28,28,1))\n",
    "x_test_noisy = x_test + noise_factor*np.random.normal(loc=0.0,scale=1.0,size=(10000,28,28,1))\n",
    "x_train_noisy = np.clip(x_train_noisy,0.0,1.0)\n",
    "x_test_noisy = np.clip(x_test_noisy,0.0,1.0)"
   ]
  },
  {
   "cell_type": "code",
   "execution_count": 7,
   "metadata": {
    "colab": {
     "base_uri": "https://localhost:8080/",
     "height": 125
    },
    "colab_type": "code",
    "id": "56AeoQovazVk",
    "outputId": "ef4aca02-f2b6-4a89-f9ee-7cef14f80dd3"
   },
   "outputs": [
    {
     "data": {
      "image/png": "[encoded data removed]",
      "text/plain": [
       "<matplotlib.figure.Figure at 0x7fbc1fe105f8>"
      ]
     },
     "metadata": {
      "tags": []
     },
     "output_type": "display_data"
    }
   ],
   "source": [
    "import matplotlib.pyplot as plt\n",
    "n = 10\n",
    "plt.figure(figsize=(20,4))\n",
    "for i in range(n):\n",
    "  ax = plt.subplot(1,n,i+1)\n",
    "  plt.imshow(x_train_noisy[i].reshape(28,28),cmap='gray')\n",
    "  ax.get_xaxis().set_visible(False)\n",
    "  ax.get_yaxis().set_visible(False)"
   ]
  },
  {
   "cell_type": "code",
   "execution_count": 8,
   "metadata": {
    "colab": {
     "base_uri": "https://localhost:8080/",
     "height": 476
    },
    "colab_type": "code",
    "id": "N8II3j1NbaKG",
    "outputId": "89d2b03c-67ba-4a20-8c04-425a9b0bf5c8"
   },
   "outputs": [
    {
     "name": "stdout",
     "output_type": "stream",
     "text": [
      "_________________________________________________________________\n",
      "Layer (type)                 Output Shape              Param #   \n",
      "=================================================================\n",
      "input_2 (InputLayer)         (None, 28, 28, 1)         0         \n",
      "_________________________________________________________________\n",
      "conv2d_6 (Conv2D)            (None, 28, 28, 32)        320       \n",
      "_________________________________________________________________\n",
      "max_pooling2d_3 (MaxPooling2 (None, 14, 14, 32)        0         \n",
      "_________________________________________________________________\n",
      "conv2d_7 (Conv2D)            (None, 14, 14, 32)        9248      \n",
      "_________________________________________________________________\n",
      "max_pooling2d_4 (MaxPooling2 (None, 7, 7, 32)          0         \n",
      "_________________________________________________________________\n",
      "conv2d_8 (Conv2D)            (None, 7, 7, 32)          9248      \n",
      "_________________________________________________________________\n",
      "up_sampling2d_3 (UpSampling2 (None, 14, 14, 32)        0         \n",
      "_________________________________________________________________\n",
      "conv2d_9 (Conv2D)            (None, 14, 14, 32)        9248      \n",
      "_________________________________________________________________\n",
      "up_sampling2d_4 (UpSampling2 (None, 28, 28, 32)        0         \n",
      "_________________________________________________________________\n",
      "conv2d_10 (Conv2D)           (None, 28, 28, 1)         289       \n",
      "=================================================================\n",
      "Total params: 28,353\n",
      "Trainable params: 28,353\n",
      "Non-trainable params: 0\n",
      "_________________________________________________________________\n"
     ]
    }
   ],
   "source": [
    "from keras import layers,models\n",
    "\n",
    "input_img = layers.Input(shape=(28,28,1))\n",
    "x = layers.Conv2D(32,(3,3),activation='relu',padding='same')(input_img) # padding fills the space where the convolution window doesn't reach the edges of our image\n",
    "x = layers.MaxPooling2D((2,2),padding='same')(x)\n",
    "x = layers.Conv2D(32,(3,3),activation='relu',padding='same')(x)\n",
    "encoded = layers.MaxPooling2D((2,2),padding='same')(x)\n",
    "\n",
    "x = layers.Conv2D(32,(3,3),activation='relu',padding='same')(encoded)\n",
    "x = layers.UpSampling2D((2,2))(x) # this layer is the opposite to maxpooling. it adds more detail\n",
    "x = layers.Conv2D(32,(3,3),activation='relu',padding='same')(x)\n",
    "x = layers.UpSampling2D((2,2))(x)\n",
    "decoded = layers.Conv2D(1,(3,3),activation='sigmoid',padding='same')(x)\n",
    "\n",
    "autoencoder = models.Model(input_img,decoded)\n",
    "autoencoder.compile(\n",
    "  optimizer='adadelta',\n",
    "  loss = 'binary_crossentropy'\n",
    ")\n",
    "autoencoder.summary()"
   ]
  },
  {
   "cell_type": "code",
   "execution_count": 9,
   "metadata": {
    "cellView": "both",
    "colab": {
     "base_uri": "https://localhost:8080/",
     "height": 3451
    },
    "colab_type": "code",
    "id": "0RlpaR3-ekYL",
    "outputId": "201907ef-aa5e-4a65-f8d4-a92c07783615"
   },
   "outputs": [
    {
     "name": "stdout",
     "output_type": "stream",
     "text": [
      "Train on 60000 samples, validate on 10000 samples\n",
      "Epoch 1/100\n",
      "60000/60000 [==============================] - 12s 208us/step - loss: 0.1774 - val_loss: 0.1240\n",
      "Epoch 2/100\n",
      "60000/60000 [==============================] - 8s 139us/step - loss: 0.1189 - val_loss: 0.1104\n",
      "Epoch 3/100\n",
      "60000/60000 [==============================] - 8s 135us/step - loss: 0.1113 - val_loss: 0.1102\n",
      "Epoch 4/100\n",
      "60000/60000 [==============================] - 8s 135us/step - loss: 0.1079 - val_loss: 0.1039\n",
      "Epoch 5/100\n",
      "60000/60000 [==============================] - 8s 136us/step - loss: 0.1057 - val_loss: 0.1052\n",
      "Epoch 6/100\n",
      "60000/60000 [==============================] - 8s 139us/step - loss: 0.1042 - val_loss: 0.1025\n",
      "Epoch 7/100\n",
      "60000/60000 [==============================] - 8s 135us/step - loss: 0.1031 - val_loss: 0.1017\n",
      "Epoch 8/100\n",
      "60000/60000 [==============================] - 8s 136us/step - loss: 0.1024 - val_loss: 0.1001\n",
      "Epoch 9/100\n",
      "60000/60000 [==============================] - 8s 135us/step - loss: 0.1016 - val_loss: 0.1003\n",
      "Epoch 10/100\n",
      "60000/60000 [==============================] - 8s 134us/step - loss: 0.1009 - val_loss: 0.1017\n",
      "Epoch 11/100\n",
      "60000/60000 [==============================] - 8s 135us/step - loss: 0.1006 - val_loss: 0.0987\n",
      "Epoch 12/100\n",
      "60000/60000 [==============================] - 8s 134us/step - loss: 0.1000 - val_loss: 0.0993\n",
      "Epoch 13/100\n",
      "60000/60000 [==============================] - 8s 133us/step - loss: 0.0997 - val_loss: 0.0981\n",
      "Epoch 14/100\n",
      "60000/60000 [==============================] - 8s 130us/step - loss: 0.0994 - val_loss: 0.0981\n",
      "Epoch 15/100\n",
      "60000/60000 [==============================] - 8s 131us/step - loss: 0.0991 - val_loss: 0.0975\n",
      "Epoch 16/100\n",
      "60000/60000 [==============================] - 8s 131us/step - loss: 0.0989 - val_loss: 0.0977\n",
      "Epoch 17/100\n",
      "60000/60000 [==============================] - 8s 134us/step - loss: 0.0987 - val_loss: 0.0984\n",
      "Epoch 18/100\n",
      "60000/60000 [==============================] - 8s 134us/step - loss: 0.0985 - val_loss: 0.0972\n",
      "Epoch 19/100\n",
      "60000/60000 [==============================] - 8s 129us/step - loss: 0.0983 - val_loss: 0.0973\n",
      "Epoch 20/100\n",
      "60000/60000 [==============================] - 8s 130us/step - loss: 0.0981 - val_loss: 0.0994\n",
      "Epoch 21/100\n",
      "60000/60000 [==============================] - 8s 133us/step - loss: 0.0979 - val_loss: 0.0973\n",
      "Epoch 22/100\n",
      "60000/60000 [==============================] - 8s 133us/step - loss: 0.0978 - val_loss: 0.0976\n",
      "Epoch 23/100\n",
      "60000/60000 [==============================] - 8s 131us/step - loss: 0.0975 - val_loss: 0.0964\n",
      "Epoch 24/100\n",
      "60000/60000 [==============================] - 8s 131us/step - loss: 0.0975 - val_loss: 0.0962\n",
      "Epoch 25/100\n",
      "60000/60000 [==============================] - 8s 131us/step - loss: 0.0973 - val_loss: 0.0970\n",
      "Epoch 26/100\n",
      "60000/60000 [==============================] - 8s 128us/step - loss: 0.0971 - val_loss: 0.0970\n",
      "Epoch 27/100\n",
      "60000/60000 [==============================] - 8s 129us/step - loss: 0.0970 - val_loss: 0.0961\n",
      "Epoch 28/100\n",
      "60000/60000 [==============================] - 8s 128us/step - loss: 0.0969 - val_loss: 0.0959\n",
      "Epoch 29/100\n",
      "60000/60000 [==============================] - 8s 129us/step - loss: 0.0967 - val_loss: 0.0957\n",
      "Epoch 30/100\n",
      "60000/60000 [==============================] - 8s 127us/step - loss: 0.0967 - val_loss: 0.0956\n",
      "Epoch 31/100\n",
      "60000/60000 [==============================] - 8s 130us/step - loss: 0.0966 - val_loss: 0.0975\n",
      "Epoch 32/100\n",
      "60000/60000 [==============================] - 8s 132us/step - loss: 0.0965 - val_loss: 0.0958\n",
      "Epoch 33/100\n",
      "60000/60000 [==============================] - 8s 130us/step - loss: 0.0965 - val_loss: 0.0963\n",
      "Epoch 34/100\n",
      "60000/60000 [==============================] - 8s 131us/step - loss: 0.0963 - val_loss: 0.0959\n",
      "Epoch 35/100\n",
      "60000/60000 [==============================] - 8s 131us/step - loss: 0.0963 - val_loss: 0.0962\n",
      "Epoch 36/100\n",
      "60000/60000 [==============================] - 8s 130us/step - loss: 0.0962 - val_loss: 0.0954\n",
      "Epoch 37/100\n",
      "60000/60000 [==============================] - 8s 130us/step - loss: 0.0960 - val_loss: 0.0950\n",
      "Epoch 38/100\n",
      "60000/60000 [==============================] - 8s 133us/step - loss: 0.0960 - val_loss: 0.0952\n",
      "Epoch 39/100\n",
      "60000/60000 [==============================] - 8s 133us/step - loss: 0.0959 - val_loss: 0.0950\n",
      "Epoch 40/100\n",
      "60000/60000 [==============================] - 8s 134us/step - loss: 0.0959 - val_loss: 0.0948\n",
      "Epoch 41/100\n",
      "60000/60000 [==============================] - 8s 133us/step - loss: 0.0958 - val_loss: 0.0955\n",
      "Epoch 42/100\n",
      "60000/60000 [==============================] - 8s 134us/step - loss: 0.0957 - val_loss: 0.0947\n",
      "Epoch 43/100\n",
      "60000/60000 [==============================] - 8s 133us/step - loss: 0.0957 - val_loss: 0.0950\n",
      "Epoch 44/100\n",
      "60000/60000 [==============================] - 8s 134us/step - loss: 0.0956 - val_loss: 0.0946\n",
      "Epoch 45/100\n",
      "60000/60000 [==============================] - 8s 133us/step - loss: 0.0955 - val_loss: 0.0947\n",
      "Epoch 46/100\n",
      "60000/60000 [==============================] - 8s 134us/step - loss: 0.0957 - val_loss: 0.0949\n",
      "Epoch 47/100\n",
      "60000/60000 [==============================] - 8s 133us/step - loss: 0.0955 - val_loss: 0.0952\n",
      "Epoch 48/100\n",
      "60000/60000 [==============================] - 8s 133us/step - loss: 0.0954 - val_loss: 0.0945\n",
      "Epoch 49/100\n",
      "60000/60000 [==============================] - 8s 129us/step - loss: 0.0954 - val_loss: 0.0946\n",
      "Epoch 50/100\n",
      "60000/60000 [==============================] - 8s 129us/step - loss: 0.0953 - val_loss: 0.0955\n",
      "Epoch 51/100\n",
      "60000/60000 [==============================] - 8s 128us/step - loss: 0.0952 - val_loss: 0.0944\n",
      "Epoch 52/100\n",
      "60000/60000 [==============================] - 8s 129us/step - loss: 0.0952 - val_loss: 0.0945\n",
      "Epoch 53/100\n",
      "60000/60000 [==============================] - 8s 128us/step - loss: 0.0952 - val_loss: 0.0944\n",
      "Epoch 54/100\n",
      "60000/60000 [==============================] - 8s 128us/step - loss: 0.0951 - val_loss: 0.0947\n",
      "Epoch 55/100\n",
      "60000/60000 [==============================] - 8s 128us/step - loss: 0.0951 - val_loss: 0.0943\n",
      "Epoch 56/100\n",
      "60000/60000 [==============================] - 8s 128us/step - loss: 0.0951 - val_loss: 0.0944\n",
      "Epoch 57/100\n",
      "60000/60000 [==============================] - 8s 132us/step - loss: 0.0951 - val_loss: 0.0942\n",
      "Epoch 58/100\n",
      "60000/60000 [==============================] - 8s 131us/step - loss: 0.0949 - val_loss: 0.0941\n",
      "Epoch 59/100\n",
      "60000/60000 [==============================] - 8s 128us/step - loss: 0.0949 - val_loss: 0.0949\n",
      "Epoch 60/100\n",
      "60000/60000 [==============================] - 8s 133us/step - loss: 0.0950 - val_loss: 0.0956\n",
      "Epoch 61/100\n",
      "60000/60000 [==============================] - 8s 133us/step - loss: 0.0949 - val_loss: 0.0941\n",
      "Epoch 62/100\n",
      "60000/60000 [==============================] - 8s 133us/step - loss: 0.0949 - val_loss: 0.0941\n",
      "Epoch 63/100\n",
      "60000/60000 [==============================] - 8s 137us/step - loss: 0.0948 - val_loss: 0.0941\n",
      "Epoch 64/100\n",
      "60000/60000 [==============================] - 8s 135us/step - loss: 0.0948 - val_loss: 0.0942\n",
      "Epoch 65/100\n",
      "60000/60000 [==============================] - 8s 134us/step - loss: 0.0948 - val_loss: 0.0941\n",
      "Epoch 66/100\n",
      "60000/60000 [==============================] - 8s 133us/step - loss: 0.0947 - val_loss: 0.0946\n",
      "Epoch 67/100\n",
      "60000/60000 [==============================] - 8s 134us/step - loss: 0.0947 - val_loss: 0.0942\n",
      "Epoch 68/100\n",
      "60000/60000 [==============================] - 8s 133us/step - loss: 0.0947 - val_loss: 0.0940\n",
      "Epoch 69/100\n",
      "60000/60000 [==============================] - 8s 134us/step - loss: 0.0947 - val_loss: 0.0949\n",
      "Epoch 70/100\n",
      "60000/60000 [==============================] - 8s 134us/step - loss: 0.0946 - val_loss: 0.0952\n",
      "Epoch 71/100\n",
      "60000/60000 [==============================] - 8s 134us/step - loss: 0.0946 - val_loss: 0.0939\n",
      "Epoch 72/100\n",
      "60000/60000 [==============================] - 8s 135us/step - loss: 0.0945 - val_loss: 0.0938\n",
      "Epoch 73/100\n",
      "60000/60000 [==============================] - 8s 135us/step - loss: 0.0945 - val_loss: 0.0938\n",
      "Epoch 74/100\n",
      "60000/60000 [==============================] - 8s 136us/step - loss: 0.0946 - val_loss: 0.0937\n",
      "Epoch 75/100\n",
      "60000/60000 [==============================] - 8s 137us/step - loss: 0.0945 - val_loss: 0.0941\n",
      "Epoch 76/100\n",
      "60000/60000 [==============================] - 8s 137us/step - loss: 0.0945 - val_loss: 0.0939\n",
      "Epoch 77/100\n",
      "60000/60000 [==============================] - 8s 137us/step - loss: 0.0944 - val_loss: 0.0939\n",
      "Epoch 78/100\n",
      "60000/60000 [==============================] - 8s 136us/step - loss: 0.0944 - val_loss: 0.0939\n",
      "Epoch 79/100\n",
      "60000/60000 [==============================] - 8s 137us/step - loss: 0.0945 - val_loss: 0.0937\n",
      "Epoch 80/100\n",
      "60000/60000 [==============================] - 8s 136us/step - loss: 0.0944 - val_loss: 0.0937\n",
      "Epoch 81/100\n",
      "60000/60000 [==============================] - 8s 132us/step - loss: 0.0944 - val_loss: 0.0950\n",
      "Epoch 82/100\n",
      "60000/60000 [==============================] - 8s 130us/step - loss: 0.0943 - val_loss: 0.0937\n",
      "Epoch 83/100\n",
      "60000/60000 [==============================] - 8s 130us/step - loss: 0.0943 - val_loss: 0.0938\n",
      "Epoch 84/100\n",
      "60000/60000 [==============================] - 8s 131us/step - loss: 0.0943 - val_loss: 0.0939\n",
      "Epoch 85/100\n",
      "60000/60000 [==============================] - 8s 130us/step - loss: 0.0942 - val_loss: 0.0936\n",
      "Epoch 86/100\n",
      "60000/60000 [==============================] - 8s 128us/step - loss: 0.0943 - val_loss: 0.0943\n",
      "Epoch 87/100\n",
      "60000/60000 [==============================] - 8s 126us/step - loss: 0.0942 - val_loss: 0.0940\n",
      "Epoch 88/100\n",
      "60000/60000 [==============================] - 8s 129us/step - loss: 0.0942 - val_loss: 0.0942\n",
      "Epoch 89/100\n",
      "60000/60000 [==============================] - 8s 133us/step - loss: 0.0942 - val_loss: 0.0936\n",
      "Epoch 90/100\n",
      "60000/60000 [==============================] - 8s 131us/step - loss: 0.0942 - val_loss: 0.0935\n",
      "Epoch 91/100\n",
      "60000/60000 [==============================] - 8s 131us/step - loss: 0.0942 - val_loss: 0.0937\n",
      "Epoch 92/100\n",
      "60000/60000 [==============================] - 8s 133us/step - loss: 0.0941 - val_loss: 0.0937\n",
      "Epoch 93/100\n",
      "60000/60000 [==============================] - 8s 132us/step - loss: 0.0941 - val_loss: 0.0943\n",
      "Epoch 94/100\n",
      "60000/60000 [==============================] - 8s 129us/step - loss: 0.0941 - val_loss: 0.0938\n",
      "Epoch 95/100\n",
      "60000/60000 [==============================] - 8s 131us/step - loss: 0.0941 - val_loss: 0.0940\n",
      "Epoch 96/100\n",
      "60000/60000 [==============================] - 8s 133us/step - loss: 0.0941 - val_loss: 0.0939\n",
      "Epoch 97/100\n",
      "60000/60000 [==============================] - 8s 131us/step - loss: 0.0940 - val_loss: 0.0934\n",
      "Epoch 98/100\n",
      "60000/60000 [==============================] - 8s 129us/step - loss: 0.0940 - val_loss: 0.0933\n",
      "Epoch 99/100\n",
      "60000/60000 [==============================] - 8s 130us/step - loss: 0.0940 - val_loss: 0.0945\n",
      "Epoch 100/100\n",
      "60000/60000 [==============================] - 8s 130us/step - loss: 0.0940 - val_loss: 0.0936\n"
     ]
    },
    {
     "data": {
      "text/plain": [
       "<keras.callbacks.History at 0x7fbc1f79fd30>"
      ]
     },
     "execution_count": 9,
     "metadata": {
      "tags": []
     },
     "output_type": "execute_result"
    }
   ],
   "source": [
    "# we can now fit our noisy data against our clean data, and create a de-noising autoencoder\n",
    "autoencoder.fit(\n",
    "    x_train_noisy,x_train,\n",
    "    epochs = 100,\n",
    "    batch_size = 128,\n",
    "    shuffle = True,\n",
    "    validation_data = (x_test_noisy,x_test)\n",
    ")"
   ]
  },
  {
   "cell_type": "code",
   "execution_count": 15,
   "metadata": {
    "colab": {
     "base_uri": "https://localhost:8080/",
     "height": 34
    },
    "colab_type": "code",
    "id": "9Ps_xdDCjnda",
    "outputId": "ca242901-a98f-4998-e6e6-07bc9d674a77"
   },
   "outputs": [
    {
     "name": "stdout",
     "output_type": "stream",
     "text": [
      "(10000, 28, 28, 1)\n"
     ]
    }
   ],
   "source": [
    "# pass the noisy images and get clean images\n",
    "de_noised_test = autoencoder.predict(x_test_noisy)\n",
    "print(de_noised_test.shape)"
   ]
  },
  {
   "cell_type": "code",
   "execution_count": 16,
   "metadata": {
    "colab": {
     "base_uri": "https://localhost:8080/",
     "height": 244
    },
    "colab_type": "code",
    "id": "a77ik--_sV9m",
    "outputId": "c9b85092-2780-4849-9ecc-7ac71657836b"
   },
   "outputs": [
    {
     "data": {
      "image/png": "[encoded data removed]",
      "text/plain": [
       "<matplotlib.figure.Figure at 0x7fbc1a02abe0>"
      ]
     },
     "metadata": {
      "tags": []
     },
     "output_type": "display_data"
    }
   ],
   "source": [
    "n = 10\n",
    "\n",
    "plt.figure(figsize=(20,4))\n",
    "\n",
    "for i in range(n):\n",
    "    ax = plt.subplot(2,n,i+1)\n",
    "    plt.imshow(x_test_noisy[i].reshape((28,28)),cmap='gray')\n",
    "    ax.get_xaxis().set_visible(False)\n",
    "    ax.get_yaxis().set_visible(False)\n",
    "    \n",
    "    ax = plt.subplot(2,n,i+1+n)\n",
    "    plt.imshow(de_noised_test[i].reshape((28,28)),cmap='gray')\n",
    "    ax.get_xaxis().set_visible(False)\n",
    "    ax.get_yaxis().set_visible(False)\n",
    "    \n",
    "plt.show()\n",
    "plt.close()"
   ]
  }
 ],
 "metadata": {
  "accelerator": "GPU",
  "colab": {
   "name": "Untitled0.ipynb",
   "provenance": [],
   "version": "0.3.2"
  },
  "kernelspec": {
   "display_name": "Python 3",
   "language": "python",
   "name": "python3"
  },
  "language_info": {
   "codemirror_mode": {
    "name": "ipython",
    "version": 3
   },
   "file_extension": ".py",
   "mimetype": "text/x-python",
   "name": "python",
   "nbconvert_exporter": "python",
   "pygments_lexer": "ipython3",
   "version": "3.6.4"
  }
 },
 "nbformat": 4,
 "nbformat_minor": 1
}
