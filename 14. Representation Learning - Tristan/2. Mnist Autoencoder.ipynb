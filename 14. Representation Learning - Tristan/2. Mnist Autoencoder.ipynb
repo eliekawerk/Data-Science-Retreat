{
 "cells": [
  {
   "cell_type": "code",
   "execution_count": 6,
   "metadata": {},
   "outputs": [
    {
     "name": "stdout",
     "output_type": "stream",
     "text": [
      "Tensor(\"input_6:0\", shape=(?, 784), dtype=float32)\n",
      "Tensor(\"dense_2/Relu:0\", shape=(?, 32), dtype=float32)\n",
      "Tensor(\"dense_3/Sigmoid:0\", shape=(?, 784), dtype=float32)\n",
      "_________________________________________________________________\n",
      "Layer (type)                 Output Shape              Param #   \n",
      "=================================================================\n",
      "input_6 (InputLayer)         (None, 784)               0         \n",
      "_________________________________________________________________\n",
      "dense_2 (Dense)              (None, 32)                25120     \n",
      "_________________________________________________________________\n",
      "dense_3 (Dense)              (None, 784)               25872     \n",
      "=================================================================\n",
      "Total params: 50,992\n",
      "Trainable params: 50,992\n",
      "Non-trainable params: 0\n",
      "_________________________________________________________________\n"
     ]
    }
   ],
   "source": [
    "import warnings\n",
    "warnings.filterwarnings(\"ignore\")\n",
    "\n",
    "from keras import models, layers\n",
    "embedding_dim = 32\n",
    "\n",
    "# keras functional API is used for non-sequential models. like if you want to different inputs to one NN (sound and image together for example)\n",
    "# this creates something that you can feed data into. It's the entry point for the network\n",
    "input_img = layers.Input(shape=(784,))\n",
    "print(input_img)\n",
    "\n",
    "# ENCODER\n",
    "# we can now apply this next layer on the input_img laye that we just created\n",
    "# this is different to the way we've been building models so far. We can now call functions against layers\n",
    "# this is a one layer encoder! very simple\n",
    "# it takes 784 features as input, and outputs 32 as our embedding_dimension\n",
    "encoded = layers.Dense(embedding_dim, activation='relu')(input_img)\n",
    "print(encoded)\n",
    "\n",
    "# DECODER\n",
    "# we now apply our decoder to our encoding layer\n",
    "# we don't use softmax because we're not talking about a probability distribution\n",
    "# we use sigmoid because it will give us values between 0-1 that we can then turn into pixels\n",
    "decoded = layers.Dense(784, activation='sigmoid')(encoded)\n",
    "print(decoded)\n",
    "\n",
    "# AUTOENCODER\n",
    "# we can now put this together. We take our encoder neural network, and our decoded neural network\n",
    "# this then becomes a joined neural network\n",
    "autoencoder = models.Model(input_img,decoded)\n",
    "autoencoder.summary()"
   ]
  },
  {
   "cell_type": "code",
   "execution_count": 7,
   "metadata": {},
   "outputs": [
    {
     "name": "stdout",
     "output_type": "stream",
     "text": [
      "_________________________________________________________________\n",
      "Layer (type)                 Output Shape              Param #   \n",
      "=================================================================\n",
      "input_6 (InputLayer)         (None, 784)               0         \n",
      "_________________________________________________________________\n",
      "dense_2 (Dense)              (None, 32)                25120     \n",
      "=================================================================\n",
      "Total params: 25,120\n",
      "Trainable params: 25,120\n",
      "Non-trainable params: 0\n",
      "_________________________________________________________________\n"
     ]
    }
   ],
   "source": [
    "# we can see what the encoder section of our autoencoder looks like\n",
    "# we make it it's own neural network\n",
    "encoder = models.Model(input_img,encoded)\n",
    "encoder.summary()"
   ]
  },
  {
   "cell_type": "code",
   "execution_count": 10,
   "metadata": {
    "collapsed": true
   },
   "outputs": [
    {
     "name": "stdout",
     "output_type": "stream",
     "text": [
      "_________________________________________________________________\n",
      "Layer (type)                 Output Shape              Param #   \n",
      "=================================================================\n",
      "input_9 (InputLayer)         (None, 32)                0         \n",
      "_________________________________________________________________\n",
      "dense_3 (Dense)              (None, 784)               25872     \n",
      "=================================================================\n",
      "Total params: 25,872\n",
      "Trainable params: 25,872\n",
      "Non-trainable params: 0\n",
      "_________________________________________________________________\n"
     ]
    }
   ],
   "source": [
    "# we can see the summary of our decoder also\n",
    "# we take the 'encoded' data as input to the decoder network\n",
    "encoded_input = layers.Input(shape=(embedding_dim,))\n",
    "# we take the decoded layer of our autoencoder\n",
    "decoder_layer = autoencoder.layers[-1]\n",
    "# we make this it's own neural network\n",
    "decoder = models.Model(encoded_input, decoder_layer(encoded_input))\n",
    "decoder.summary()\n",
    "# we now have 3 neural networks. an encoder, a decoder, and an autoencoder"
   ]
  },
  {
   "cell_type": "code",
   "execution_count": 11,
   "metadata": {},
   "outputs": [],
   "source": [
    "# put the audoencoder together\n",
    "autoencoder.compile(\n",
    "    optimizer = 'adadelta',\n",
    "    loss = 'binary_crossentropy'\n",
    ")"
   ]
  },
  {
   "cell_type": "code",
   "execution_count": 13,
   "metadata": {
    "collapsed": true
   },
   "outputs": [
    {
     "name": "stdout",
     "output_type": "stream",
     "text": [
      "(60000, 784)\n",
      "(10000, 784)\n"
     ]
    }
   ],
   "source": [
    "# now we train our model\n",
    "from keras.datasets import mnist\n",
    "import numpy as np\n",
    "\n",
    "# we're don't need the labels as we're not classifying, so we just put as _ so the labels are pulled into memory\n",
    "(x_train, _),(x_test, _) = mnist.load_data()\n",
    "\n",
    "# normalise the data\n",
    "x_train = x_train.astype('float32')/255.0\n",
    "x_test = x_test.astype('float32')/255.0\n",
    "\n",
    "# reshape the data\n",
    "# we want a 2D shape, and we want the second dimension to be 784\n",
    "# the -1 works is a numpy thing that asks it to work out the shape you need\n",
    "x_train = x_train.reshape((-1,784))\n",
    "x_test = x_test.reshape((-1,784))\n",
    "print(x_train.shape)\n",
    "print(x_test.shape)"
   ]
  },
  {
   "cell_type": "code",
   "execution_count": 15,
   "metadata": {
    "collapsed": true
   },
   "outputs": [
    {
     "name": "stdout",
     "output_type": "stream",
     "text": [
      "Train on 60000 samples, validate on 10000 samples\n",
      "Epoch 1/50\n",
      "60000/60000 [==============================] - 23s 388us/step - loss: 0.1720 - val_loss: 0.1687\n",
      "Epoch 2/50\n",
      "60000/60000 [==============================] - 23s 384us/step - loss: 0.1680 - val_loss: 0.1648\n",
      "Epoch 3/50\n",
      "60000/60000 [==============================] - 23s 391us/step - loss: 0.1641 - val_loss: 0.1609\n",
      "Epoch 4/50\n",
      "60000/60000 [==============================] - 24s 396us/step - loss: 0.1604 - val_loss: 0.1573\n",
      "Epoch 5/50\n",
      "60000/60000 [==============================] - 24s 395us/step - loss: 0.1568 - val_loss: 0.1537\n",
      "Epoch 6/50\n",
      "60000/60000 [==============================] - 23s 385us/step - loss: 0.1534 - val_loss: 0.1504\n",
      "Epoch 7/50\n",
      "60000/60000 [==============================] - 23s 382us/step - loss: 0.1503 - val_loss: 0.1475\n",
      "Epoch 8/50\n",
      "60000/60000 [==============================] - 23s 381us/step - loss: 0.1473 - val_loss: 0.1445\n",
      "Epoch 9/50\n",
      "60000/60000 [==============================] - 23s 388us/step - loss: 0.1446 - val_loss: 0.1418\n",
      "Epoch 10/50\n",
      "60000/60000 [==============================] - 23s 385us/step - loss: 0.1420 - val_loss: 0.1392\n",
      "Epoch 11/50\n",
      "60000/60000 [==============================] - 23s 387us/step - loss: 0.1395 - val_loss: 0.1368\n",
      "Epoch 12/50\n",
      "60000/60000 [==============================] - 23s 392us/step - loss: 0.1371 - val_loss: 0.1346\n",
      "Epoch 13/50\n",
      "60000/60000 [==============================] - 24s 404us/step - loss: 0.1349 - val_loss: 0.1323\n",
      "Epoch 14/50\n",
      "60000/60000 [==============================] - 24s 397us/step - loss: 0.1328 - val_loss: 0.1302\n",
      "Epoch 15/50\n",
      "60000/60000 [==============================] - 25s 414us/step - loss: 0.1307 - val_loss: 0.1282\n",
      "Epoch 16/50\n",
      "60000/60000 [==============================] - 26s 426us/step - loss: 0.1287 - val_loss: 0.1263\n",
      "Epoch 17/50\n",
      "60000/60000 [==============================] - 25s 409us/step - loss: 0.1269 - val_loss: 0.1244\n",
      "Epoch 18/50\n",
      "60000/60000 [==============================] - 24s 403us/step - loss: 0.1251 - val_loss: 0.1227\n",
      "Epoch 19/50\n",
      "60000/60000 [==============================] - 24s 403us/step - loss: 0.1234 - val_loss: 0.1211\n",
      "Epoch 20/50\n",
      "60000/60000 [==============================] - 24s 403us/step - loss: 0.1218 - val_loss: 0.1195\n",
      "Epoch 21/50\n",
      "60000/60000 [==============================] - 24s 407us/step - loss: 0.1203 - val_loss: 0.1181\n",
      "Epoch 22/50\n",
      "60000/60000 [==============================] - 24s 407us/step - loss: 0.1190 - val_loss: 0.1167\n",
      "Epoch 23/50\n",
      "60000/60000 [==============================] - 24s 399us/step - loss: 0.1177 - val_loss: 0.1155\n",
      "Epoch 24/50\n",
      "60000/60000 [==============================] - 24s 403us/step - loss: 0.1164 - val_loss: 0.1143\n",
      "Epoch 25/50\n",
      "60000/60000 [==============================] - 26s 425us/step - loss: 0.1153 - val_loss: 0.1132\n",
      "Epoch 26/50\n",
      "60000/60000 [==============================] - 27s 449us/step - loss: 0.1142 - val_loss: 0.1122\n",
      "Epoch 27/50\n",
      "60000/60000 [==============================] - 25s 412us/step - loss: 0.1132 - val_loss: 0.1112\n",
      "Epoch 28/50\n",
      "60000/60000 [==============================] - 25s 422us/step - loss: 0.1123 - val_loss: 0.1103\n",
      "Epoch 29/50\n",
      "60000/60000 [==============================] - 25s 413us/step - loss: 0.1114 - val_loss: 0.1095\n",
      "Epoch 30/50\n",
      "60000/60000 [==============================] - 25s 414us/step - loss: 0.1106 - val_loss: 0.1087\n",
      "Epoch 31/50\n",
      "60000/60000 [==============================] - 26s 426us/step - loss: 0.1099 - val_loss: 0.1079\n",
      "Epoch 32/50\n",
      "60000/60000 [==============================] - 24s 402us/step - loss: 0.1092 - val_loss: 0.1072\n",
      "Epoch 33/50\n",
      "60000/60000 [==============================] - 24s 403us/step - loss: 0.1085 - val_loss: 0.1066\n",
      "Epoch 34/50\n",
      "60000/60000 [==============================] - 24s 401us/step - loss: 0.1079 - val_loss: 0.1060\n",
      "Epoch 35/50\n",
      "60000/60000 [==============================] - 24s 401us/step - loss: 0.1073 - val_loss: 0.1055\n",
      "Epoch 36/50\n",
      "60000/60000 [==============================] - 25s 411us/step - loss: 0.1067 - val_loss: 0.1049\n",
      "Epoch 37/50\n",
      "60000/60000 [==============================] - 24s 405us/step - loss: 0.1062 - val_loss: 0.1044\n",
      "Epoch 38/50\n",
      "60000/60000 [==============================] - 24s 403us/step - loss: 0.1058 - val_loss: 0.1039\n",
      "Epoch 39/50\n",
      "60000/60000 [==============================] - 24s 405us/step - loss: 0.1053 - val_loss: 0.1035\n",
      "Epoch 40/50\n",
      "60000/60000 [==============================] - 25s 409us/step - loss: 0.1049 - val_loss: 0.1031\n",
      "Epoch 41/50\n",
      "60000/60000 [==============================] - 27s 448us/step - loss: 0.1045 - val_loss: 0.1027\n",
      "Epoch 42/50\n",
      "60000/60000 [==============================] - 24s 403us/step - loss: 0.1041 - val_loss: 0.1024\n",
      "Epoch 43/50\n",
      "60000/60000 [==============================] - 24s 401us/step - loss: 0.1037 - val_loss: 0.1020\n",
      "Epoch 44/50\n",
      "60000/60000 [==============================] - 25s 413us/step - loss: 0.1034 - val_loss: 0.1017\n",
      "Epoch 45/50\n",
      "60000/60000 [==============================] - 24s 406us/step - loss: 0.1031 - val_loss: 0.1014\n",
      "Epoch 46/50\n",
      "60000/60000 [==============================] - 24s 405us/step - loss: 0.1028 - val_loss: 0.1011\n",
      "Epoch 47/50\n",
      "60000/60000 [==============================] - 25s 410us/step - loss: 0.1025 - val_loss: 0.1008\n",
      "Epoch 48/50\n",
      "60000/60000 [==============================] - 24s 405us/step - loss: 0.1022 - val_loss: 0.1006\n",
      "Epoch 49/50\n",
      "60000/60000 [==============================] - 25s 409us/step - loss: 0.1020 - val_loss: 0.1003\n",
      "Epoch 50/50\n",
      "60000/60000 [==============================] - 24s 405us/step - loss: 0.1017 - val_loss: 0.1001\n"
     ]
    }
   ],
   "source": [
    "# x_train becomes both our input and output data here\n",
    "history = autoencoder.fit(x_train,\n",
    "                x_train,\n",
    "                epochs=50,\n",
    "                batch_size=256,\n",
    "                shuffle=True,\n",
    "                validation_data=(x_test,x_test)\n",
    ")"
   ]
  },
  {
   "cell_type": "code",
   "execution_count": 18,
   "metadata": {},
   "outputs": [
    {
     "data": {
      "image/png": "[encoded data removed]",
      "text/plain": [
       "<Figure size 432x288 with 1 Axes>"
      ]
     },
     "metadata": {},
     "output_type": "display_data"
    }
   ],
   "source": [
    "# this shows us how well the model performs in training and testing\n",
    "import matplotlib.pyplot as plt\n",
    "\n",
    "plt.plot(history.history['loss'],label='loss')\n",
    "plt.plot(history.history['val_loss'],label='val_loss')\n",
    "plt.legend()\n",
    "plt.show()\n",
    "plt.close()"
   ]
  },
  {
   "cell_type": "code",
   "execution_count": null,
   "metadata": {},
   "outputs": [],
   "source": [
    "encoded_imgs = encoder.predict(x_test) # these are images in latent space\n",
    "decoded_imgs = decoder.predict(encoded_imgs) # these are decoded images that have come through the autoencoder\n",
    "print(encoded_imgs.shape)\n",
    "print(decoded_imgs.shape)"
   ]
  },
  {
   "cell_type": "code",
   "execution_count": 20,
   "metadata": {},
   "outputs": [
    {
     "name": "stdout",
     "output_type": "stream",
     "text": [
      "(10000, 32)\n",
      "(10000, 784)\n"
     ]
    },
    {
     "data": {
      "image/png": "[encoded data removed]",
      "text/plain": [
       "<Figure size 1440x288 with 20 Axes>"
      ]
     },
     "metadata": {},
     "output_type": "display_data"
    }
   ],
   "source": [
    "# Let's visualise 10 input and output images from our autoencoder\n",
    "n = 10\n",
    "\n",
    "plt.figure(figsize=(20,4))\n",
    "\n",
    "for i in range(n):\n",
    "    ax = plt.subplot(2,n,i+1)\n",
    "    plt.imshow(x_test[i].reshape((28,28)),cmap='gray')\n",
    "    ax.get_xaxis().set_visible(False)\n",
    "    ax.get_yaxis().set_visible(False)\n",
    "    \n",
    "    ax = plt.subplot(2,n,i+1+n)\n",
    "    plt.imshow(decoded_imgs[i].reshape((28,28)),cmap='gray')\n",
    "    ax.get_xaxis().set_visible(False)\n",
    "    ax.get_yaxis().set_visible(False)\n",
    "    \n",
    "plt.show()\n",
    "plt.close()"
   ]
  }
 ],
 "metadata": {
  "kernelspec": {
   "display_name": "Python 3",
   "language": "python",
   "name": "python3"
  },
  "language_info": {
   "codemirror_mode": {
    "name": "ipython",
    "version": 3
   },
   "file_extension": ".py",
   "mimetype": "text/x-python",
   "name": "python",
   "nbconvert_exporter": "python",
   "pygments_lexer": "ipython3",
   "version": "3.6.4"
  }
 },
 "nbformat": 4,
 "nbformat_minor": 2
}
