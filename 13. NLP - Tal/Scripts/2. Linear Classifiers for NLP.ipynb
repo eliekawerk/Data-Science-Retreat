{
 "cells": [
  {
   "cell_type": "markdown",
   "metadata": {},
   "source": [
    "Linear models such as Logistic Regression or Support Vector Machines have been very successfull in machine learning and in NLP. In this module, we'll take a look at using linear models.\n",
    "\n",
    "## Key Takeaway\n",
    "Anyone can run a linear model in two lines of code. The \"secret\" to getting them to work is representing our text in a way that is convenient for a linear model (e.g. linearly seperable, or seperable in a space the model can project to ).\n",
    "\n",
    "In NLP, the default representation is the [Bag of Words model](https://en.wikipedia.org/wiki/Bag-of-words_model). The bag of words model basically says \"Our linear algorithms and random forests need each example to be a vector. So let's take a document/sentence/phrase and make it a vector by counting which words are in it \"\n",
    "This is easiest understood with code :"
   ]
  },
  {
   "cell_type": "code",
   "execution_count": 1,
   "metadata": {},
   "outputs": [],
   "source": [
    "from sklearn.feature_extraction.text import CountVectorizer"
   ]
  },
  {
   "cell_type": "code",
   "execution_count": 3,
   "metadata": {
    "collapsed": true
   },
   "outputs": [
    {
     "data": {
      "text/plain": [
       "matrix([[0, 1, 0, 1, 0, 1, 1, 1, 0, 1, 1, 2, 0],\n",
       "        [1, 1, 1, 0, 1, 0, 1, 0, 1, 0, 0, 2, 1]])"
      ]
     },
     "execution_count": 3,
     "metadata": {},
     "output_type": "execute_result"
    }
   ],
   "source": [
    "# we have two documents that we want to vectorize\n",
    "documents = [\"The quick brown fox jumped over the lazy dog\",\n",
    "             \"The fat brown monkey jumped under the active cat\"]\n",
    "\n",
    "# intiialize the vectorizer\n",
    "C =CountVectorizer() \n",
    "\n",
    "# Fit on countvectorizer counts the total instances of each unique word in all documents, and creates an empty vector\n",
    "C.fit(documents)\n",
    "\n",
    "# Transform then does the counting of each word and puts that into our vector\n",
    "C.transform(documents).todense()"
   ]
  },
  {
   "cell_type": "code",
   "execution_count": 17,
   "metadata": {
    "collapsed": true
   },
   "outputs": [
    {
     "data": {
      "text/plain": [
       "matrix([[0, 0, 0, 1, 0, 0, 0, 0, 0, 0, 0, 0, 0]])"
      ]
     },
     "execution_count": 17,
     "metadata": {},
     "output_type": "execute_result"
    }
   ],
   "source": [
    "# If we now just transform on a new document, it ignores all the words we didn't \"fit\" to previously\n",
    "C.transform([\"Another document about a dog\"]).todense()"
   ]
  },
  {
   "cell_type": "markdown",
   "metadata": {},
   "source": [
    "\n",
    "## Choosing tokens\n",
    "Since linear models basically look at the frequency of words, one of the most important decisions we need to make is **what is a word** in our world. In addition, the more \"words\" we have, the more features our model will have and thus the more data we'll need to train on. "
   ]
  },
  {
   "cell_type": "markdown",
   "metadata": {},
   "source": [
    "## Our problem\n",
    "Like in problem set 1, we still want to understand if a given number is even or odd, based on the word representation. In problem set 1, we did this with Regular Expressions. Now we'll do it with \"machine learning\" \n",
    "### Our Big problem\n",
    "Our data looks like \n",
    "```\n",
    "vierzehnmillionfünfhundreteinundzwanzigtausendvierhundretfünfzehn\n",
    "```\n",
    "How can we get it into the bag of words model ? And how can we do it in a way that is meaningfull towards the problem we want to solve ?"
   ]
  },
  {
   "cell_type": "code",
   "execution_count": 28,
   "metadata": {},
   "outputs": [],
   "source": [
    "from sklearn import svm\n",
    "from sklearn.pipeline import Pipeline\n",
    "from utils.numtoWord import createNum2WordDict\n",
    "\n",
    "# Given a vectorizer and model, returns a Pipeline object that runs them both\n",
    "def makePipeline(vectorizer,model=svm.SVC()):\n",
    "    return Pipeline([('vectorizer',vectorizer),('model',model)])\n",
    "\n",
    "# Returns amount tuples of \"text-number\" label to work with \n",
    "# label is 0 if number is even, 1 if it is odd\n",
    "def makeExamples(amount=1000,high=10**18):\n",
    "    data = createNum2WordDict(amount,high=high)    \n",
    "    examples = list(data.values())\n",
    "    labels = list(map(lambda x:x %2,data.keys())) # %2 is python trick to say return 1 if divisible by 2, or 0 if not\n",
    "    return examples, labels"
   ]
  },
  {
   "cell_type": "markdown",
   "metadata": {},
   "source": [
    "### Build and run a  pipeline"
   ]
  },
  {
   "cell_type": "markdown",
   "metadata": {},
   "source": [
    "Use the pipeline shown above to train and test a model. Use [SkLearn metrics](http://scikit-learn.org/stable/modules/model_evaluation.html#classification-metrics) to evaluate it. \n",
    "\n",
    "1. Is it any  good ? \n",
    "2. Why is it bad ? Hint - Look at the vocabulary the vectorizer has \n",
    "3. Discuss - Is their anything we can do to the model to improve this ?"
   ]
  },
  {
   "cell_type": "code",
   "execution_count": 43,
   "metadata": {
    "collapsed": true
   },
   "outputs": [
    {
     "data": {
      "text/plain": [
       "Pipeline(memory=None,\n",
       "     steps=[('vectorizer', CountVectorizer(analyzer='word', binary=False, decode_error='strict',\n",
       "        dtype=<class 'numpy.int64'>, encoding='utf-8', input='content',\n",
       "        lowercase=True, max_df=1.0, max_features=None, min_df=1,\n",
       "        ngram_range=(1, 1), preprocessor=None, stop_words=None,\n",
       "       ...,\n",
       "  max_iter=-1, probability=False, random_state=None, shrinking=True,\n",
       "  tol=0.001, verbose=False))])"
      ]
     },
     "execution_count": 43,
     "metadata": {},
     "output_type": "execute_result"
    }
   ],
   "source": [
    "C = CountVectorizer() # intiialize a  vectorizer. THIS IS WHERE YOU SHOULD BE DOING MOST OF YOUR WORK\n",
    "P = makePipeline(C) # Feed the vectorizer into the pipeline factory\n",
    "examplesTrain, labelsTrain = makeExamples(1000,10**4) #Create some training data, 1000 samples up to 10,000\n",
    "examplesTest, labelsTest = makeExamples(1000,10**4) # Create some test data, 1000 samples up to 10,000\n",
    "P.fit(examplesTrain,labelsTrain) # Fit the vectorizer and train the model"
   ]
  },
  {
   "cell_type": "markdown",
   "metadata": {},
   "source": [
    "### Examine what your vectorizer is doing"
   ]
  },
  {
   "cell_type": "code",
   "execution_count": 44,
   "metadata": {
    "collapsed": true
   },
   "outputs": [
    {
     "name": "stdout",
     "output_type": "stream",
     "text": [
      "viertausendsechshundretneun\n"
     ]
    },
    {
     "data": {
      "text/plain": [
       "matrix([[0, 0, 0, 0, 0, 0, 0, 0, 0, 0, 0, 0, 0, 0, 0, 0, 0, 0, 0, 0, 0,\n",
       "         0, 0, 0, 0, 0, 0, 0, 0, 0, 0, 0, 0, 0, 0, 0, 0, 0, 0, 0, 0, 0,\n",
       "         0, 0, 0, 0, 0, 0, 0, 0, 0, 0, 0, 0, 0, 0, 0, 0, 0, 0, 0, 0, 0,\n",
       "         0, 0, 0, 0, 0, 0, 0, 0, 0, 0, 0, 0, 0, 0, 0, 0, 0, 0, 0, 0, 0,\n",
       "         0, 0, 0, 0, 0, 0, 0, 0, 0, 0, 0, 0, 0, 0, 0, 0, 0, 0, 0, 0, 0,\n",
       "         0, 0, 0, 0, 0, 0, 0, 0, 0, 0, 0, 0, 0, 0, 0, 0, 0, 0, 0, 0, 0,\n",
       "         0, 0, 0, 0, 0, 0, 0, 0, 0, 0, 0, 0, 0, 0, 0, 0, 0, 0, 0, 0, 0,\n",
       "         0, 0, 0, 0, 0, 0, 0, 0, 0, 0, 0, 0, 0, 0, 0, 0, 0, 0, 0, 0, 0,\n",
       "         0, 0, 0, 0, 0, 0, 0, 0, 0, 0, 0, 0, 0, 0, 0, 0, 0, 0, 0, 0, 0,\n",
       "         0, 0, 0, 0, 0, 0, 0, 0, 0, 0, 0, 0, 0, 0, 0, 0, 0, 0, 0, 0, 0,\n",
       "         0, 0, 0, 0, 0, 0, 0, 0, 0, 0, 0, 0, 0, 0, 0, 0, 0, 0, 0, 0, 0,\n",
       "         0, 0, 0, 0, 0, 0, 0, 0, 0, 0, 0, 0, 0, 0, 0, 0, 0, 0, 0, 0, 0,\n",
       "         0, 0, 0, 0, 0, 0, 0, 0, 0, 0, 0, 0, 0, 0, 0, 0, 0, 0, 0, 0, 0,\n",
       "         0, 0, 0, 0, 0, 0, 0, 0, 0, 0, 0, 0, 0, 0, 0, 0, 0, 0, 0, 0, 0,\n",
       "         0, 0, 0, 0, 0, 0, 0, 0, 0, 0, 0, 0, 0, 0, 0, 0, 0, 0, 0, 0, 0,\n",
       "         0, 0, 0, 0, 0, 0, 0, 0, 0, 0, 0, 0, 0, 0, 0, 0, 0, 0, 0, 0, 0,\n",
       "         0, 0, 0, 0, 0, 0, 0, 0, 0, 0, 0, 0, 0, 0, 0, 0, 0, 0, 0, 0, 0,\n",
       "         0, 0, 0, 0, 0, 0, 0, 0, 0, 0, 0, 0, 0, 0, 0, 0, 0, 0, 0, 0, 0,\n",
       "         0, 0, 0, 0, 0, 0, 0, 0, 0, 0, 0, 0, 0, 0, 0, 0, 0, 0, 0, 0, 0,\n",
       "         0, 0, 0, 0, 0, 0, 0, 0, 0, 0, 0, 0, 0, 0, 0, 0, 0, 0, 0, 0, 0,\n",
       "         0, 0, 0, 0, 0, 0, 0, 0, 0, 0, 0, 0, 0, 0, 0, 0, 0, 0, 0, 0, 0,\n",
       "         0, 0, 0, 0, 0, 0, 0, 0, 0, 0, 0, 0, 0, 0, 0, 0, 0, 0, 0, 0, 0,\n",
       "         0, 0, 0, 0, 0, 0, 0, 0, 0, 0, 0, 0, 0, 0, 0, 0, 0, 0, 0, 0, 0,\n",
       "         0, 0, 0, 0, 0, 0, 0, 0, 0, 0, 0, 0, 0, 0, 0, 0, 0, 0, 0, 0, 0,\n",
       "         0, 0, 0, 0, 0, 0, 0, 0, 0, 0, 0, 0, 0, 0, 0, 0, 0, 0, 0, 0, 0,\n",
       "         0, 0, 0, 0, 0, 0, 0, 0, 0, 0, 0, 0, 0, 0, 0, 0, 0, 0, 0, 0, 0,\n",
       "         0, 0, 0, 0, 0, 0, 0, 0, 0, 0, 0, 0, 0, 0, 0, 0, 0, 0, 0, 0, 0,\n",
       "         0, 0, 0, 0, 0, 0, 0, 0, 0, 0, 0, 0, 0, 0, 0, 0, 0, 0, 0, 0, 0,\n",
       "         0, 0, 0, 0, 0, 0, 0, 0, 0, 0, 0, 0, 0, 0, 0, 0, 0, 0, 0, 0, 0,\n",
       "         0, 0, 0, 0, 0, 0, 0, 0, 0, 0, 0, 0, 0, 0, 0, 0, 0, 0, 0, 0, 0,\n",
       "         0, 0, 0, 0, 0, 0, 0, 0, 0, 0, 0, 0, 0, 0, 0, 0, 0, 0, 0, 0, 0,\n",
       "         0, 0, 0, 0, 0, 0, 0, 0, 0, 0, 0, 0, 0, 0, 0, 0, 0, 0, 0, 0, 0,\n",
       "         0, 0, 0, 0, 0, 0, 0, 0, 0, 0, 0, 0, 0, 0, 0, 0, 0, 0, 0, 0, 0,\n",
       "         0, 0, 0, 0, 0, 0, 0, 0, 0, 0, 0, 0, 0, 0, 0, 0, 0, 0, 0, 0, 0,\n",
       "         0, 0, 0, 0, 0, 0, 0, 0, 0, 0, 0, 0, 0, 0, 0, 0, 0, 0, 0, 0, 0,\n",
       "         0, 0, 0, 0, 0, 0, 0, 0, 0, 0, 0, 0, 0, 0, 0, 0, 0, 0, 0, 0, 0,\n",
       "         0, 0, 0, 0, 0, 0, 0, 0, 0, 0, 0, 0, 0, 0, 0, 0, 0, 0, 0, 0, 0,\n",
       "         0, 0, 0, 0, 0, 0, 0, 0, 0, 0, 0, 0, 0, 0, 0, 0, 0, 0, 0, 0, 1,\n",
       "         0, 0, 0, 0, 0, 0, 0, 0, 0, 0, 0, 0, 0, 0, 0, 0, 0, 0, 0, 0, 0,\n",
       "         0, 0, 0, 0, 0, 0, 0, 0, 0, 0, 0, 0, 0, 0, 0, 0, 0, 0, 0, 0, 0,\n",
       "         0, 0, 0, 0, 0, 0, 0, 0, 0, 0, 0, 0, 0, 0, 0, 0, 0, 0, 0, 0, 0,\n",
       "         0, 0, 0, 0, 0, 0, 0, 0, 0, 0, 0, 0, 0, 0, 0, 0, 0, 0, 0, 0, 0,\n",
       "         0, 0, 0, 0, 0, 0, 0, 0, 0, 0, 0, 0, 0, 0, 0, 0, 0, 0, 0, 0, 0,\n",
       "         0, 0, 0, 0, 0, 0, 0, 0, 0, 0, 0, 0, 0, 0, 0, 0, 0, 0, 0, 0, 0,\n",
       "         0, 0, 0, 0, 0, 0, 0, 0, 0, 0, 0, 0, 0, 0, 0, 0, 0, 0, 0, 0, 0,\n",
       "         0, 0, 0, 0, 0, 0, 0, 0, 0]])"
      ]
     },
     "execution_count": 44,
     "metadata": {},
     "output_type": "execute_result"
    }
   ],
   "source": [
    "# named_steps['x'] allows you to go to the named component of the pipeline and just run that\n",
    "# take the 3rd row of examplesTrain\n",
    "print(examplesTrain[4])\n",
    "P.named_steps['vectorizer'].transform([examplesTrain[4]]).todense()"
   ]
  },
  {
   "cell_type": "code",
   "execution_count": 45,
   "metadata": {
    "collapsed": true
   },
   "outputs": [
    {
     "name": "stdout",
     "output_type": "stream",
     "text": [
      "954\n",
      "['achthundretachtundfünfzig', 'achthundretachtzehn', 'achthundreteinundsechzig', 'achthundretfünfundsiebzig', 'achthundretundvierzig', 'achttausendachthundretachtundfünfzig', 'achttausendachthundretdreiundsiebzig', 'achttausendachthundreteinunddreiβig', 'achttausendachthundreteinundvierzig', 'achttausendachthundretneunundneunzig']\n"
     ]
    }
   ],
   "source": [
    "# see how many vectorized names there are\n",
    "# numbers can be resampled, so there won't be quite 1000 probably\n",
    "print(len(P.named_steps['vectorizer'].get_feature_names()))\n",
    "# show first 10 of my vectorizing names\n",
    "print(list(P.named_steps['vectorizer'].get_feature_names()[:10]))"
   ]
  },
  {
   "cell_type": "markdown",
   "metadata": {},
   "source": [
    "### Evaluate how good the pipeline is"
   ]
  },
  {
   "cell_type": "code",
   "execution_count": 63,
   "metadata": {},
   "outputs": [
    {
     "name": "stdout",
     "output_type": "stream",
     "text": [
      "Model accuracy is 0.48%\n"
     ]
    }
   ],
   "source": [
    "from sklearn.metrics import accuracy_score\n",
    "predictions = P.predict(examplesTest) # Predict results\n",
    "acc = accuracy_score(labelsTest,predictions)\n",
    "print('Model accuracy is '+str('{:.2f}%'.format(acc)))"
   ]
  },
  {
   "attachments": {
    "image.png": {
     "image/png": "[encoded data removed]"
    }
   },
   "cell_type": "markdown",
   "metadata": {},
   "source": [
    "# Excercise 2 - Ngrams and char tokenizer\n",
    "Look at the documentation for the [CountVectorizer](http://scikit-learn.org/stable/modules/generated/sklearn.feature_extraction.text.CountVectorizer.html) \n",
    "Focus on the parameters \n",
    "* ngram_range\n",
    "* analyzer\n",
    "\n",
    "Train and evaluate a new pipeline with analyzer set to *'char'*. Experiment with values of ngram_range. \n",
    "What do different values of ngram_range do to ? \n",
    "* The speed of training ?\n",
    "* The accuracy of your model ? \n",
    "* How does adding more training data effect it ? \n",
    "\n",
    "**hint** You should be looking at plots like this one to understand the effect of ngrams and amount of training data\n",
    "![image.png](attachment:image.png)\n",
    "\n",
    "\n"
   ]
  },
  {
   "cell_type": "code",
   "execution_count": 2,
   "metadata": {},
   "outputs": [],
   "source": [
    "#Your code goes here"
   ]
  },
  {
   "attachments": {
    "image.png": {
     "image/png": "[encoded data removed]"
    }
   },
   "cell_type": "markdown",
   "metadata": {},
   "source": [
    "# Excercise 3 - Custom Tokenizer\n",
    "\n",
    "* Examine the vocabulary the your vectorizer is learning. Is it adequate ? \n",
    "* Use the techniques we saw in Problem set 1 to write a custom tokenizer\n",
    "\n",
    "Your tokenizer should bhelp reach a model of around 80% accuracy \n",
    "![image.png](attachment:image.png)\n",
    "\n",
    "A custom tokenizer looks like this\n",
    "```python\n",
    "def tokenizer(doc):\n",
    "    return list(doc)  # retruns the individual chars in the document\n",
    "    \n",
    "```\n",
    "\n",
    "And you use it like this\n",
    "```p\n",
    "C =CountVectorizer(tokenizer=tokenizer,max_features=1000) # intiialize the vectorizer"
   ]
  },
  {
   "cell_type": "code",
   "execution_count": 205,
   "metadata": {},
   "outputs": [],
   "source": [
    "def tokenizer(doc):\n",
    "    doc = ''.join(doc.split('hundret')[-1:])\n",
    "    return doc.split('und')\n",
    "res ={}\n",
    "for num in [10,100,500,1000,10000]:\n",
    "    C =CountVectorizer(tokenizer=tokenizer,max_features=1000) # intiialize the vectorizer\n",
    "    P = makePipeline(C) # Feed the vectorizer into the pipeline factory\n",
    "    examplesTrain, labelsTrain = makeExamples(num,10**8) #Create some training data\n",
    "    examplesTest, labelsTest = makeExamples(1000,10**8) # Create some test data\n",
    "    P.fit(examplesTrain,labelsTrain) # Fit the vectorizer and train the model.\n",
    "    predictions = P.predict(examplesTest) # Predict results\n",
    "    res[num] =(accuracy_score(y_true=labelsTest,y_pred=predictions))"
   ]
  },
  {
   "cell_type": "code",
   "execution_count": 206,
   "metadata": {},
   "outputs": [
    {
     "data": {
      "text/plain": [
       "<matplotlib.axes._subplots.AxesSubplot at 0x7fd5d6753b00>"
      ]
     },
     "execution_count": 206,
     "metadata": {},
     "output_type": "execute_result"
    },
    {
     "data": {
      "image/png": "[encoded data removed]",
      "text/plain": [
       "<matplotlib.figure.Figure at 0x7fd5d68c8b38>"
      ]
     },
     "metadata": {},
     "output_type": "display_data"
    }
   ],
   "source": [
    "pd.Series(res).plot()"
   ]
  },
  {
   "cell_type": "code",
   "execution_count": 160,
   "metadata": {},
   "outputs": [
    {
     "data": {
      "text/plain": [
       "(['achthundreteinundvierzigtausendzweihundretsechszehn',\n",
       "  'fünftausendachthundretachtundachtzig',\n",
       "  'zweihundretfünfunddreiβigtausendfünfhundretdreiundzwanzig',\n",
       "  'neunhundretvierundsiebzigtausendfünfundachtzig',\n",
       "  'neunhundretundvierzigtausendachthundretsieben',\n",
       "  'vierhundretzweiundsechzigtausendeinundneunzig',\n",
       "  'siebenhundretsechsundachtzigtausendsiebenhundretzwei',\n",
       "  'zweihundretfünfundachtzigtausendzweihundretein',\n",
       "  'achthundreteinundachtzigtausendneunhundretundvierzig',\n",
       "  'vierhundretachttausendachthundretfünfundfünfzig'],\n",
       " [0, 0, 0, 0, 1, 1, 0, 1, 0, 1])"
      ]
     },
     "execution_count": 160,
     "metadata": {},
     "output_type": "execute_result"
    }
   ],
   "source": [
    "examplesTrain[:10], labels[:10]"
   ]
  },
  {
   "cell_type": "code",
   "execution_count": null,
   "metadata": {},
   "outputs": [],
   "source": []
  }
 ],
 "metadata": {
  "kernelspec": {
   "display_name": "Python 3",
   "language": "python",
   "name": "python3"
  },
  "language_info": {
   "codemirror_mode": {
    "name": "ipython",
    "version": 3
   },
   "file_extension": ".py",
   "mimetype": "text/x-python",
   "name": "python",
   "nbconvert_exporter": "python",
   "pygments_lexer": "ipython3",
   "version": "3.6.4"
  }
 },
 "nbformat": 4,
 "nbformat_minor": 2
}
