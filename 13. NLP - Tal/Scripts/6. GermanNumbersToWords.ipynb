{
 "cells": [
  {
   "cell_type": "code",
   "execution_count": 222,
   "metadata": {},
   "outputs": [],
   "source": [
    "numMap = {\n",
    "    \n",
    "    0:'',\n",
    "    1: 'eins',\n",
    "    2: 'zwei',\n",
    "    3: 'drei',\n",
    "    4: 'vier',\n",
    "    5: 'fünf',\n",
    "    6: 'sechs',\n",
    "    7: 'sieben',\n",
    "    8: 'acht',\n",
    "    9: 'neun',\n",
    "    10: 'zehn',\n",
    "    11: 'elf',\n",
    "    12: 'zwölf',\n",
    "    20: 'zwanzig',\n",
    "    30: 'dreiβig',\n",
    "    40: 'vierzig',\n",
    "    50: 'fünfzig',\n",
    "    60: 'sechzig',\n",
    "    70 : 'siebzig',\n",
    "    80: 'achtzig',\n",
    "    90: 'neunzig',\n",
    "    None: '',\n",
    "    10**2: 'hundert',\n",
    "    10**3: 'tausend',\n",
    "    10**6: ' Million ',\n",
    "    10**9: 'milliarde',\n",
    "    10**12: 'billion',\n",
    "    10**15: 'billiarde',\n",
    "    10**18: 'trillion',\n",
    "    \n",
    "    \n",
    "    \n",
    "}"
   ]
  },
  {
   "cell_type": "code",
   "execution_count": 214,
   "metadata": {},
   "outputs": [
    {
     "data": {
      "text/plain": [
       "100000"
      ]
     },
     "execution_count": 214,
     "metadata": {},
     "output_type": "execute_result"
    }
   ],
   "source": [
    "10**5\n"
   ]
  },
  {
   "cell_type": "code",
   "execution_count": 215,
   "metadata": {},
   "outputs": [],
   "source": [
    "def handleRightPair(b,c,only=False):\n",
    "    #handles tens places\n",
    "    B,C = map(int,[b,c])\n",
    "    if B ==0:\n",
    "        #if its a ones\n",
    "        result =  numMap[C]\n",
    "    elif B ==1 and C <3 and only:\n",
    "        #eleven or twelve\n",
    "        result = numMap[10*B+C]\n",
    "    elif B==1:\n",
    "        #if its 10\n",
    "        result = numMap[C]+numMap[10*B]\n",
    "    else:\n",
    "        \n",
    "        result = numMap[C]+'und'+numMap[10*B]\n",
    "    \n",
    "    if not (only and B==0):\n",
    "        #if its just 1 \n",
    "        result = result.replace('eins','ein')\n",
    "    return result\n"
   ]
  },
  {
   "cell_type": "code",
   "execution_count": null,
   "metadata": {},
   "outputs": [],
   "source": []
  },
  {
   "cell_type": "code",
   "execution_count": 216,
   "metadata": {},
   "outputs": [],
   "source": [
    "def handleTriplet(triplet,only=False):\n",
    "    a,b,c = list(triplet)\n",
    "    A,B,C = map(int,[a,b,c])\n",
    "    tens = handleRightPair(b,c,only=only)\n",
    "    \n",
    "    if A ==0:\n",
    "        result = tens\n",
    "    elif A ==1:\n",
    "        result = numMap[A][:-1] +'hundret'+tens\n",
    "    else:\n",
    "        result = numMap[A] +'hundret'+tens\n",
    "    return result\n",
    "\n",
    "        \n",
    "    "
   ]
  },
  {
   "cell_type": "code",
   "execution_count": 217,
   "metadata": {},
   "outputs": [
    {
     "data": {
      "text/plain": [
       "'einundzwanzig'"
      ]
     },
     "execution_count": 217,
     "metadata": {},
     "output_type": "execute_result"
    }
   ],
   "source": [
    "handleTriplet('021')"
   ]
  },
  {
   "cell_type": "code",
   "execution_count": 218,
   "metadata": {},
   "outputs": [],
   "source": [
    "from itertools import zip_longest\n",
    "def grouper(iterable, n, fillvalue=None):\n",
    "    \"Collect data into fixed-length chunks or blocks\"\n",
    "    # grouper('ABCDEFG', 3, 'x') --> ABC DEF Gxx\"\n",
    "    args = [iter(iterable)] * n\n",
    "    return zip_longest(*args, fillvalue=fillvalue)\n",
    "\n",
    "def handleNumber(num):\n",
    "    only = num <1000\n",
    "    size = None\n",
    "    snum = str(num)\n",
    "    rnum = snum[::-1]\n",
    "    triplets = []\n",
    "    place = 0\n",
    "    while place < len(snum):\n",
    "        triplet = list(rnum[place:place+3].ljust(3,'0'))[::-1]\n",
    "        triplets.append(triplet)\n",
    "        place+=3\n",
    "            \n",
    "    result =''\n",
    "    for triplet in triplets:\n",
    "        result = handleTriplet(triplet,only) + numMap[size] + result\n",
    "        if size ==None:\n",
    "            size =1000\n",
    "        else:\n",
    "            size *=1000\n",
    "    return result\n",
    "        \n",
    "        \n",
    "        \n",
    "        \n",
    "    \n",
    "    "
   ]
  },
  {
   "cell_type": "code",
   "execution_count": 219,
   "metadata": {},
   "outputs": [
    {
     "data": {
      "text/plain": [
       "'einhundretdreiundzwanzig Million vierhundretsechsundfünfzigtausendsiebenhundretneunundachtzig'"
      ]
     },
     "execution_count": 219,
     "metadata": {},
     "output_type": "execute_result"
    }
   ],
   "source": [
    "handleNumber(123456789)"
   ]
  },
  {
   "cell_type": "code",
   "execution_count": 205,
   "metadata": {},
   "outputs": [],
   "source": [
    "import numpy as np"
   ]
  },
  {
   "cell_type": "code",
   "execution_count": 221,
   "metadata": {},
   "outputs": [
    {
     "name": "stdout",
     "output_type": "stream",
     "text": [
      "[(8067220, 'acht Million siebenundsechzigtausendzweihundretundzwanzig'),\n",
      " (4292418, 'vier Million zweihundretzweiundneunzigtausendvierhundretachtzehn'),\n",
      " (1121649,\n",
      "  'ein Million einhundreteinundzwanzigtausendsechshundretneunundvierzig'),\n",
      " (7946879,\n",
      "  'sieben Million neunhundretsechsundvierzigtausendachthundretneunundsiebzig'),\n",
      " (6023490, 'sechs Million dreiundzwanzigtausendvierhundretundneunzig'),\n",
      " (5033055, 'fünf Million dreiunddreiβigtausendfünfundfünfzig'),\n",
      " (9991195,\n",
      "  'neun Million neunhundreteinundneunzigtausendeinhundretfünfundneunzig'),\n",
      " (1961609, 'ein Million neunhundreteinundsechzigtausendsechshundretneun'),\n",
      " (3349582,\n",
      "  'drei Million dreihundretneunundvierzigtausendfünfhundretzweiundachtzig'),\n",
      " (1443390, 'ein Million vierhundretdreiundvierzigtausenddreihundretundneunzig'),\n",
      " (7681175,\n",
      "  'sieben Million sechshundreteinundachtzigtausendeinhundretfünfundsiebzig'),\n",
      " (9056614, 'neun Million sechsundfünfzigtausendsechshundretvierzehn'),\n",
      " (1323924,\n",
      "  'ein Million dreihundretdreiundzwanzigtausendneunhundretvierundzwanzig'),\n",
      " (5685369,\n",
      "  'fünf Million sechshundretfünfundachtzigtausenddreihundretneunundsechzig'),\n",
      " (176128, 'einhundretsechsundsiebzigtausendeinhundretachtundzwanzig'),\n",
      " (9133836,\n",
      "  'neun Million einhundretdreiunddreiβigtausendachthundretsechsunddreiβig'),\n",
      " (1547382,\n",
      "  'ein Million fünfhundretsiebenundvierzigtausenddreihundretzweiundachtzig'),\n",
      " (3419829, 'drei Million vierhundretneunzehntausendachthundretneunundzwanzig'),\n",
      " (7880130, 'sieben Million achthundretundachtzigtausendeinhundretunddreiβig'),\n",
      " (1771989,\n",
      "  'ein Million siebenhundreteinundsiebzigtausendneunhundretneunundachtzig'),\n",
      " (2474547,\n",
      "  'zwei Million vierhundretvierundsiebzigtausendfünfhundretsiebenundvierzig'),\n",
      " (7426105, 'sieben Million vierhundretsechsundzwanzigtausendeinhundretfünf'),\n",
      " (3685460,\n",
      "  'drei Million sechshundretfünfundachtzigtausendvierhundretundsechzig'),\n",
      " (7169878,\n",
      "  'sieben Million einhundretneunundsechzigtausendachthundretachtundsiebzig'),\n",
      " (7882031, 'sieben Million achthundretzweiundachtzigtausendeinunddreiβig'),\n",
      " (7006081, 'sieben Million sechstausendeinundachtzig'),\n",
      " (8620109, 'acht Million sechshundretundzwanzigtausendeinhundretneun'),\n",
      " (8313093, 'acht Million dreihundretdreizehntausenddreiundneunzig'),\n",
      " (8259025, 'acht Million zweihundretneunundfünfzigtausendfünfundzwanzig'),\n",
      " (6386363,\n",
      "  'sechs Million dreihundretsechsundachtzigtausenddreihundretdreiundsechzig'),\n",
      " (4456529,\n",
      "  'vier Million vierhundretsechsundfünfzigtausendfünfhundretneunundzwanzig'),\n",
      " (8156406, 'acht Million einhundretsechsundfünfzigtausendvierhundretsechs'),\n",
      " (8235545,\n",
      "  'acht Million zweihundretfünfunddreiβigtausendfünfhundretfünfundvierzig'),\n",
      " (4910390, 'vier Million neunhundretzehntausenddreihundretundneunzig'),\n",
      " (9369125,\n",
      "  'neun Million dreihundretneunundsechzigtausendeinhundretfünfundzwanzig'),\n",
      " (2991038, 'zwei Million neunhundreteinundneunzigtausendachtunddreiβig'),\n",
      " (2371237,\n",
      "  'zwei Million dreihundreteinundsiebzigtausendzweihundretsiebenunddreiβig'),\n",
      " (6658524,\n",
      "  'sechs Million sechshundretachtundfünfzigtausendfünfhundretvierundzwanzig'),\n",
      " (6363793,\n",
      "  'sechs Million dreihundretdreiundsechzigtausendsiebenhundretdreiundneunzig'),\n",
      " (6929940,\n",
      "  'sechs Million neunhundretneunundzwanzigtausendneunhundretundvierzig'),\n",
      " (2444949,\n",
      "  'zwei Million vierhundretvierundvierzigtausendneunhundretneunundvierzig'),\n",
      " (4041153, 'vier Million einundvierzigtausendeinhundretdreiundfünfzig'),\n",
      " (4458950,\n",
      "  'vier Million vierhundretachtundfünfzigtausendneunhundretundfünfzig'),\n",
      " (5223965,\n",
      "  'fünf Million zweihundretdreiundzwanzigtausendneunhundretfünfundsechzig'),\n",
      " (5194376,\n",
      "  'fünf Million einhundretvierundneunzigtausenddreihundretsechsundsiebzig'),\n",
      " (9059980, 'neun Million neunundfünfzigtausendneunhundretundachtzig'),\n",
      " (2283655,\n",
      "  'zwei Million zweihundretdreiundachtzigtausendsechshundretfünfundfünfzig'),\n",
      " (9454348,\n",
      "  'neun Million vierhundretvierundfünfzigtausenddreihundretachtundvierzig'),\n",
      " (9594874,\n",
      "  'neun Million fünfhundretvierundneunzigtausendachthundretvierundsiebzig'),\n",
      " (3471116, 'drei Million vierhundreteinundsiebzigtausendeinhundretsechszehn'),\n",
      " (1540788,\n",
      "  'ein Million fünfhundretundvierzigtausendsiebenhundretachtundachtzig'),\n",
      " (8535348,\n",
      "  'acht Million fünfhundretfünfunddreiβigtausenddreihundretachtundvierzig'),\n",
      " (3383827,\n",
      "  'drei Million dreihundretdreiundachtzigtausendachthundretsiebenundzwanzig'),\n",
      " (6402513, 'sechs Million vierhundretzweitausendfünfhundretdreizehn'),\n",
      " (7565066, 'sieben Million fünfhundretfünfundsechzigtausendsechsundsechzig'),\n",
      " (7124001, 'sieben Million einhundretvierundzwanzigtausendein'),\n",
      " (4056709, 'vier Million sechsundfünfzigtausendsiebenhundretneun'),\n",
      " (9294697,\n",
      "  'neun Million zweihundretvierundneunzigtausendsechshundretsiebenundneunzig'),\n",
      " (4948337,\n",
      "  'vier Million neunhundretachtundvierzigtausenddreihundretsiebenunddreiβig'),\n",
      " (2516620, 'zwei Million fünfhundretsechszehntausendsechshundretundzwanzig'),\n",
      " (4787, 'viertausendsiebenhundretsiebenundachtzig'),\n",
      " (7406156, 'sieben Million vierhundretsechstausendeinhundretsechsundfünfzig'),\n",
      " (237299, 'zweihundretsiebenunddreiβigtausendzweihundretneunundneunzig'),\n",
      " (4354315, 'vier Million dreihundretvierundfünfzigtausenddreihundretfünfzehn'),\n",
      " (179433, 'einhundretneunundsiebzigtausendvierhundretdreiunddreiβig'),\n",
      " (7124456,\n",
      "  'sieben Million einhundretvierundzwanzigtausendvierhundretsechsundfünfzig'),\n",
      " (7053200, 'sieben Million dreiundfünfzigtausendzweihundret'),\n",
      " (6284219, 'sechs Million zweihundretvierundachtzigtausendzweihundretneunzehn'),\n",
      " (7106416, 'sieben Million einhundretsechstausendvierhundretsechszehn'),\n",
      " (2083862, 'zwei Million dreiundachtzigtausendachthundretzweiundsechzig'),\n",
      " (823674, 'achthundretdreiundzwanzigtausendsechshundretvierundsiebzig'),\n",
      " (9388320,\n",
      "  'neun Million dreihundretachtundachtzigtausenddreihundretundzwanzig'),\n",
      " (6142976,\n",
      "  'sechs Million einhundretzweiundvierzigtausendneunhundretsechsundsiebzig'),\n",
      " (456385, 'vierhundretsechsundfünfzigtausenddreihundretfünfundachtzig'),\n",
      " (3998509, 'drei Million neunhundretachtundneunzigtausendfünfhundretneun'),\n",
      " (6040841, 'sechs Million undvierzigtausendachthundreteinundvierzig'),\n",
      " (272136, 'zweihundretzweiundsiebzigtausendeinhundretsechsunddreiβig'),\n",
      " (3631372,\n",
      "  'drei Million sechshundreteinunddreiβigtausenddreihundretzweiundsiebzig'),\n",
      " (477422, 'vierhundretsiebenundsiebzigtausendvierhundretzweiundzwanzig'),\n",
      " (1711035, 'ein Million siebenhundreteinzehntausendfünfunddreiβig'),\n",
      " (4587343,\n",
      "  'vier Million fünfhundretsiebenundachtzigtausenddreihundretdreiundvierzig'),\n",
      " (7533016, 'sieben Million fünfhundretdreiunddreiβigtausendsechszehn'),\n",
      " (8317966,\n",
      "  'acht Million dreihundretsiebenzehntausendneunhundretsechsundsechzig'),\n",
      " (7693592,\n",
      "  'sieben Million sechshundretdreiundneunzigtausendfünfhundretzweiundneunzig'),\n",
      " (3832386,\n",
      "  'drei Million achthundretzweiunddreiβigtausenddreihundretsechsundachtzig'),\n",
      " (6647582,\n",
      "  'sechs Million sechshundretsiebenundvierzigtausendfünfhundretzweiundachtzig'),\n",
      " (4651268,\n",
      "  'vier Million sechshundreteinundfünfzigtausendzweihundretachtundsechzig'),\n",
      " (4865517,\n",
      "  'vier Million achthundretfünfundsechzigtausendfünfhundretsiebenzehn'),\n",
      " (9481416, 'neun Million vierhundreteinundachtzigtausendvierhundretsechszehn'),\n",
      " (3948372,\n",
      "  'drei Million neunhundretachtundvierzigtausenddreihundretzweiundsiebzig'),\n",
      " (6750630,\n",
      "  'sechs Million siebenhundretundfünfzigtausendsechshundretunddreiβig'),\n",
      " (5066956, 'fünf Million sechsundsechzigtausendneunhundretsechsundfünfzig'),\n",
      " (1511938, 'ein Million fünfhundreteinzehntausendneunhundretachtunddreiβig'),\n",
      " (1705268, 'ein Million siebenhundretfünftausendzweihundretachtundsechzig'),\n",
      " (9168356,\n",
      "  'neun Million einhundretachtundsechzigtausenddreihundretsechsundfünfzig'),\n",
      " (4512899, 'vier Million fünfhundretzweizehntausendachthundretneunundneunzig'),\n",
      " (1964404, 'ein Million neunhundretvierundsechzigtausendvierhundretvier'),\n",
      " (9793435,\n",
      "  'neun Million siebenhundretdreiundneunzigtausendvierhundretfünfunddreiβig'),\n",
      " (250555, 'zweihundretundfünfzigtausendfünfhundretfünfundfünfzig'),\n",
      " (304193, 'dreihundretviertausendeinhundretdreiundneunzig')]\n"
     ]
    }
   ],
   "source": [
    "pprint.pprint(list(map(lambda x: (x,handleNumber(x)),np.random.randint(0,10000000,100))))"
   ]
  },
  {
   "cell_type": "code",
   "execution_count": 220,
   "metadata": {},
   "outputs": [],
   "source": [
    "import pprint"
   ]
  },
  {
   "cell_type": "code",
   "execution_count": null,
   "metadata": {},
   "outputs": [],
   "source": []
  }
 ],
 "metadata": {
  "kernelspec": {
   "display_name": "Python 3",
   "language": "python",
   "name": "python3"
  },
  "language_info": {
   "codemirror_mode": {
    "name": "ipython",
    "version": 3
   },
   "file_extension": ".py",
   "mimetype": "text/x-python",
   "name": "python",
   "nbconvert_exporter": "python",
   "pygments_lexer": "ipython3",
   "version": "3.6.4"
  }
 },
 "nbformat": 4,
 "nbformat_minor": 2
}
