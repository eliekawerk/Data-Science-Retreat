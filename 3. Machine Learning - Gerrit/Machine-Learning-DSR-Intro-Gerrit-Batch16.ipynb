{
 "cells": [
  {
   "cell_type": "markdown",
   "metadata": {},
   "source": [
    "# Machine Learning\n",
    "\n",
    "This notebook is supposed to be an introduction to Machine Learning with Python for DSRers, who may have no clue in ML, but know a little bit of Python.\n",
    "\n",
    "It's the first time this notebook is being used, mainly because:\n",
    "\n",
    "- Everything in one large notebook instead of several smaller ones.\n",
    "\n",
    "- To harmonize the content of the notebooks with the order of the slides.\n",
    "\n",
    "- Substantially extending on typical interview questions, which I think is the main result you will get from \"all the theory\"."
   ]
  },
  {
   "cell_type": "code",
   "execution_count": 1,
   "metadata": {
    "ExecuteTime": {
     "end_time": "2018-09-21T09:46:40.559071Z",
     "start_time": "2018-09-21T09:46:36.446911Z"
    }
   },
   "outputs": [],
   "source": [
    "import sklearn\n",
    "import numpy as np\n",
    "import pandas as pd\n",
    "import matplotlib.pyplot as plt\n",
    "%matplotlib inline\n",
    "import seaborn as sns\n",
    "\n",
    "# Autoreload modules\n",
    "%load_ext autoreload\n",
    "%autoreload 2"
   ]
  },
  {
   "cell_type": "code",
   "execution_count": 2,
   "metadata": {
    "ExecuteTime": {
     "end_time": "2018-09-20T15:29:23.294698Z",
     "start_time": "2018-09-20T15:29:20.670002Z"
    }
   },
   "outputs": [
    {
     "name": "stdout",
     "output_type": "stream",
     "text": [
      "Requirement already satisfied: seaborn in /Users/uberwach/anaconda3/lib/python3.6/site-packages (0.9.0)\n",
      "Requirement already satisfied: scipy>=0.14.0 in /Users/uberwach/anaconda3/lib/python3.6/site-packages (from seaborn) (1.0.0)\n",
      "Requirement already satisfied: numpy>=1.9.3 in /Users/uberwach/anaconda3/lib/python3.6/site-packages (from seaborn) (1.14.0)\n",
      "Requirement already satisfied: pandas>=0.15.2 in /Users/uberwach/anaconda3/lib/python3.6/site-packages (from seaborn) (0.22.0)\n",
      "Requirement already satisfied: matplotlib>=1.4.3 in /Users/uberwach/anaconda3/lib/python3.6/site-packages (from seaborn) (2.1.2)\n",
      "Requirement already satisfied: python-dateutil>=2 in /Users/uberwach/anaconda3/lib/python3.6/site-packages (from pandas>=0.15.2->seaborn) (2.6.1)\n",
      "Requirement already satisfied: pytz>=2011k in /Users/uberwach/anaconda3/lib/python3.6/site-packages (from pandas>=0.15.2->seaborn) (2017.3)\n",
      "Requirement already satisfied: six>=1.10 in /Users/uberwach/anaconda3/lib/python3.6/site-packages (from matplotlib>=1.4.3->seaborn) (1.11.0)\n",
      "Requirement already satisfied: cycler>=0.10 in /Users/uberwach/anaconda3/lib/python3.6/site-packages (from matplotlib>=1.4.3->seaborn) (0.10.0)\n",
      "Requirement already satisfied: pyparsing!=2.0.4,!=2.1.2,!=2.1.6,>=2.0.1 in /Users/uberwach/anaconda3/lib/python3.6/site-packages (from matplotlib>=1.4.3->seaborn) (2.2.0)\n"
     ]
    }
   ],
   "source": [
    "!pip install --user seaborn"
   ]
  },
  {
   "cell_type": "code",
   "execution_count": 2,
   "metadata": {
    "ExecuteTime": {
     "end_time": "2018-09-21T09:46:42.188156Z",
     "start_time": "2018-09-21T09:46:42.138491Z"
    }
   },
   "outputs": [],
   "source": [
    "# Standard settings I do\n",
    "plt.rcParams['savefig.dpi'] = 80\n",
    "\n",
    "plt.rcParams['figure.autolayout'] = False\n",
    "plt.rcParams['figure.figsize'] = 20, 12\n",
    "plt.rcParams['axes.labelsize'] = 18\n",
    "plt.rcParams['axes.titlesize'] = 20\n",
    "plt.rcParams['font.size'] = 16\n",
    "plt.rcParams['lines.linewidth'] = 2.0\n",
    "plt.rcParams['lines.markersize'] = 8\n",
    "plt.rcParams['legend.fontsize'] = 14\n",
    "\n",
    "plt.rcParams['text.usetex'] = False # True activates latex output in fonts!\n",
    "plt.rcParams['text.latex.preamble'] = \"\\\\usepackage{subdepth}, \\\\usepackage{type1cm}\""
   ]
  },
  {
   "cell_type": "code",
   "execution_count": 4,
   "metadata": {
    "ExecuteTime": {
     "end_time": "2018-09-20T15:29:26.169745Z",
     "start_time": "2018-09-20T15:29:23.337511Z"
    }
   },
   "outputs": [
    {
     "name": "stdout",
     "output_type": "stream",
     "text": [
      "Requirement already satisfied: seaborn in /Users/uberwach/anaconda3/lib/python3.6/site-packages (0.9.0)\n",
      "Requirement already satisfied: matplotlib>=1.4.3 in /Users/uberwach/anaconda3/lib/python3.6/site-packages (from seaborn) (2.1.2)\n",
      "Requirement already satisfied: numpy>=1.9.3 in /Users/uberwach/anaconda3/lib/python3.6/site-packages (from seaborn) (1.14.0)\n",
      "Requirement already satisfied: scipy>=0.14.0 in /Users/uberwach/anaconda3/lib/python3.6/site-packages (from seaborn) (1.0.0)\n",
      "Requirement already satisfied: pandas>=0.15.2 in /Users/uberwach/anaconda3/lib/python3.6/site-packages (from seaborn) (0.22.0)\n",
      "Requirement already satisfied: six>=1.10 in /Users/uberwach/anaconda3/lib/python3.6/site-packages (from matplotlib>=1.4.3->seaborn) (1.11.0)\n",
      "Requirement already satisfied: python-dateutil>=2.1 in /Users/uberwach/anaconda3/lib/python3.6/site-packages (from matplotlib>=1.4.3->seaborn) (2.6.1)\n",
      "Requirement already satisfied: pytz in /Users/uberwach/anaconda3/lib/python3.6/site-packages (from matplotlib>=1.4.3->seaborn) (2017.3)\n",
      "Requirement already satisfied: cycler>=0.10 in /Users/uberwach/anaconda3/lib/python3.6/site-packages (from matplotlib>=1.4.3->seaborn) (0.10.0)\n",
      "Requirement already satisfied: pyparsing!=2.0.4,!=2.1.2,!=2.1.6,>=2.0.1 in /Users/uberwach/anaconda3/lib/python3.6/site-packages (from matplotlib>=1.4.3->seaborn) (2.2.0)\n"
     ]
    }
   ],
   "source": [
    "!pip install seaborn"
   ]
  },
  {
   "cell_type": "markdown",
   "metadata": {},
   "source": [
    "What are you going to learn? Well, mainly working with __scikit-learn__ and being able to use the models learned in the slides in a concrete implementation as well as judging your results (and assuring they are correct)."
   ]
  },
  {
   "cell_type": "markdown",
   "metadata": {},
   "source": [
    "### Datasets \n",
    "\n",
    "We will start to work with the scikit learn datasets. There are three groups: `make` for synthetic, `load` for small datasets contained in sklearn, and `fetch` for (possibly larger) datasets that have to be downloaded once (they are usually stored in your user directory)"
   ]
  },
  {
   "cell_type": "code",
   "execution_count": 5,
   "metadata": {
    "ExecuteTime": {
     "end_time": "2018-09-20T15:29:26.339896Z",
     "start_time": "2018-09-20T15:29:26.172022Z"
    }
   },
   "outputs": [],
   "source": [
    "from sklearn.datasets import fetch_20newsgroups, load_iris, make_blobs"
   ]
  },
  {
   "cell_type": "code",
   "execution_count": 6,
   "metadata": {
    "ExecuteTime": {
     "end_time": "2018-09-20T15:29:26.375821Z",
     "start_time": "2018-09-20T15:29:26.341595Z"
    }
   },
   "outputs": [],
   "source": [
    "def sns_palette_to_cmap(palette):\n",
    "    from matplotlib.colors import ListedColormap\n",
    "    return ListedColormap(palette.as_hex())\n",
    "\n",
    "def get_cmap(n_classes):\n",
    "    return sns_palette_to_cmap(sns.hls_palette(n_classes))"
   ]
  },
  {
   "cell_type": "code",
   "execution_count": 10,
   "metadata": {
    "ExecuteTime": {
     "end_time": "2018-09-20T15:29:54.537817Z",
     "start_time": "2018-09-20T15:29:54.505560Z"
    }
   },
   "outputs": [],
   "source": [
    "X, y = make_blobs(n_samples=200, n_features=2, centers=[(1.0, 1.0), (1.0, 0.8)], random_state=42)\n",
    "n_classes = len(np.unique(y))\n",
    "cmap = get_cmap(n_classes) # just to keep things standard"
   ]
  },
  {
   "cell_type": "code",
   "execution_count": 11,
   "metadata": {
    "ExecuteTime": {
     "end_time": "2018-09-20T15:29:54.963872Z",
     "start_time": "2018-09-20T15:29:54.930761Z"
    }
   },
   "outputs": [
    {
     "data": {
      "text/plain": [
       "array([0, 0, 0, 1, 0, 0, 0, 1, 1, 1, 0, 1, 0, 1, 0, 1, 0, 1, 0, 0, 0, 0,\n",
       "       0, 1, 1, 1, 1, 0, 0, 1, 1, 1, 1, 0, 0, 0, 1, 0, 1, 1, 1, 1, 0, 1,\n",
       "       0, 1, 0, 0, 1, 0, 0, 0, 1, 0, 1, 1, 1, 0, 1, 0, 0, 1, 1, 1, 0, 0,\n",
       "       0, 1, 1, 1, 1, 0, 0, 1, 0, 0, 0, 1, 1, 0, 0, 1, 0, 1, 0, 1, 0, 1,\n",
       "       1, 1, 0, 1, 0, 1, 0, 1, 1, 0, 0, 0, 1, 0, 1, 1, 0, 0, 1, 0, 0, 0,\n",
       "       0, 1, 1, 1, 0, 0, 1, 1, 0, 1, 1, 1, 1, 1, 1, 1, 0, 1, 1, 1, 1, 1,\n",
       "       0, 0, 0, 0, 1, 0, 1, 0, 1, 1, 1, 1, 0, 0, 0, 0, 0, 0, 1, 0, 1, 0,\n",
       "       0, 1, 1, 1, 0, 1, 1, 0, 1, 0, 0, 0, 1, 1, 1, 1, 1, 0, 0, 1, 0, 0,\n",
       "       0, 1, 0, 1, 0, 0, 1, 0, 0, 1, 0, 1, 0, 0, 1, 0, 1, 1, 0, 0, 0, 1,\n",
       "       1, 0])"
      ]
     },
     "execution_count": 11,
     "metadata": {},
     "output_type": "execute_result"
    }
   ],
   "source": [
    "y"
   ]
  },
  {
   "cell_type": "code",
   "execution_count": 12,
   "metadata": {
    "ExecuteTime": {
     "end_time": "2018-09-20T15:29:55.611238Z",
     "start_time": "2018-09-20T15:29:55.358375Z"
    }
   },
   "outputs": [
    {
     "data": {
      "image/png": "[encoded data removed]",
      "text/plain": [
       "<matplotlib.figure.Figure at 0x1a0f4e3470>"
      ]
     },
     "metadata": {},
     "output_type": "display_data"
    }
   ],
   "source": [
    "sns.palplot(sns.hls_palette(n_classes))"
   ]
  },
  {
   "cell_type": "code",
   "execution_count": 13,
   "metadata": {
    "ExecuteTime": {
     "end_time": "2018-09-20T15:29:56.009802Z",
     "start_time": "2018-09-20T15:29:55.761374Z"
    }
   },
   "outputs": [
    {
     "data": {
      "text/plain": [
       "Text(0.5,1,'Three blobs in the plane')"
      ]
     },
     "execution_count": 13,
     "metadata": {},
     "output_type": "execute_result"
    },
    {
     "data": {
      "image/png": "[encoded data removed]",
      "text/plain": [
       "<matplotlib.figure.Figure at 0x1a1855d518>"
      ]
     },
     "metadata": {},
     "output_type": "display_data"
    }
   ],
   "source": [
    "plt.scatter(X[:, 0], X[:, 1], c=y, cmap=cmap)\n",
    "plt.title(\"Three blobs in the plane\")"
   ]
  },
  {
   "cell_type": "markdown",
   "metadata": {},
   "source": [
    "Let's try the first model we have discussed: k-NN:"
   ]
  },
  {
   "cell_type": "code",
   "execution_count": 14,
   "metadata": {
    "ExecuteTime": {
     "end_time": "2018-09-20T15:29:56.576514Z",
     "start_time": "2018-09-20T15:29:56.547271Z"
    }
   },
   "outputs": [],
   "source": [
    "from sklearn.neighbors import KNeighborsClassifier"
   ]
  },
  {
   "cell_type": "code",
   "execution_count": 15,
   "metadata": {
    "ExecuteTime": {
     "end_time": "2018-09-20T15:29:57.011198Z",
     "start_time": "2018-09-20T15:29:56.979353Z"
    }
   },
   "outputs": [
    {
     "data": {
      "text/plain": [
       "KNeighborsClassifier(algorithm='auto', leaf_size=30, metric='minkowski',\n",
       "           metric_params=None, n_jobs=1, n_neighbors=5, p=2,\n",
       "           weights='uniform')"
      ]
     },
     "execution_count": 15,
     "metadata": {},
     "output_type": "execute_result"
    }
   ],
   "source": [
    "knn = KNeighborsClassifier(n_neighbors=5)\n",
    "# fit = does the training = the learning\n",
    "knn.fit(X, y)"
   ]
  },
  {
   "cell_type": "markdown",
   "metadata": {},
   "source": [
    "With `score` one gets the metric the model was optimized for."
   ]
  },
  {
   "cell_type": "code",
   "execution_count": 16,
   "metadata": {
    "ExecuteTime": {
     "end_time": "2018-09-20T15:29:57.853192Z",
     "start_time": "2018-09-20T15:29:57.817416Z"
    },
    "scrolled": true
   },
   "outputs": [
    {
     "name": "stdout",
     "output_type": "stream",
     "text": [
      "Model accuracy: 71.00%\n"
     ]
    }
   ],
   "source": [
    "print(\"Model accuracy: %.2f%%\" % (100. * knn.score(X, y)))"
   ]
  },
  {
   "cell_type": "code",
   "execution_count": 17,
   "metadata": {
    "ExecuteTime": {
     "end_time": "2018-09-20T15:29:58.327893Z",
     "start_time": "2018-09-20T15:29:58.276315Z"
    }
   },
   "outputs": [],
   "source": [
    "def plot_decision_surface(X, y, clf, n_classes=None):\n",
    "    \n",
    "    if n_classes is None:\n",
    "        n_classes = len(np.unique(y))\n",
    "\n",
    "    h = .02  # step size in the mesh\n",
    "    x_min, x_max = X[:, 0].min() - 1, X[:, 0].max() + 1\n",
    "    y_min, y_max = X[:, 1].min() - 1, X[:, 1].max() + 1\n",
    "    xx, yy = np.meshgrid(np.arange(x_min, x_max, h),\n",
    "                         np.arange(y_min, y_max, h))\n",
    "    Z = clf.predict(np.c_[xx.ravel(), yy.ravel()])\n",
    "\n",
    "    colmap_light = sns_palette_to_cmap(sns.hls_palette(n_classes, l=.8, s=.6))\n",
    "    colmap_dark = sns_palette_to_cmap(sns.hls_palette(n_classes, l=.5, s=1.))\n",
    "    # Put the result into a color plot\n",
    "    Z = Z.reshape(xx.shape)\n",
    "    plt.figure()\n",
    "    plt.pcolormesh(xx, yy, Z, cmap=colmap_light)\n",
    "\n",
    "    # Plot also the training points\n",
    "    plt.scatter(X[:, 0], X[:, 1], c=y, cmap=colmap_dark)\n",
    "    plt.axis('tight')"
   ]
  },
  {
   "cell_type": "code",
   "execution_count": 18,
   "metadata": {
    "ExecuteTime": {
     "end_time": "2018-09-20T15:29:59.493944Z",
     "start_time": "2018-09-20T15:29:58.728457Z"
    }
   },
   "outputs": [
    {
     "data": {
      "text/plain": [
       "Text(0.5,1,'Hi $\\\\int{hi \\\\, dx}$')"
      ]
     },
     "execution_count": 18,
     "metadata": {},
     "output_type": "execute_result"
    },
    {
     "data": {
      "image/png": "[encoded data removed]",
      "text/plain": [
       "<matplotlib.figure.Figure at 0x1a185f7be0>"
      ]
     },
     "metadata": {},
     "output_type": "display_data"
    }
   ],
   "source": [
    "plot_decision_surface(X, y, knn)\n",
    "plt.title(\"Hi $\\int{hi \\, dx}$\")"
   ]
  },
  {
   "cell_type": "markdown",
   "metadata": {},
   "source": [
    "_Exercise_: Build a k-NN classifier for this data set.\n",
    "Judge visually whether this will be good."
   ]
  },
  {
   "cell_type": "code",
   "execution_count": 19,
   "metadata": {
    "ExecuteTime": {
     "end_time": "2018-09-20T15:29:59.660670Z",
     "start_time": "2018-09-20T15:29:59.628817Z"
    }
   },
   "outputs": [],
   "source": [
    "from sklearn.datasets import make_gaussian_quantiles"
   ]
  },
  {
   "cell_type": "code",
   "execution_count": 20,
   "metadata": {
    "ExecuteTime": {
     "end_time": "2018-09-20T15:30:00.233080Z",
     "start_time": "2018-09-20T15:30:00.198953Z"
    }
   },
   "outputs": [],
   "source": [
    "X, y = make_gaussian_quantiles(n_samples=200, n_classes=5, random_state=42)\n",
    "n_classes = len(np.unique(y))\n",
    "cmap = get_cmap(n_classes) # just to keep things standard"
   ]
  },
  {
   "cell_type": "code",
   "execution_count": 21,
   "metadata": {
    "ExecuteTime": {
     "end_time": "2018-09-20T15:30:00.664369Z",
     "start_time": "2018-09-20T15:30:00.631778Z"
    }
   },
   "outputs": [
    {
     "name": "stdout",
     "output_type": "stream",
     "text": [
      "200 2\n"
     ]
    }
   ],
   "source": [
    "n_instances = X.shape[0]\n",
    "assert(n_instances == y.shape[0] == len(y))\n",
    "n_feats = X.shape[1]\n",
    "print(n_instances, n_feats)"
   ]
  },
  {
   "cell_type": "code",
   "execution_count": 22,
   "metadata": {
    "ExecuteTime": {
     "end_time": "2018-09-20T15:30:01.126186Z",
     "start_time": "2018-09-20T15:30:01.094207Z"
    }
   },
   "outputs": [
    {
     "data": {
      "text/plain": [
       "KNeighborsClassifier(algorithm='auto', leaf_size=30, metric='minkowski',\n",
       "           metric_params=None, n_jobs=1, n_neighbors=5, p=2,\n",
       "           weights='uniform')"
      ]
     },
     "execution_count": 22,
     "metadata": {},
     "output_type": "execute_result"
    }
   ],
   "source": [
    "knn = KNeighborsClassifier(5)\n",
    "knn.fit(X, y)"
   ]
  },
  {
   "cell_type": "code",
   "execution_count": 23,
   "metadata": {
    "ExecuteTime": {
     "end_time": "2018-09-20T15:30:01.708811Z",
     "start_time": "2018-09-20T15:30:01.675276Z"
    }
   },
   "outputs": [
    {
     "data": {
      "text/plain": [
       "0.87"
      ]
     },
     "execution_count": 23,
     "metadata": {},
     "output_type": "execute_result"
    }
   ],
   "source": [
    "knn.score(X, y)"
   ]
  },
  {
   "cell_type": "code",
   "execution_count": 24,
   "metadata": {
    "ExecuteTime": {
     "end_time": "2018-09-20T15:30:02.724141Z",
     "start_time": "2018-09-20T15:30:02.154861Z"
    }
   },
   "outputs": [
    {
     "data": {
      "image/png": "[encoded data removed]",
      "text/plain": [
       "<matplotlib.figure.Figure at 0x108035828>"
      ]
     },
     "metadata": {},
     "output_type": "display_data"
    }
   ],
   "source": [
    "plot_decision_surface(X, y, knn)"
   ]
  },
  {
   "cell_type": "code",
   "execution_count": 25,
   "metadata": {
    "ExecuteTime": {
     "end_time": "2018-09-20T15:30:02.757961Z",
     "start_time": "2018-09-20T15:30:02.726066Z"
    }
   },
   "outputs": [],
   "source": [
    "def select_misclassification(X, y, model):\n",
    "    \"\"\"Select the instances in the data set, where the model is wrong.\"\"\"\n",
    "    y_pred = model.predict(X)\n",
    "    idx_correct = (y == y_pred)\n",
    "    return X[~idx_correct], y[~idx_correct]"
   ]
  },
  {
   "cell_type": "code",
   "execution_count": 26,
   "metadata": {
    "ExecuteTime": {
     "end_time": "2018-09-20T15:30:03.517351Z",
     "start_time": "2018-09-20T15:30:03.484877Z"
    }
   },
   "outputs": [
    {
     "name": "stdout",
     "output_type": "stream",
     "text": [
      "(26, 2) (26,)\n"
     ]
    }
   ],
   "source": [
    "# select 5-NN missclassifications\n",
    "X_mis, y_mis = select_misclassification(X, y, knn)\n",
    "print(X_mis.shape, y_mis.shape)"
   ]
  },
  {
   "cell_type": "code",
   "execution_count": 27,
   "metadata": {
    "ExecuteTime": {
     "end_time": "2018-09-20T15:30:04.963214Z",
     "start_time": "2018-09-20T15:30:04.827274Z"
    }
   },
   "outputs": [
    {
     "data": {
      "text/html": [
       "<div>\n",
       "<style scoped>\n",
       "    .dataframe tbody tr th:only-of-type {\n",
       "        vertical-align: middle;\n",
       "    }\n",
       "\n",
       "    .dataframe tbody tr th {\n",
       "        vertical-align: top;\n",
       "    }\n",
       "\n",
       "    .dataframe thead th {\n",
       "        text-align: right;\n",
       "    }\n",
       "</style>\n",
       "<table border=\"1\" class=\"dataframe\">\n",
       "  <thead>\n",
       "    <tr style=\"text-align: right;\">\n",
       "      <th></th>\n",
       "      <th>x_1</th>\n",
       "      <th>x_2</th>\n",
       "      <th>y</th>\n",
       "    </tr>\n",
       "  </thead>\n",
       "  <tbody>\n",
       "    <tr>\n",
       "      <th>0</th>\n",
       "      <td>-1.448084</td>\n",
       "      <td>-1.407464</td>\n",
       "      <td>4</td>\n",
       "    </tr>\n",
       "    <tr>\n",
       "      <th>1</th>\n",
       "      <td>0.813517</td>\n",
       "      <td>-1.230864</td>\n",
       "      <td>3</td>\n",
       "    </tr>\n",
       "    <tr>\n",
       "      <th>2</th>\n",
       "      <td>0.075805</td>\n",
       "      <td>-0.677162</td>\n",
       "      <td>1</td>\n",
       "    </tr>\n",
       "    <tr>\n",
       "      <th>3</th>\n",
       "      <td>0.950424</td>\n",
       "      <td>-0.576904</td>\n",
       "      <td>2</td>\n",
       "    </tr>\n",
       "    <tr>\n",
       "      <th>4</th>\n",
       "      <td>-1.724918</td>\n",
       "      <td>-0.562288</td>\n",
       "      <td>4</td>\n",
       "    </tr>\n",
       "  </tbody>\n",
       "</table>\n",
       "</div>"
      ],
      "text/plain": [
       "        x_1       x_2  y\n",
       "0 -1.448084 -1.407464  4\n",
       "1  0.813517 -1.230864  3\n",
       "2  0.075805 -0.677162  1\n",
       "3  0.950424 -0.576904  2\n",
       "4 -1.724918 -0.562288  4"
      ]
     },
     "execution_count": 27,
     "metadata": {},
     "output_type": "execute_result"
    }
   ],
   "source": [
    "df = pd.DataFrame(data= {\n",
    "    'x_1': X_mis[:, 0],\n",
    "    'x_2': X_mis[:, 1],\n",
    "    'y': y_mis\n",
    "})\n",
    "\n",
    "df.head()"
   ]
  },
  {
   "cell_type": "code",
   "execution_count": 28,
   "metadata": {
    "ExecuteTime": {
     "end_time": "2018-09-20T15:30:07.050911Z",
     "start_time": "2018-09-20T15:30:07.018242Z"
    }
   },
   "outputs": [],
   "source": [
    "import seaborn as sns"
   ]
  },
  {
   "cell_type": "code",
   "execution_count": 29,
   "metadata": {
    "ExecuteTime": {
     "end_time": "2018-09-20T15:30:07.755394Z",
     "start_time": "2018-09-20T15:30:07.509277Z"
    }
   },
   "outputs": [
    {
     "data": {
      "text/plain": [
       "<matplotlib.axes._subplots.AxesSubplot at 0x1a1a401470>"
      ]
     },
     "execution_count": 29,
     "metadata": {},
     "output_type": "execute_result"
    },
    {
     "data": {
      "image/png": "[encoded data removed]",
      "text/plain": [
       "<matplotlib.figure.Figure at 0x107bc2ba8>"
      ]
     },
     "metadata": {},
     "output_type": "display_data"
    }
   ],
   "source": [
    "sns.scatterplot(x=\"x_1\", y=\"x_2\", data=df)"
   ]
  },
  {
   "cell_type": "code",
   "execution_count": 30,
   "metadata": {
    "ExecuteTime": {
     "end_time": "2018-09-20T15:30:44.814734Z",
     "start_time": "2018-09-20T15:30:44.586897Z"
    }
   },
   "outputs": [
    {
     "data": {
      "text/plain": [
       "<matplotlib.axes._subplots.AxesSubplot at 0x1a1a4630b8>"
      ]
     },
     "execution_count": 30,
     "metadata": {},
     "output_type": "execute_result"
    },
    {
     "data": {
      "image/png": "[encoded data removed]",
      "text/plain": [
       "<matplotlib.figure.Figure at 0x1a1a446240>"
      ]
     },
     "metadata": {},
     "output_type": "display_data"
    }
   ],
   "source": [
    "df.plot(x=\"x_1\", y=\"x_2\", kind=\"scatter\")"
   ]
  },
  {
   "cell_type": "code",
   "execution_count": null,
   "metadata": {
    "ExecuteTime": {
     "end_time": "2018-09-20T15:29:26.610713Z",
     "start_time": "2018-09-20T15:29:17.200Z"
    }
   },
   "outputs": [],
   "source": [
    "plt.scatter(x=X[:, 0], y=X[:, 1], c=y)\n",
    "plt.scatter(x=X_mis[:, 0], y=X_mis[:, 1], c=\"red\", marker=\"x\", s=500)\n",
    "plt.title(\"Misclassifications\")"
   ]
  },
  {
   "cell_type": "markdown",
   "metadata": {},
   "source": [
    "## Linear Regression "
   ]
  },
  {
   "cell_type": "code",
   "execution_count": 3,
   "metadata": {
    "ExecuteTime": {
     "end_time": "2018-09-21T09:46:58.110962Z",
     "start_time": "2018-09-21T09:46:57.816088Z"
    }
   },
   "outputs": [],
   "source": [
    "from sklearn.datasets import load_boston\n",
    "\n",
    "boston = load_boston()"
   ]
  },
  {
   "cell_type": "code",
   "execution_count": 4,
   "metadata": {
    "ExecuteTime": {
     "end_time": "2018-09-21T09:46:58.920523Z",
     "start_time": "2018-09-21T09:46:58.877684Z"
    }
   },
   "outputs": [
    {
     "name": "stdout",
     "output_type": "stream",
     "text": [
      "Features ['CRIM' 'ZN' 'INDUS' 'CHAS' 'NOX' 'RM' 'AGE' 'DIS' 'RAD' 'TAX' 'PTRATIO'\n",
      " 'B' 'LSTAT']\n",
      "Boston House Prices dataset\n",
      "===========================\n",
      "\n",
      "Notes\n",
      "------\n",
      "Data Set Characteristics:  \n",
      "\n",
      "    :Number of Instances: 506 \n",
      "\n",
      "    :Number of Attributes: 13 numeric/categorical predictive\n",
      "    \n",
      "    :Median Value (attribute 14) is usually the target\n",
      "\n",
      "    :Attribute Information (in order):\n",
      "        - CRIM     per capita crime rate by town\n",
      "        - ZN       proportion of residential land zoned for lots over 25,000 sq.ft.\n",
      "        - INDUS    proportion of non-retail business acres per town\n",
      "        - CHAS     Charles River dummy variable (= 1 if tract bounds river; 0 otherwise)\n",
      "        - NOX      nitric oxides concentration (parts per 10 million)\n",
      "        - RM       average number of rooms per dwelling\n",
      "        - AGE      proportion of owner-occupied units built prior to 1940\n",
      "        - DIS      weighted distances to five Boston employment centres\n",
      "        - RAD      index of accessibility to radial highways\n",
      "        - TAX      full-value property-tax rate per $10,000\n",
      "        - PTRATIO  pupil-teacher ratio by town\n",
      "        - B        1000(Bk - 0.63)^2 where Bk is the proportion of blacks by town\n",
      "        - LSTAT    % lower status of the population\n",
      "        - MEDV     Median value of owner-occupied homes in $1000's\n",
      "\n",
      "    :Missing Attribute Values: None\n",
      "\n",
      "    :Creator: Harrison, D. and Rubinfeld, D.L.\n",
      "\n",
      "This is a copy of UCI ML housing dataset.\n",
      "http://archive.ics.uci.edu/ml/datasets/Housing\n",
      "\n",
      "\n",
      "This dataset was taken from the StatLib library which is maintained at Carnegie Mellon University.\n",
      "\n",
      "The Boston house-price data of Harrison, D. and Rubinfeld, D.L. 'Hedonic\n",
      "prices and the demand for clean air', J. Environ. Economics & Management,\n",
      "vol.5, 81-102, 1978.   Used in Belsley, Kuh & Welsch, 'Regression diagnostics\n",
      "...', Wiley, 1980.   N.B. Various transformations are used in the table on\n",
      "pages 244-261 of the latter.\n",
      "\n",
      "The Boston house-price data has been used in many machine learning papers that address regression\n",
      "problems.   \n",
      "     \n",
      "**References**\n",
      "\n",
      "   - Belsley, Kuh & Welsch, 'Regression diagnostics: Identifying Influential Data and Sources of Collinearity', Wiley, 1980. 244-261.\n",
      "   - Quinlan,R. (1993). Combining Instance-Based and Model-Based Learning. In Proceedings on the Tenth International Conference of Machine Learning, 236-243, University of Massachusetts, Amherst. Morgan Kaufmann.\n",
      "   - many more! (see http://archive.ics.uci.edu/ml/datasets/Housing)\n",
      "\n"
     ]
    }
   ],
   "source": [
    "print(\"Features %s\" % boston.feature_names)\n",
    "print(boston.DESCR)"
   ]
  },
  {
   "cell_type": "code",
   "execution_count": 5,
   "metadata": {
    "ExecuteTime": {
     "end_time": "2018-09-21T09:47:15.305892Z",
     "start_time": "2018-09-21T09:47:15.262335Z"
    }
   },
   "outputs": [
    {
     "name": "stdout",
     "output_type": "stream",
     "text": [
      "(506, 13) (506,)\n"
     ]
    }
   ],
   "source": [
    "X, y = boston.data, boston.target\n",
    "print(X.shape, y.shape)"
   ]
  },
  {
   "cell_type": "code",
   "execution_count": 6,
   "metadata": {
    "ExecuteTime": {
     "end_time": "2018-09-21T09:47:17.330169Z",
     "start_time": "2018-09-21T09:47:17.285270Z"
    }
   },
   "outputs": [],
   "source": [
    "df = pd.DataFrame(boston.data)\n",
    "df.columns = ['crime_rate','res_land_zoned','industry','charles_river','nox','avg_num_rooms','prop_bf_1940','dst_emply_center','rd_highway_idx','tax_rate','stdnt_tchr_ratio','prop_blacks','low_status_pct']"
   ]
  },
  {
   "cell_type": "code",
   "execution_count": 7,
   "metadata": {
    "ExecuteTime": {
     "end_time": "2018-09-21T09:47:18.044430Z",
     "start_time": "2018-09-21T09:47:17.820692Z"
    }
   },
   "outputs": [
    {
     "data": {
      "text/html": [
       "<div>\n",
       "<style scoped>\n",
       "    .dataframe tbody tr th:only-of-type {\n",
       "        vertical-align: middle;\n",
       "    }\n",
       "\n",
       "    .dataframe tbody tr th {\n",
       "        vertical-align: top;\n",
       "    }\n",
       "\n",
       "    .dataframe thead th {\n",
       "        text-align: right;\n",
       "    }\n",
       "</style>\n",
       "<table border=\"1\" class=\"dataframe\">\n",
       "  <thead>\n",
       "    <tr style=\"text-align: right;\">\n",
       "      <th></th>\n",
       "      <th>crime_rate</th>\n",
       "      <th>res_land_zoned</th>\n",
       "      <th>industry</th>\n",
       "      <th>charles_river</th>\n",
       "      <th>nox</th>\n",
       "      <th>avg_num_rooms</th>\n",
       "      <th>prop_bf_1940</th>\n",
       "      <th>dst_emply_center</th>\n",
       "      <th>rd_highway_idx</th>\n",
       "      <th>tax_rate</th>\n",
       "      <th>stdnt_tchr_ratio</th>\n",
       "      <th>prop_blacks</th>\n",
       "      <th>low_status_pct</th>\n",
       "    </tr>\n",
       "  </thead>\n",
       "  <tbody>\n",
       "    <tr>\n",
       "      <th>0</th>\n",
       "      <td>0.00632</td>\n",
       "      <td>18.0</td>\n",
       "      <td>2.31</td>\n",
       "      <td>0.0</td>\n",
       "      <td>0.538</td>\n",
       "      <td>6.575</td>\n",
       "      <td>65.2</td>\n",
       "      <td>4.0900</td>\n",
       "      <td>1.0</td>\n",
       "      <td>296.0</td>\n",
       "      <td>15.3</td>\n",
       "      <td>396.90</td>\n",
       "      <td>4.98</td>\n",
       "    </tr>\n",
       "    <tr>\n",
       "      <th>1</th>\n",
       "      <td>0.02731</td>\n",
       "      <td>0.0</td>\n",
       "      <td>7.07</td>\n",
       "      <td>0.0</td>\n",
       "      <td>0.469</td>\n",
       "      <td>6.421</td>\n",
       "      <td>78.9</td>\n",
       "      <td>4.9671</td>\n",
       "      <td>2.0</td>\n",
       "      <td>242.0</td>\n",
       "      <td>17.8</td>\n",
       "      <td>396.90</td>\n",
       "      <td>9.14</td>\n",
       "    </tr>\n",
       "    <tr>\n",
       "      <th>2</th>\n",
       "      <td>0.02729</td>\n",
       "      <td>0.0</td>\n",
       "      <td>7.07</td>\n",
       "      <td>0.0</td>\n",
       "      <td>0.469</td>\n",
       "      <td>7.185</td>\n",
       "      <td>61.1</td>\n",
       "      <td>4.9671</td>\n",
       "      <td>2.0</td>\n",
       "      <td>242.0</td>\n",
       "      <td>17.8</td>\n",
       "      <td>392.83</td>\n",
       "      <td>4.03</td>\n",
       "    </tr>\n",
       "    <tr>\n",
       "      <th>3</th>\n",
       "      <td>0.03237</td>\n",
       "      <td>0.0</td>\n",
       "      <td>2.18</td>\n",
       "      <td>0.0</td>\n",
       "      <td>0.458</td>\n",
       "      <td>6.998</td>\n",
       "      <td>45.8</td>\n",
       "      <td>6.0622</td>\n",
       "      <td>3.0</td>\n",
       "      <td>222.0</td>\n",
       "      <td>18.7</td>\n",
       "      <td>394.63</td>\n",
       "      <td>2.94</td>\n",
       "    </tr>\n",
       "    <tr>\n",
       "      <th>4</th>\n",
       "      <td>0.06905</td>\n",
       "      <td>0.0</td>\n",
       "      <td>2.18</td>\n",
       "      <td>0.0</td>\n",
       "      <td>0.458</td>\n",
       "      <td>7.147</td>\n",
       "      <td>54.2</td>\n",
       "      <td>6.0622</td>\n",
       "      <td>3.0</td>\n",
       "      <td>222.0</td>\n",
       "      <td>18.7</td>\n",
       "      <td>396.90</td>\n",
       "      <td>5.33</td>\n",
       "    </tr>\n",
       "    <tr>\n",
       "      <th>5</th>\n",
       "      <td>0.02985</td>\n",
       "      <td>0.0</td>\n",
       "      <td>2.18</td>\n",
       "      <td>0.0</td>\n",
       "      <td>0.458</td>\n",
       "      <td>6.430</td>\n",
       "      <td>58.7</td>\n",
       "      <td>6.0622</td>\n",
       "      <td>3.0</td>\n",
       "      <td>222.0</td>\n",
       "      <td>18.7</td>\n",
       "      <td>394.12</td>\n",
       "      <td>5.21</td>\n",
       "    </tr>\n",
       "    <tr>\n",
       "      <th>6</th>\n",
       "      <td>0.08829</td>\n",
       "      <td>12.5</td>\n",
       "      <td>7.87</td>\n",
       "      <td>0.0</td>\n",
       "      <td>0.524</td>\n",
       "      <td>6.012</td>\n",
       "      <td>66.6</td>\n",
       "      <td>5.5605</td>\n",
       "      <td>5.0</td>\n",
       "      <td>311.0</td>\n",
       "      <td>15.2</td>\n",
       "      <td>395.60</td>\n",
       "      <td>12.43</td>\n",
       "    </tr>\n",
       "    <tr>\n",
       "      <th>7</th>\n",
       "      <td>0.14455</td>\n",
       "      <td>12.5</td>\n",
       "      <td>7.87</td>\n",
       "      <td>0.0</td>\n",
       "      <td>0.524</td>\n",
       "      <td>6.172</td>\n",
       "      <td>96.1</td>\n",
       "      <td>5.9505</td>\n",
       "      <td>5.0</td>\n",
       "      <td>311.0</td>\n",
       "      <td>15.2</td>\n",
       "      <td>396.90</td>\n",
       "      <td>19.15</td>\n",
       "    </tr>\n",
       "    <tr>\n",
       "      <th>8</th>\n",
       "      <td>0.21124</td>\n",
       "      <td>12.5</td>\n",
       "      <td>7.87</td>\n",
       "      <td>0.0</td>\n",
       "      <td>0.524</td>\n",
       "      <td>5.631</td>\n",
       "      <td>100.0</td>\n",
       "      <td>6.0821</td>\n",
       "      <td>5.0</td>\n",
       "      <td>311.0</td>\n",
       "      <td>15.2</td>\n",
       "      <td>386.63</td>\n",
       "      <td>29.93</td>\n",
       "    </tr>\n",
       "    <tr>\n",
       "      <th>9</th>\n",
       "      <td>0.17004</td>\n",
       "      <td>12.5</td>\n",
       "      <td>7.87</td>\n",
       "      <td>0.0</td>\n",
       "      <td>0.524</td>\n",
       "      <td>6.004</td>\n",
       "      <td>85.9</td>\n",
       "      <td>6.5921</td>\n",
       "      <td>5.0</td>\n",
       "      <td>311.0</td>\n",
       "      <td>15.2</td>\n",
       "      <td>386.71</td>\n",
       "      <td>17.10</td>\n",
       "    </tr>\n",
       "  </tbody>\n",
       "</table>\n",
       "</div>"
      ],
      "text/plain": [
       "   crime_rate  res_land_zoned  industry  charles_river    nox  avg_num_rooms  \\\n",
       "0     0.00632            18.0      2.31            0.0  0.538          6.575   \n",
       "1     0.02731             0.0      7.07            0.0  0.469          6.421   \n",
       "2     0.02729             0.0      7.07            0.0  0.469          7.185   \n",
       "3     0.03237             0.0      2.18            0.0  0.458          6.998   \n",
       "4     0.06905             0.0      2.18            0.0  0.458          7.147   \n",
       "5     0.02985             0.0      2.18            0.0  0.458          6.430   \n",
       "6     0.08829            12.5      7.87            0.0  0.524          6.012   \n",
       "7     0.14455            12.5      7.87            0.0  0.524          6.172   \n",
       "8     0.21124            12.5      7.87            0.0  0.524          5.631   \n",
       "9     0.17004            12.5      7.87            0.0  0.524          6.004   \n",
       "\n",
       "   prop_bf_1940  dst_emply_center  rd_highway_idx  tax_rate  stdnt_tchr_ratio  \\\n",
       "0          65.2            4.0900             1.0     296.0              15.3   \n",
       "1          78.9            4.9671             2.0     242.0              17.8   \n",
       "2          61.1            4.9671             2.0     242.0              17.8   \n",
       "3          45.8            6.0622             3.0     222.0              18.7   \n",
       "4          54.2            6.0622             3.0     222.0              18.7   \n",
       "5          58.7            6.0622             3.0     222.0              18.7   \n",
       "6          66.6            5.5605             5.0     311.0              15.2   \n",
       "7          96.1            5.9505             5.0     311.0              15.2   \n",
       "8         100.0            6.0821             5.0     311.0              15.2   \n",
       "9          85.9            6.5921             5.0     311.0              15.2   \n",
       "\n",
       "   prop_blacks  low_status_pct  \n",
       "0       396.90            4.98  \n",
       "1       396.90            9.14  \n",
       "2       392.83            4.03  \n",
       "3       394.63            2.94  \n",
       "4       396.90            5.33  \n",
       "5       394.12            5.21  \n",
       "6       395.60           12.43  \n",
       "7       396.90           19.15  \n",
       "8       386.63           29.93  \n",
       "9       386.71           17.10  "
      ]
     },
     "execution_count": 7,
     "metadata": {},
     "output_type": "execute_result"
    }
   ],
   "source": [
    "df.head(10)"
   ]
  },
  {
   "cell_type": "markdown",
   "metadata": {},
   "source": [
    "## Least Squares "
   ]
  },
  {
   "cell_type": "code",
   "execution_count": 9,
   "metadata": {
    "ExecuteTime": {
     "end_time": "2018-09-21T09:48:27.018661Z",
     "start_time": "2018-09-21T09:48:26.513078Z"
    }
   },
   "outputs": [],
   "source": [
    "from sklearn.linear_model import LinearRegression"
   ]
  },
  {
   "cell_type": "code",
   "execution_count": 10,
   "metadata": {
    "ExecuteTime": {
     "end_time": "2018-09-21T09:48:27.065242Z",
     "start_time": "2018-09-21T09:48:27.021008Z"
    }
   },
   "outputs": [],
   "source": [
    "least_squares = LinearRegression(normalize=True)"
   ]
  },
  {
   "cell_type": "code",
   "execution_count": 11,
   "metadata": {
    "ExecuteTime": {
     "end_time": "2018-09-21T09:48:28.411639Z",
     "start_time": "2018-09-21T09:48:27.763701Z"
    }
   },
   "outputs": [
    {
     "data": {
      "text/plain": [
       "LinearRegression(copy_X=True, fit_intercept=True, n_jobs=1, normalize=True)"
      ]
     },
     "execution_count": 11,
     "metadata": {},
     "output_type": "execute_result"
    }
   ],
   "source": [
    "least_squares.fit(X, y)"
   ]
  },
  {
   "cell_type": "code",
   "execution_count": 12,
   "metadata": {
    "ExecuteTime": {
     "end_time": "2018-09-21T09:48:28.866851Z",
     "start_time": "2018-09-21T09:48:28.413760Z"
    }
   },
   "outputs": [
    {
     "data": {
      "text/plain": [
       "Text(0.5,1,'Weights of least squares')"
      ]
     },
     "execution_count": 12,
     "metadata": {},
     "output_type": "execute_result"
    },
    {
     "data": {
      "image/png": "[encoded data removed]",
      "text/plain": [
       "<matplotlib.figure.Figure at 0x11330dbe0>"
      ]
     },
     "metadata": {},
     "output_type": "display_data"
    }
   ],
   "source": [
    "sns.barplot(x=least_squares.coef_, y=df.columns, orient=\"h\")\n",
    "plt.title(\"Weights of least squares\")"
   ]
  },
  {
   "cell_type": "markdown",
   "metadata": {},
   "source": [
    "But how good is our model on the data?"
   ]
  },
  {
   "cell_type": "code",
   "execution_count": 13,
   "metadata": {
    "ExecuteTime": {
     "end_time": "2018-09-21T09:48:32.038479Z",
     "start_time": "2018-09-21T09:48:31.991347Z"
    }
   },
   "outputs": [
    {
     "data": {
      "text/plain": [
       "0.7406077428649427"
      ]
     },
     "execution_count": 13,
     "metadata": {},
     "output_type": "execute_result"
    }
   ],
   "source": [
    "least_squares.score(X, y) # R^2"
   ]
  },
  {
   "cell_type": "code",
   "execution_count": 14,
   "metadata": {
    "ExecuteTime": {
     "end_time": "2018-09-21T09:48:33.326781Z",
     "start_time": "2018-09-21T09:48:33.220211Z"
    }
   },
   "outputs": [],
   "source": [
    "LinearRegression??"
   ]
  },
  {
   "cell_type": "markdown",
   "metadata": {},
   "source": [
    "The `score` method always returns the metric the model has been optimized for. The `sklearn.metrics` package contains all kinds of metrics."
   ]
  },
  {
   "cell_type": "code",
   "execution_count": 18,
   "metadata": {
    "ExecuteTime": {
     "end_time": "2018-09-21T10:14:35.048788Z",
     "start_time": "2018-09-21T10:14:35.006153Z"
    }
   },
   "outputs": [],
   "source": [
    "from sklearn.metrics import mean_squared_error"
   ]
  },
  {
   "cell_type": "code",
   "execution_count": 19,
   "metadata": {
    "ExecuteTime": {
     "end_time": "2018-09-21T10:14:35.243221Z",
     "start_time": "2018-09-21T10:14:35.199040Z"
    }
   },
   "outputs": [
    {
     "data": {
      "text/plain": [
       "21.8977792176875"
      ]
     },
     "execution_count": 19,
     "metadata": {},
     "output_type": "execute_result"
    }
   ],
   "source": [
    "y_pred = least_squares.predict(X) # computes the predictions\n",
    "mean_squared_error(y, y_pred)"
   ]
  },
  {
   "cell_type": "code",
   "execution_count": 20,
   "metadata": {
    "ExecuteTime": {
     "end_time": "2018-09-21T10:14:35.300947Z",
     "start_time": "2018-09-21T10:14:35.256738Z"
    }
   },
   "outputs": [
    {
     "data": {
      "text/plain": [
       "array([30.00821269, 25.0298606 , 30.5702317 , 28.60814055, 27.94288232,\n",
       "       25.25940048, 23.00433994, 19.5347558 , 11.51696539, 18.91981483])"
      ]
     },
     "execution_count": 20,
     "metadata": {},
     "output_type": "execute_result"
    }
   ],
   "source": [
    "y_pred[:10]"
   ]
  },
  {
   "cell_type": "markdown",
   "metadata": {},
   "source": [
    "## An unpleasant surprise\n",
    "\n",
    "But in reality our model has to form predictions on *unseen* data. Let's model this situation."
   ]
  },
  {
   "cell_type": "code",
   "execution_count": 21,
   "metadata": {
    "ExecuteTime": {
     "end_time": "2018-09-21T10:15:50.754022Z",
     "start_time": "2018-09-21T10:15:50.706593Z"
    }
   },
   "outputs": [],
   "source": [
    "from sklearn.model_selection import train_test_split\n",
    "X_train, X_test, y_train, y_test = train_test_split(X, y, shuffle=True, random_state=42)"
   ]
  },
  {
   "cell_type": "code",
   "execution_count": null,
   "metadata": {
    "ExecuteTime": {
     "end_time": "2018-09-20T15:29:26.633470Z",
     "start_time": "2018-09-20T15:29:17.255Z"
    }
   },
   "outputs": [],
   "source": [
    "train_test_split??"
   ]
  },
  {
   "cell_type": "code",
   "execution_count": null,
   "metadata": {
    "ExecuteTime": {
     "end_time": "2018-09-20T15:29:26.635097Z",
     "start_time": "2018-09-20T15:29:17.258Z"
    }
   },
   "outputs": [],
   "source": [
    "LinearRegression.score??"
   ]
  },
  {
   "cell_type": "code",
   "execution_count": 22,
   "metadata": {
    "ExecuteTime": {
     "end_time": "2018-09-21T10:15:58.410967Z",
     "start_time": "2018-09-21T10:15:58.365703Z"
    }
   },
   "outputs": [
    {
     "name": "stdout",
     "output_type": "stream",
     "text": [
      "(379, 13) (127, 13) (506, 13)\n"
     ]
    }
   ],
   "source": [
    "print(X_train.shape, X_test.shape, X.shape)"
   ]
  },
  {
   "cell_type": "code",
   "execution_count": 23,
   "metadata": {
    "ExecuteTime": {
     "end_time": "2018-09-21T10:17:55.350342Z",
     "start_time": "2018-09-21T10:17:55.304091Z"
    }
   },
   "outputs": [
    {
     "data": {
      "text/plain": [
       "LinearRegression(copy_X=True, fit_intercept=True, n_jobs=1, normalize=True)"
      ]
     },
     "execution_count": 23,
     "metadata": {},
     "output_type": "execute_result"
    }
   ],
   "source": [
    "least_squares.fit(X_train, y_train)"
   ]
  },
  {
   "cell_type": "code",
   "execution_count": 24,
   "metadata": {
    "ExecuteTime": {
     "end_time": "2018-09-21T10:18:00.490905Z",
     "start_time": "2018-09-21T10:18:00.444401Z"
    }
   },
   "outputs": [
    {
     "name": "stdout",
     "output_type": "stream",
     "text": [
      "Train score: 0.7481\n",
      "Test score: 0.6840\n"
     ]
    }
   ],
   "source": [
    "print(\"Train score: %.4f\" % least_squares.score(X_train, y_train))\n",
    "print(\"Test score: %.4f\" % least_squares.score(X_test, y_test))"
   ]
  },
  {
   "cell_type": "markdown",
   "metadata": {},
   "source": [
    "The test score is way worse! This is the effect of overfitting."
   ]
  },
  {
   "cell_type": "markdown",
   "metadata": {},
   "source": [
    "*Exercise*: Compute the MSE for the train and test set. How does it compare to the situation before?"
   ]
  },
  {
   "cell_type": "code",
   "execution_count": 25,
   "metadata": {
    "ExecuteTime": {
     "end_time": "2018-09-21T10:19:28.074050Z",
     "start_time": "2018-09-21T10:19:28.026292Z"
    }
   },
   "outputs": [
    {
     "name": "stdout",
     "output_type": "stream",
     "text": [
      "Train MSE: 22.3385\n",
      "Test MSE: 22.1317\n"
     ]
    }
   ],
   "source": [
    "# %load ./solutions/mse.py\n",
    "y_pred_train = least_squares.predict(X_train)\n",
    "y_pred_test = least_squares.predict(X_test)\n",
    "\n",
    "print(\"Train MSE: %.4f\" % mean_squared_error(y_pred_train, y_train))\n",
    "print(\"Test MSE: %.4f\" % mean_squared_error(y_pred_test, y_test))"
   ]
  },
  {
   "cell_type": "code",
   "execution_count": 26,
   "metadata": {
    "ExecuteTime": {
     "end_time": "2018-09-21T10:20:29.852870Z",
     "start_time": "2018-09-21T10:20:29.664086Z"
    }
   },
   "outputs": [],
   "source": [
    "from statsmodels.regression.linear_model import OLS"
   ]
  },
  {
   "cell_type": "code",
   "execution_count": null,
   "metadata": {
    "ExecuteTime": {
     "end_time": "2018-09-20T15:29:26.643097Z",
     "start_time": "2018-09-20T15:29:17.276Z"
    }
   },
   "outputs": [],
   "source": [
    "!pip install statsmodels"
   ]
  },
  {
   "cell_type": "code",
   "execution_count": 27,
   "metadata": {
    "ExecuteTime": {
     "end_time": "2018-09-21T10:20:40.051548Z",
     "start_time": "2018-09-21T10:20:40.000323Z"
    }
   },
   "outputs": [],
   "source": [
    "least_squares = OLS(y_train, X_train)"
   ]
  },
  {
   "cell_type": "code",
   "execution_count": 28,
   "metadata": {
    "ExecuteTime": {
     "end_time": "2018-09-21T10:20:40.495255Z",
     "start_time": "2018-09-21T10:20:40.435825Z"
    }
   },
   "outputs": [],
   "source": [
    "res = least_squares.fit()"
   ]
  },
  {
   "cell_type": "code",
   "execution_count": 29,
   "metadata": {
    "ExecuteTime": {
     "end_time": "2018-09-21T10:20:40.930936Z",
     "start_time": "2018-09-21T10:20:40.826616Z"
    }
   },
   "outputs": [
    {
     "data": {
      "text/html": [
       "<table class=\"simpletable\">\n",
       "<caption>OLS Regression Results</caption>\n",
       "<tr>\n",
       "  <th>Dep. Variable:</th>            <td>y</td>        <th>  R-squared:         </th> <td>   0.961</td> \n",
       "</tr>\n",
       "<tr>\n",
       "  <th>Model:</th>                   <td>OLS</td>       <th>  Adj. R-squared:    </th> <td>   0.960</td> \n",
       "</tr>\n",
       "<tr>\n",
       "  <th>Method:</th>             <td>Least Squares</td>  <th>  F-statistic:       </th> <td>   693.6</td> \n",
       "</tr>\n",
       "<tr>\n",
       "  <th>Date:</th>             <td>Fri, 21 Sep 2018</td> <th>  Prob (F-statistic):</th> <td>1.29e-248</td>\n",
       "</tr>\n",
       "<tr>\n",
       "  <th>Time:</th>                 <td>12:20:40</td>     <th>  Log-Likelihood:    </th> <td> -1139.5</td> \n",
       "</tr>\n",
       "<tr>\n",
       "  <th>No. Observations:</th>      <td>   379</td>      <th>  AIC:               </th> <td>   2305.</td> \n",
       "</tr>\n",
       "<tr>\n",
       "  <th>Df Residuals:</th>          <td>   366</td>      <th>  BIC:               </th> <td>   2356.</td> \n",
       "</tr>\n",
       "<tr>\n",
       "  <th>Df Model:</th>              <td>    13</td>      <th>                     </th>     <td> </td>    \n",
       "</tr>\n",
       "<tr>\n",
       "  <th>Covariance Type:</th>      <td>nonrobust</td>    <th>                     </th>     <td> </td>    \n",
       "</tr>\n",
       "</table>\n",
       "<table class=\"simpletable\">\n",
       "<tr>\n",
       "   <td></td>      <th>coef</th>     <th>std err</th>      <th>t</th>      <th>P>|t|</th>  <th>[0.025</th>    <th>0.975]</th>  \n",
       "</tr>\n",
       "<tr>\n",
       "  <th>x1</th>  <td>   -0.1158</td> <td>    0.040</td> <td>   -2.867</td> <td> 0.004</td> <td>   -0.195</td> <td>   -0.036</td>\n",
       "</tr>\n",
       "<tr>\n",
       "  <th>x2</th>  <td>    0.0342</td> <td>    0.017</td> <td>    1.986</td> <td> 0.048</td> <td>    0.000</td> <td>    0.068</td>\n",
       "</tr>\n",
       "<tr>\n",
       "  <th>x3</th>  <td>    0.0437</td> <td>    0.072</td> <td>    0.610</td> <td> 0.542</td> <td>   -0.097</td> <td>    0.184</td>\n",
       "</tr>\n",
       "<tr>\n",
       "  <th>x4</th>  <td>    2.7343</td> <td>    1.006</td> <td>    2.717</td> <td> 0.007</td> <td>    0.755</td> <td>    4.713</td>\n",
       "</tr>\n",
       "<tr>\n",
       "  <th>x5</th>  <td>   -4.1466</td> <td>    3.865</td> <td>   -1.073</td> <td> 0.284</td> <td>  -11.748</td> <td>    3.454</td>\n",
       "</tr>\n",
       "<tr>\n",
       "  <th>x6</th>  <td>    6.0703</td> <td>    0.356</td> <td>   17.056</td> <td> 0.000</td> <td>    5.370</td> <td>    6.770</td>\n",
       "</tr>\n",
       "<tr>\n",
       "  <th>x7</th>  <td>   -0.0138</td> <td>    0.016</td> <td>   -0.869</td> <td> 0.386</td> <td>   -0.045</td> <td>    0.017</td>\n",
       "</tr>\n",
       "<tr>\n",
       "  <th>x8</th>  <td>   -0.9692</td> <td>    0.229</td> <td>   -4.240</td> <td> 0.000</td> <td>   -1.419</td> <td>   -0.520</td>\n",
       "</tr>\n",
       "<tr>\n",
       "  <th>x9</th>  <td>    0.1369</td> <td>    0.077</td> <td>    1.767</td> <td> 0.078</td> <td>   -0.015</td> <td>    0.289</td>\n",
       "</tr>\n",
       "<tr>\n",
       "  <th>x10</th> <td>   -0.0073</td> <td>    0.004</td> <td>   -1.631</td> <td> 0.104</td> <td>   -0.016</td> <td>    0.002</td>\n",
       "</tr>\n",
       "<tr>\n",
       "  <th>x11</th> <td>   -0.4654</td> <td>    0.124</td> <td>   -3.762</td> <td> 0.000</td> <td>   -0.709</td> <td>   -0.222</td>\n",
       "</tr>\n",
       "<tr>\n",
       "  <th>x12</th> <td>    0.0178</td> <td>    0.003</td> <td>    5.638</td> <td> 0.000</td> <td>    0.012</td> <td>    0.024</td>\n",
       "</tr>\n",
       "<tr>\n",
       "  <th>x13</th> <td>   -0.4404</td> <td>    0.057</td> <td>   -7.688</td> <td> 0.000</td> <td>   -0.553</td> <td>   -0.328</td>\n",
       "</tr>\n",
       "</table>\n",
       "<table class=\"simpletable\">\n",
       "<tr>\n",
       "  <th>Omnibus:</th>       <td>146.159</td> <th>  Durbin-Watson:     </th> <td>   2.059</td> \n",
       "</tr>\n",
       "<tr>\n",
       "  <th>Prob(Omnibus):</th> <td> 0.000</td>  <th>  Jarque-Bera (JB):  </th> <td> 978.240</td> \n",
       "</tr>\n",
       "<tr>\n",
       "  <th>Skew:</th>          <td> 1.470</td>  <th>  Prob(JB):          </th> <td>3.78e-213</td>\n",
       "</tr>\n",
       "<tr>\n",
       "  <th>Kurtosis:</th>      <td>10.301</td>  <th>  Cond. No.          </th> <td>8.46e+03</td> \n",
       "</tr>\n",
       "</table>"
      ],
      "text/plain": [
       "<class 'statsmodels.iolib.summary.Summary'>\n",
       "\"\"\"\n",
       "                            OLS Regression Results                            \n",
       "==============================================================================\n",
       "Dep. Variable:                      y   R-squared:                       0.961\n",
       "Model:                            OLS   Adj. R-squared:                  0.960\n",
       "Method:                 Least Squares   F-statistic:                     693.6\n",
       "Date:                Fri, 21 Sep 2018   Prob (F-statistic):          1.29e-248\n",
       "Time:                        12:20:40   Log-Likelihood:                -1139.5\n",
       "No. Observations:                 379   AIC:                             2305.\n",
       "Df Residuals:                     366   BIC:                             2356.\n",
       "Df Model:                          13                                         \n",
       "Covariance Type:            nonrobust                                         \n",
       "==============================================================================\n",
       "                 coef    std err          t      P>|t|      [0.025      0.975]\n",
       "------------------------------------------------------------------------------\n",
       "x1            -0.1158      0.040     -2.867      0.004      -0.195      -0.036\n",
       "x2             0.0342      0.017      1.986      0.048       0.000       0.068\n",
       "x3             0.0437      0.072      0.610      0.542      -0.097       0.184\n",
       "x4             2.7343      1.006      2.717      0.007       0.755       4.713\n",
       "x5            -4.1466      3.865     -1.073      0.284     -11.748       3.454\n",
       "x6             6.0703      0.356     17.056      0.000       5.370       6.770\n",
       "x7            -0.0138      0.016     -0.869      0.386      -0.045       0.017\n",
       "x8            -0.9692      0.229     -4.240      0.000      -1.419      -0.520\n",
       "x9             0.1369      0.077      1.767      0.078      -0.015       0.289\n",
       "x10           -0.0073      0.004     -1.631      0.104      -0.016       0.002\n",
       "x11           -0.4654      0.124     -3.762      0.000      -0.709      -0.222\n",
       "x12            0.0178      0.003      5.638      0.000       0.012       0.024\n",
       "x13           -0.4404      0.057     -7.688      0.000      -0.553      -0.328\n",
       "==============================================================================\n",
       "Omnibus:                      146.159   Durbin-Watson:                   2.059\n",
       "Prob(Omnibus):                  0.000   Jarque-Bera (JB):              978.240\n",
       "Skew:                           1.470   Prob(JB):                    3.78e-213\n",
       "Kurtosis:                      10.301   Cond. No.                     8.46e+03\n",
       "==============================================================================\n",
       "\n",
       "Warnings:\n",
       "[1] Standard Errors assume that the covariance matrix of the errors is correctly specified.\n",
       "[2] The condition number is large, 8.46e+03. This might indicate that there are\n",
       "strong multicollinearity or other numerical problems.\n",
       "\"\"\""
      ]
     },
     "execution_count": 29,
     "metadata": {},
     "output_type": "execute_result"
    }
   ],
   "source": [
    "res.summary()"
   ]
  },
  {
   "cell_type": "markdown",
   "metadata": {},
   "source": [
    "## Other models...\n",
    "\n",
    "Try other models, play with the parameters and try to beat the best score!\n",
    "\n",
    "*Extra*: Inspect the features not used by the Lasso model and remove them from the feature set. Does this improve the performance of all (others included!) models?"
   ]
  },
  {
   "cell_type": "code",
   "execution_count": null,
   "metadata": {
    "ExecuteTime": {
     "end_time": "2018-09-20T15:29:26.648388Z",
     "start_time": "2018-09-20T15:29:17.292Z"
    }
   },
   "outputs": [],
   "source": [
    "!pip freeze | grep statsmodels"
   ]
  },
  {
   "cell_type": "code",
   "execution_count": 30,
   "metadata": {
    "ExecuteTime": {
     "end_time": "2018-09-21T10:23:03.861690Z",
     "start_time": "2018-09-21T10:23:03.816579Z"
    }
   },
   "outputs": [],
   "source": [
    "from sklearn.linear_model import Ridge # L_2\n",
    "from sklearn.linear_model import Lasso # L_1\n",
    "from sklearn.linear_model import ElasticNet # convex(L_1, L_2)"
   ]
  },
  {
   "cell_type": "code",
   "execution_count": 31,
   "metadata": {
    "ExecuteTime": {
     "end_time": "2018-09-21T10:23:05.387421Z",
     "start_time": "2018-09-21T10:23:05.333712Z"
    }
   },
   "outputs": [
    {
     "data": {
      "text/plain": [
       "Lasso(alpha=0.05, copy_X=True, fit_intercept=True, max_iter=1000,\n",
       "   normalize=True, positive=False, precompute=False, random_state=None,\n",
       "   selection='cyclic', tol=0.0001, warm_start=False)"
      ]
     },
     "execution_count": 31,
     "metadata": {},
     "output_type": "execute_result"
    }
   ],
   "source": [
    "lasso = Lasso(alpha=5e-2, normalize=True)\n",
    "lasso.fit(X_train, y_train)"
   ]
  },
  {
   "cell_type": "code",
   "execution_count": 32,
   "metadata": {
    "ExecuteTime": {
     "end_time": "2018-09-21T10:23:07.623993Z",
     "start_time": "2018-09-21T10:23:07.574836Z"
    }
   },
   "outputs": [
    {
     "data": {
      "text/plain": [
       "array([-0.        ,  0.        , -0.        ,  0.31541428, -0.        ,\n",
       "        4.18252691, -0.        , -0.        , -0.        , -0.        ,\n",
       "       -0.55187472,  0.00475577, -0.49931538])"
      ]
     },
     "execution_count": 32,
     "metadata": {},
     "output_type": "execute_result"
    }
   ],
   "source": [
    "lasso.coef_"
   ]
  },
  {
   "cell_type": "code",
   "execution_count": 33,
   "metadata": {
    "ExecuteTime": {
     "end_time": "2018-09-21T10:25:03.818267Z",
     "start_time": "2018-09-21T10:25:03.770396Z"
    }
   },
   "outputs": [
    {
     "name": "stdout",
     "output_type": "stream",
     "text": [
      "Train score: 0.6803\n",
      "Test score: 0.6296\n"
     ]
    }
   ],
   "source": [
    "print(\"Train score: %.4f\" % lasso.score(X_train, y_train))\n",
    "print(\"Test score: %.4f\" % lasso.score(X_test, y_test))"
   ]
  },
  {
   "cell_type": "code",
   "execution_count": 34,
   "metadata": {
    "ExecuteTime": {
     "end_time": "2018-09-21T10:25:28.719494Z",
     "start_time": "2018-09-21T10:25:28.672158Z"
    }
   },
   "outputs": [
    {
     "name": "stdout",
     "output_type": "stream",
     "text": [
      "[False False False  True False  True False False False False  True  True\n",
      "  True]\n"
     ]
    }
   ],
   "source": [
    "used_features = lasso.coef_ != 0.0\n",
    "print(used_features)"
   ]
  },
  {
   "cell_type": "code",
   "execution_count": 35,
   "metadata": {
    "ExecuteTime": {
     "end_time": "2018-09-21T10:25:34.284589Z",
     "start_time": "2018-09-21T10:25:34.236148Z"
    }
   },
   "outputs": [],
   "source": [
    "X_reduced = X[:, used_features]\n",
    "\n",
    "X_train_red, X_test_red, y_train_red, y_test_red = train_test_split(X_reduced, y, random_state=42)"
   ]
  },
  {
   "cell_type": "markdown",
   "metadata": {},
   "source": [
    "$\\lambda$ must be lowered because there is less noise to learn from."
   ]
  },
  {
   "cell_type": "code",
   "execution_count": 44,
   "metadata": {
    "ExecuteTime": {
     "end_time": "2018-09-21T10:26:12.628854Z",
     "start_time": "2018-09-21T10:26:12.578916Z"
    }
   },
   "outputs": [
    {
     "data": {
      "text/plain": [
       "Lasso(alpha=0.001, copy_X=True, fit_intercept=True, max_iter=1000,\n",
       "   normalize=True, positive=False, precompute=False, random_state=None,\n",
       "   selection='cyclic', tol=0.0001, warm_start=False)"
      ]
     },
     "execution_count": 44,
     "metadata": {},
     "output_type": "execute_result"
    }
   ],
   "source": [
    "lasso = Lasso(alpha=0.001, normalize=True)\n",
    "lasso.fit(X_train_red, y_train_red)"
   ]
  },
  {
   "cell_type": "code",
   "execution_count": 45,
   "metadata": {
    "ExecuteTime": {
     "end_time": "2018-09-21T10:26:13.573922Z",
     "start_time": "2018-09-21T10:26:13.525912Z"
    }
   },
   "outputs": [
    {
     "name": "stdout",
     "output_type": "stream",
     "text": [
      "Train score: 0.7108\n",
      "Test score: 0.6257\n"
     ]
    }
   ],
   "source": [
    "print(\"Train score: %.4f\" % lasso.score(X_train_red, y_train_red))\n",
    "print(\"Test score: %.4f\" % lasso.score(X_test_red, y_test_red))"
   ]
  },
  {
   "cell_type": "markdown",
   "metadata": {},
   "source": [
    "## Polynomial Regression"
   ]
  },
  {
   "cell_type": "code",
   "execution_count": 47,
   "metadata": {
    "ExecuteTime": {
     "end_time": "2018-09-21T10:35:49.045066Z",
     "start_time": "2018-09-21T10:35:48.999834Z"
    }
   },
   "outputs": [],
   "source": [
    "from sklearn.preprocessing import PolynomialFeatures\n",
    "from sklearn.pipeline import make_pipeline\n",
    "from sklearn.feature_selection import SelectFromModel"
   ]
  },
  {
   "cell_type": "code",
   "execution_count": 48,
   "metadata": {
    "ExecuteTime": {
     "end_time": "2018-09-21T10:57:29.396687Z",
     "start_time": "2018-09-21T10:57:26.473247Z"
    }
   },
   "outputs": [
    {
     "name": "stderr",
     "output_type": "stream",
     "text": [
      "/Users/uberwach/anaconda3/lib/python3.6/site-packages/sklearn/linear_model/coordinate_descent.py:491: ConvergenceWarning: Objective did not converge. You might want to increase the number of iterations. Fitting data with very small alpha may cause precision problems.\n",
      "  ConvergenceWarning)\n"
     ]
    },
    {
     "data": {
      "text/plain": [
       "Pipeline(memory=None,\n",
       "     steps=[('polynomialfeatures', PolynomialFeatures(degree=5, include_bias=True, interaction_only=False)), ('elasticnet', ElasticNet(alpha=0.001, copy_X=True, fit_intercept=True, l1_ratio=0.3,\n",
       "      max_iter=1000, normalize=True, positive=False, precompute=False,\n",
       "      random_state=42, selection='cyclic', tol=0.0001, warm_start=False))])"
      ]
     },
     "execution_count": 48,
     "metadata": {},
     "output_type": "execute_result"
    }
   ],
   "source": [
    "clf_pipe = make_pipeline(\n",
    "    PolynomialFeatures(degree=5),\n",
    "    ElasticNet(alpha=0.001, \n",
    "               l1_ratio=0.3, \n",
    "               normalize=True, \n",
    "               random_state=42, \n",
    "               max_iter=1000)\n",
    ")\n",
    "\n",
    "clf_pipe.fit(X_train, y_train)"
   ]
  },
  {
   "cell_type": "code",
   "execution_count": 49,
   "metadata": {
    "ExecuteTime": {
     "end_time": "2018-09-21T10:57:29.451048Z",
     "start_time": "2018-09-21T10:57:29.399137Z"
    }
   },
   "outputs": [],
   "source": [
    "# use this to save models in the h5 format!\n",
    "from sklearn.externals import joblib\n",
    "joblib.dump(clf_pipe, \"pipeline_v01.pkl\", compress=5)\n",
    "my_pipe = joblib.load(\"pipeline_v01.pkl\")\n",
    "my_pipe"
   ]
  },
  {
   "cell_type": "code",
   "execution_count": 50,
   "metadata": {
    "ExecuteTime": {
     "end_time": "2018-09-21T10:57:59.130151Z",
     "start_time": "2018-09-21T10:57:59.070806Z"
    }
   },
   "outputs": [
    {
     "data": {
      "text/plain": [
       "['pipeline_v01.pkl']"
      ]
     },
     "execution_count": 50,
     "metadata": {},
     "output_type": "execute_result"
    }
   ],
   "source": []
  },
  {
   "cell_type": "code",
   "execution_count": 51,
   "metadata": {
    "ExecuteTime": {
     "end_time": "2018-09-21T10:57:59.625762Z",
     "start_time": "2018-09-21T10:57:59.570882Z"
    }
   },
   "outputs": [],
   "source": []
  },
  {
   "cell_type": "code",
   "execution_count": 52,
   "metadata": {
    "ExecuteTime": {
     "end_time": "2018-09-21T10:58:01.066157Z",
     "start_time": "2018-09-21T10:58:01.018691Z"
    }
   },
   "outputs": [
    {
     "data": {
      "text/plain": [
       "Pipeline(memory=None,\n",
       "     steps=[('polynomialfeatures', PolynomialFeatures(degree=5, include_bias=True, interaction_only=False)), ('elasticnet', ElasticNet(alpha=0.001, copy_X=True, fit_intercept=True, l1_ratio=0.3,\n",
       "      max_iter=1000, normalize=True, positive=False, precompute=False,\n",
       "      random_state=42, selection='cyclic', tol=0.0001, warm_start=False))])"
      ]
     },
     "execution_count": 52,
     "metadata": {},
     "output_type": "execute_result"
    }
   ],
   "source": []
  },
  {
   "cell_type": "code",
   "execution_count": null,
   "metadata": {
    "ExecuteTime": {
     "end_time": "2018-09-20T15:29:26.667972Z",
     "start_time": "2018-09-20T15:29:17.342Z"
    }
   },
   "outputs": [],
   "source": [
    "poly_feats = PolynomialFeatures(degree=5)\n",
    "X_poly = poly_feats.fit_transform(X)\n",
    "\n",
    "# poly_feats.fit(X)\n",
    "# X_poly = poly_feats.transform(X)"
   ]
  },
  {
   "cell_type": "code",
   "execution_count": null,
   "metadata": {
    "ExecuteTime": {
     "end_time": "2018-09-20T15:29:26.668759Z",
     "start_time": "2018-09-20T15:29:17.345Z"
    }
   },
   "outputs": [],
   "source": [
    "X.shape"
   ]
  },
  {
   "cell_type": "code",
   "execution_count": null,
   "metadata": {
    "ExecuteTime": {
     "end_time": "2018-09-20T15:29:26.669619Z",
     "start_time": "2018-09-20T15:29:17.347Z"
    }
   },
   "outputs": [],
   "source": [
    "X_poly.shape"
   ]
  },
  {
   "cell_type": "code",
   "execution_count": 53,
   "metadata": {
    "ExecuteTime": {
     "end_time": "2018-09-21T10:58:06.950788Z",
     "start_time": "2018-09-21T10:58:06.606929Z"
    }
   },
   "outputs": [
    {
     "name": "stdout",
     "output_type": "stream",
     "text": [
      "Train score: 0.9424\n",
      "Test score: 0.8450\n"
     ]
    }
   ],
   "source": [
    "print(\"Train score: %.4f\" % clf_pipe.score(X_train, y_train))\n",
    "print(\"Test score: %.4f\" % clf_pipe.score(X_test, y_test))"
   ]
  },
  {
   "cell_type": "code",
   "execution_count": null,
   "metadata": {
    "ExecuteTime": {
     "end_time": "2018-09-20T15:29:26.672029Z",
     "start_time": "2018-09-20T15:29:17.353Z"
    }
   },
   "outputs": [],
   "source": [
    "from sklearn.metrics import r2_score"
   ]
  },
  {
   "cell_type": "code",
   "execution_count": null,
   "metadata": {
    "ExecuteTime": {
     "end_time": "2018-09-20T15:29:26.673276Z",
     "start_time": "2018-09-20T15:29:17.356Z"
    }
   },
   "outputs": [],
   "source": [
    "r2_score(y_test, clf_pipe.predict(X_test))"
   ]
  },
  {
   "cell_type": "code",
   "execution_count": null,
   "metadata": {
    "ExecuteTime": {
     "end_time": "2018-09-20T15:29:26.674177Z",
     "start_time": "2018-09-20T15:29:17.361Z"
    }
   },
   "outputs": [],
   "source": [
    "clf_pipe.steps"
   ]
  },
  {
   "cell_type": "code",
   "execution_count": null,
   "metadata": {
    "ExecuteTime": {
     "end_time": "2018-09-20T15:29:26.675091Z",
     "start_time": "2018-09-20T15:29:17.363Z"
    }
   },
   "outputs": [],
   "source": [
    "from sklearn.model_selection import GridSearchCV\n",
    "from sklearn.model_selection import KFold\n",
    "\n",
    "from sklearn.model_selection import RandomizedSearchCV\n",
    "\n",
    "params = {\n",
    "    \"polynomialfeatures__degree\": [1, 2, 3, 4, 5],\n",
    "    \"elasticnet__alpha\": [10**i for i in range(-1, 2)],\n",
    "    \"elasticnet__l1_ratio\": np.linspace(0.1, 0.9, 3)\n",
    "}\n",
    "\n",
    "clf_pipe = make_pipeline(\n",
    "    PolynomialFeatures(),\n",
    "    ElasticNet(normalize=True, max_iter=5000, random_state=42)\n",
    ")\n",
    "\n",
    "grid = GridSearchCV(clf_pipe, params, scoring=\"r2\", verbose=True, cv=KFold(3, random_state=42))\n",
    "grid.fit(X_train, y_train)\n",
    "\n",
    "grid.cv_results_\n",
    "\n",
    "grid.best_estimator_"
   ]
  },
  {
   "cell_type": "code",
   "execution_count": null,
   "metadata": {
    "ExecuteTime": {
     "end_time": "2018-09-20T15:29:26.676036Z",
     "start_time": "2018-09-20T15:29:17.365Z"
    },
    "scrolled": false
   },
   "outputs": [],
   "source": [
    "print(grid.cv_results_)"
   ]
  },
  {
   "cell_type": "markdown",
   "metadata": {},
   "source": [
    "# Linear Classification\n",
    "\n",
    "## Preamble the data set\n",
    "\n",
    "We are using Fisher's famous <a href=\"https://en.wikipedia.org/wiki/Iris_flower_data_set\">Iris data set</a>. The goal is to classify flowers from the Iris family into one of three species, that look as follows:\n",
    "\n",
    "<table>\n",
    "<tr>\n",
    "<td> <img src=\"figures/iris_setosa.jpg\" width=\"200\" style=\"height:150px\"/> </td>\n",
    "<td> <img src=\"figures/iris_versicolor.jpg\" width=\"200\" style=\"height:150px\"/> </td>\n",
    "<td> <img src=\"figures/iris_virginica.jpg\" width=\"200\" style=\"height:150px\"/> </td>\n",
    "</tr>\n",
    "\n",
    "<tr> \n",
    "<td>Iris Setosa</td>\n",
    "<td>Iris Versicolor</td>\n",
    "<td>Iris Virginica</td>\n",
    "</tr>\n",
    "</table>\n",
    "\n",
    "Our data set contains 50 flowers from each class, thus 150 in total. There are four features, the length and width of the petal (dt. Kronblatt) and sepal (dt. Kelchblatt) in centimetres.\n",
    "\n",
    "<img src=\"figures/petal_sepal.jpg\" width=\"400\" style=\"height:300px\"/>"
   ]
  },
  {
   "cell_type": "markdown",
   "metadata": {},
   "source": [
    "The data set is distributed with sci-kit learn, the only thing we have to do is to important a function and call it."
   ]
  },
  {
   "cell_type": "code",
   "execution_count": null,
   "metadata": {
    "ExecuteTime": {
     "end_time": "2018-09-20T15:29:26.677201Z",
     "start_time": "2018-09-20T15:29:17.369Z"
    }
   },
   "outputs": [],
   "source": [
    "from sklearn.datasets import load_iris\n",
    "\n",
    "data = load_iris()\n",
    "X = data.data\n",
    "y = data.target\n",
    "print(type(X))\n",
    "print(X.shape)\n",
    "\n",
    "print(\"First three rows of data\\n %s\" % X[:3])\n",
    "print(\"First three labels: %s\" % (y[:3]))"
   ]
  },
  {
   "cell_type": "code",
   "execution_count": null,
   "metadata": {
    "ExecuteTime": {
     "end_time": "2018-09-20T15:29:26.678152Z",
     "start_time": "2018-09-20T15:29:17.372Z"
    }
   },
   "outputs": [],
   "source": [
    "import numpy as np"
   ]
  },
  {
   "cell_type": "code",
   "execution_count": null,
   "metadata": {
    "ExecuteTime": {
     "end_time": "2018-09-20T15:29:26.679052Z",
     "start_time": "2018-09-20T15:29:17.375Z"
    }
   },
   "outputs": [],
   "source": [
    "np.ravel(X)"
   ]
  },
  {
   "cell_type": "markdown",
   "metadata": {},
   "source": [
    " Not only do we get the input matrix $X \\in \\mathbb{R}^{150 \\times 4}$ and target $y \\in \\mathbb{R}^{150}$, but also meta information such as what the class labels $0, 1, 2$ stand for and what the features (i.e. columns of $X$) correspond to."
   ]
  },
  {
   "cell_type": "code",
   "execution_count": null,
   "metadata": {
    "ExecuteTime": {
     "end_time": "2018-09-20T15:29:26.680768Z",
     "start_time": "2018-09-20T15:29:17.378Z"
    }
   },
   "outputs": [],
   "source": [
    "print(data.target_names)\n",
    "print(data.feature_names)"
   ]
  },
  {
   "cell_type": "markdown",
   "metadata": {},
   "source": [
    "As a first step we focus our analysis on the first two variables, the sepal length and sepal width. Since we obtain a representation of the data in two dimensions, we are able to plot it. "
   ]
  },
  {
   "cell_type": "code",
   "execution_count": null,
   "metadata": {
    "ExecuteTime": {
     "end_time": "2018-09-20T15:29:26.682113Z",
     "start_time": "2018-09-20T15:29:17.381Z"
    }
   },
   "outputs": [],
   "source": [
    "X_2 = X[:, :2]\n",
    "y_2 = y"
   ]
  },
  {
   "cell_type": "code",
   "execution_count": null,
   "metadata": {
    "ExecuteTime": {
     "end_time": "2018-09-20T15:29:26.683003Z",
     "start_time": "2018-09-20T15:29:17.384Z"
    }
   },
   "outputs": [],
   "source": [
    "# We write a function so we can reuse it later.\n",
    "def generate_scatter_plot(X, y):\n",
    "    class_names = data.target_names\n",
    "    class_colours = ['blue','yellow','green']\n",
    "\n",
    "    fig = plt.figure(figsize=(12, 6)) # increase size of plot\n",
    "    \n",
    "    for i, class_colour in enumerate(class_colours):\n",
    "        # plot the points only of this class label\n",
    "        plt.scatter(X[y == i, 0], X[y == i, 1], c=class_colour, label=class_names[i]) \n",
    "\n",
    "    plt.xlabel(data.feature_names[0]) # label the axis\n",
    "    plt.ylabel(data.feature_names[1])\n",
    "    plt.legend(loc=\"best\") # with legend\n",
    "\n",
    "generate_scatter_plot(X_2, y)"
   ]
  },
  {
   "cell_type": "markdown",
   "metadata": {},
   "source": [
    "## Binary Classification\n",
    "\n",
    "We do a \"setosa vs others\" classification."
   ]
  },
  {
   "cell_type": "code",
   "execution_count": null,
   "metadata": {
    "ExecuteTime": {
     "end_time": "2018-09-20T15:29:26.684718Z",
     "start_time": "2018-09-20T15:29:17.388Z"
    }
   },
   "outputs": [],
   "source": [
    "from copy import copy\n",
    "y_setosa = copy(y)\n",
    "y_setosa[(y == 2) | (y == 1)] = 0\n",
    "y_setosa[y == 0] = 1"
   ]
  },
  {
   "cell_type": "code",
   "execution_count": null,
   "metadata": {
    "ExecuteTime": {
     "end_time": "2018-09-20T15:29:26.685576Z",
     "start_time": "2018-09-20T15:29:17.389Z"
    }
   },
   "outputs": [],
   "source": [
    "from sklearn.linear_model import LogisticRegression\n",
    "from sklearn.model_selection import train_test_split"
   ]
  },
  {
   "cell_type": "code",
   "execution_count": null,
   "metadata": {
    "ExecuteTime": {
     "end_time": "2018-09-20T15:29:26.686482Z",
     "start_time": "2018-09-20T15:29:17.393Z"
    }
   },
   "outputs": [],
   "source": [
    "X_train, X_test, y_train, y_test = train_test_split(X, y_setosa, random_state=42)"
   ]
  },
  {
   "cell_type": "code",
   "execution_count": null,
   "metadata": {
    "ExecuteTime": {
     "end_time": "2018-09-20T15:29:26.687695Z",
     "start_time": "2018-09-20T15:29:17.396Z"
    }
   },
   "outputs": [],
   "source": [
    "clf = LogisticRegression(C=10, penalty=\"l2\")\n",
    "clf.fit(X_train, y_train)\n",
    "\n",
    "# C = 1/lambda\n",
    "# lambda = 0.001, 0.005, 0.01, 0.05, ..., 1, 5, 10, 50"
   ]
  },
  {
   "cell_type": "code",
   "execution_count": null,
   "metadata": {
    "ExecuteTime": {
     "end_time": "2018-09-20T15:29:26.688950Z",
     "start_time": "2018-09-20T15:29:17.400Z"
    }
   },
   "outputs": [],
   "source": [
    "clf.coef_"
   ]
  },
  {
   "cell_type": "code",
   "execution_count": null,
   "metadata": {
    "ExecuteTime": {
     "end_time": "2018-09-20T15:29:26.689896Z",
     "start_time": "2018-09-20T15:29:17.403Z"
    }
   },
   "outputs": [],
   "source": [
    "clf.intercept_"
   ]
  },
  {
   "cell_type": "code",
   "execution_count": null,
   "metadata": {
    "ExecuteTime": {
     "end_time": "2018-09-20T15:29:26.690969Z",
     "start_time": "2018-09-20T15:29:17.407Z"
    }
   },
   "outputs": [],
   "source": [
    "print(\"Train-Score: %.4f, Test-Accuracy: %.4f\" % (clf.score(X_train, y_train), clf.score(X_test, y_test)))"
   ]
  },
  {
   "cell_type": "markdown",
   "metadata": {},
   "source": [
    "## Multi-class Classification\n",
    "\n",
    "Now try the multi-class problem. Look up the slides for the multi-class logistic regression."
   ]
  },
  {
   "cell_type": "code",
   "execution_count": null,
   "metadata": {
    "ExecuteTime": {
     "end_time": "2018-09-20T15:29:26.691925Z",
     "start_time": "2018-09-20T15:29:17.409Z"
    }
   },
   "outputs": [],
   "source": [
    "from sklearn.linear_model import LogisticRegression\n",
    "from sklearn.model_selection import train_test_split"
   ]
  },
  {
   "cell_type": "code",
   "execution_count": null,
   "metadata": {
    "ExecuteTime": {
     "end_time": "2018-09-20T15:29:26.692927Z",
     "start_time": "2018-09-20T15:29:17.412Z"
    }
   },
   "outputs": [],
   "source": [
    "X_train, X_test, y_train, y_test = train_test_split(X[:, :2], y, random_state=42)"
   ]
  },
  {
   "cell_type": "code",
   "execution_count": null,
   "metadata": {
    "ExecuteTime": {
     "end_time": "2018-09-20T15:29:26.693801Z",
     "start_time": "2018-09-20T15:29:17.414Z"
    }
   },
   "outputs": [],
   "source": [
    "n_samples = X_train.shape[0]"
   ]
  },
  {
   "cell_type": "code",
   "execution_count": null,
   "metadata": {
    "ExecuteTime": {
     "end_time": "2018-09-20T15:29:26.694730Z",
     "start_time": "2018-09-20T15:29:17.418Z"
    }
   },
   "outputs": [],
   "source": [
    "clf = LogisticRegression(multi_class=\"multinomial\", \n",
    "                         penalty=\"l2\",\n",
    "                         random_state=42,\n",
    "                         solver=\"newton-cg\",\n",
    "                         C=np.Infinity)"
   ]
  },
  {
   "cell_type": "code",
   "execution_count": null,
   "metadata": {
    "ExecuteTime": {
     "end_time": "2018-09-20T15:29:26.695614Z",
     "start_time": "2018-09-20T15:29:17.420Z"
    }
   },
   "outputs": [],
   "source": [
    "clf.fit(X_train, y_train)"
   ]
  },
  {
   "cell_type": "code",
   "execution_count": null,
   "metadata": {
    "ExecuteTime": {
     "end_time": "2018-09-20T15:29:26.696809Z",
     "start_time": "2018-09-20T15:29:17.423Z"
    }
   },
   "outputs": [],
   "source": [
    "clf.coef_"
   ]
  },
  {
   "cell_type": "code",
   "execution_count": null,
   "metadata": {
    "ExecuteTime": {
     "end_time": "2018-09-20T15:29:26.697930Z",
     "start_time": "2018-09-20T15:29:17.425Z"
    }
   },
   "outputs": [],
   "source": [
    "clf.score(X_test, y_test)"
   ]
  },
  {
   "cell_type": "code",
   "execution_count": null,
   "metadata": {
    "ExecuteTime": {
     "end_time": "2018-09-20T15:29:26.699151Z",
     "start_time": "2018-09-20T15:29:17.428Z"
    }
   },
   "outputs": [],
   "source": [
    "from sklearn.metrics import classification_report"
   ]
  },
  {
   "cell_type": "code",
   "execution_count": null,
   "metadata": {
    "ExecuteTime": {
     "end_time": "2018-09-20T15:29:26.699984Z",
     "start_time": "2018-09-20T15:29:17.431Z"
    }
   },
   "outputs": [],
   "source": [
    "report = classification_report(y_test, \n",
    "                      clf.predict(X_test), \n",
    "                      #labels=data.feature_names,\n",
    "                      target_names=data.target_names\n",
    "                     )\n",
    "\n",
    "print(report)"
   ]
  },
  {
   "cell_type": "code",
   "execution_count": null,
   "metadata": {
    "ExecuteTime": {
     "end_time": "2018-09-20T15:29:26.701260Z",
     "start_time": "2018-09-20T15:29:17.434Z"
    }
   },
   "outputs": [],
   "source": [
    "from sklearn.model_selection import train_test_split"
   ]
  },
  {
   "cell_type": "code",
   "execution_count": null,
   "metadata": {
    "ExecuteTime": {
     "end_time": "2018-09-20T15:29:26.702260Z",
     "start_time": "2018-09-20T15:29:17.436Z"
    }
   },
   "outputs": [],
   "source": [
    "train_test_split??"
   ]
  },
  {
   "cell_type": "markdown",
   "metadata": {},
   "source": [
    "# Evaluation\n",
    "\n",
    "The goal of this lab is to introduce you the most important techniques for evaluating your trained models. The motivation is to be able to select the model that has the best (expected) out-of-sample prediction and to assess the quality of the model.\n",
    "\n",
    "## 1. Model Selection in a holdout setting\n",
    "\n",
    "We start with the <a href=\"https://en.wikipedia.org/wiki/Iris_flower_data_set\">Iris</a> data set. In a nut shell the iris data set consists out of $4$ features (sepal length, sepal width, petal length, petal width) of three kinds of flowers in the iris family (iris setosa, iris versicolor, iris virginica). It was first used by Fisher to introduce linear discriminant analysis. Our version of the data set has 150 data points with 50 for each class."
   ]
  },
  {
   "cell_type": "code",
   "execution_count": null,
   "metadata": {
    "ExecuteTime": {
     "end_time": "2018-09-20T15:29:26.703146Z",
     "start_time": "2018-09-20T15:29:17.439Z"
    }
   },
   "outputs": [],
   "source": [
    "from sklearn.datasets import load_iris\n",
    "\n",
    "iris = load_iris()\n",
    "print(\"Loaded %d data points\" % len(iris.data))\n",
    "\n",
    "X, y = iris.data, iris.target\n",
    "\n",
    "print(\"Class labels: %s\" % list(zip(range(3), iris.target_names)))"
   ]
  },
  {
   "cell_type": "markdown",
   "metadata": {},
   "source": [
    "As a first example we try to classify the iris versicolor with the help of the first two features (that makes visualisation simpler as we do not know PCA yet). "
   ]
  },
  {
   "cell_type": "code",
   "execution_count": null,
   "metadata": {
    "ExecuteTime": {
     "end_time": "2018-09-20T15:29:26.704063Z",
     "start_time": "2018-09-20T15:29:17.473Z"
    }
   },
   "outputs": [],
   "source": [
    "X_versi = X[:, :2]\n",
    "\n",
    "y_versi = np.zeros(len(y))\n",
    "y_versi[y == 1] = 1"
   ]
  },
  {
   "cell_type": "code",
   "execution_count": null,
   "metadata": {
    "ExecuteTime": {
     "end_time": "2018-09-20T15:29:26.704816Z",
     "start_time": "2018-09-20T15:29:17.476Z"
    }
   },
   "outputs": [],
   "source": [
    "plt.scatter(X_versi[:, 0], X_versi[:, 1], c=y_versi, cmap=get_cmap(2), s=50)"
   ]
  },
  {
   "cell_type": "markdown",
   "metadata": {},
   "source": [
    "The scatter plot shows that this is going to be a hard seperation problem as the classifier has to predict the red points. \n",
    "\n",
    "We split the data into a train and test (holdout) set."
   ]
  },
  {
   "cell_type": "code",
   "execution_count": null,
   "metadata": {
    "ExecuteTime": {
     "end_time": "2018-09-20T15:29:26.705533Z",
     "start_time": "2018-09-20T15:29:17.480Z"
    }
   },
   "outputs": [],
   "source": [
    "from sklearn.model_selection import train_test_split\n",
    "\n",
    "X_train, X_test, y_train, y_test = train_test_split(X_versi, y_versi, stratify=y_versi, random_state=3)\n",
    "train_test_split?"
   ]
  },
  {
   "cell_type": "markdown",
   "metadata": {},
   "source": [
    "The following function is a little visualization helper that draws the values of the decision function on a heat map given a matplotlib axe."
   ]
  },
  {
   "cell_type": "code",
   "execution_count": null,
   "metadata": {
    "ExecuteTime": {
     "end_time": "2018-09-20T15:29:26.706483Z",
     "start_time": "2018-09-20T15:29:17.484Z"
    }
   },
   "outputs": [],
   "source": [
    "def show_decision_function(clf, ax):\n",
    "    xx, yy = np.meshgrid(np.linspace(4.5, 8, 200), np.linspace(1.5, 5.0, 200))\n",
    "    try:\n",
    "        Z = clf.decision_function(np.c_[xx.ravel(), yy.ravel()])\n",
    "    except AttributeError:\n",
    "        Z = clf.predict_proba(np.c_[xx.ravel(), yy.ravel()])[:, 1]\n",
    "\n",
    "    Z = Z.reshape(xx.shape)\n",
    "    ax.pcolormesh(xx, yy, Z, cmap=plt.cm.jet)\n",
    "    ax.set_xlim(4.5, 8)\n",
    "    ax.set_ylim(1.5, 5.0)\n",
    "    ax.set_xticks(())\n",
    "    ax.set_yticks(())\n",
    "    ax.scatter(X_versi[:, 0], X_versi[:, 1], c=y_versi, s=100)"
   ]
  },
  {
   "cell_type": "code",
   "execution_count": null,
   "metadata": {
    "ExecuteTime": {
     "end_time": "2018-09-20T15:29:26.707559Z",
     "start_time": "2018-09-20T15:29:17.488Z"
    }
   },
   "outputs": [],
   "source": [
    "from sklearn.preprocessing import PolynomialFeatures\n",
    "from sklearn.kernel_approximation import Nystroem\n",
    "\n",
    "clf = make_pipeline(Nystroem(gamma=10., n_components=50, random_state=42),\n",
    "                   LogisticRegression(C=100))\n",
    "clf.fit(X_train, y_train)\n",
    "\n",
    "fig = plt.figure(figsize=(20, 10))\n",
    "ax = fig.add_subplot(111)\n",
    "show_decision_function(clf, ax)\n",
    "ax.set_title('Nystrom sampling + LogReg')"
   ]
  },
  {
   "cell_type": "code",
   "execution_count": null,
   "metadata": {
    "ExecuteTime": {
     "end_time": "2018-09-20T15:29:26.708929Z",
     "start_time": "2018-09-20T15:29:17.490Z"
    }
   },
   "outputs": [],
   "source": [
    "from sklearn.ensemble import RandomForestClassifier\n",
    "\n",
    "clf = RandomForestClassifier(n_estimators=10, max_depth=3)\n",
    "clf.fit(X_train, y_train)\n",
    "\n",
    "fig = plt.figure(figsize=(20, 10))\n",
    "ax = fig.add_subplot(111)\n",
    "show_decision_function(clf, ax)\n",
    "ax.set_title('Random Forest')"
   ]
  },
  {
   "cell_type": "markdown",
   "metadata": {},
   "source": [
    "The scikit-learn metrics package offers the basic evaluation routines."
   ]
  },
  {
   "cell_type": "code",
   "execution_count": null,
   "metadata": {
    "ExecuteTime": {
     "end_time": "2018-09-20T15:29:26.709693Z",
     "start_time": "2018-09-20T15:29:17.494Z"
    },
    "scrolled": false
   },
   "outputs": [],
   "source": [
    "%whos"
   ]
  },
  {
   "cell_type": "code",
   "execution_count": null,
   "metadata": {
    "ExecuteTime": {
     "end_time": "2018-09-20T15:29:26.710280Z",
     "start_time": "2018-09-20T15:29:17.497Z"
    }
   },
   "outputs": [],
   "source": [
    "from sklearn import metrics\n",
    "\n",
    "y_pred = clf.predict(X_test)\n",
    "\n",
    "print(\"Test Precision: %.3f\" % metrics.precision_score(y_test, y_pred))\n",
    "print(\"Test Recall: %.3f\" % metrics.recall_score(y_test, y_pred))\n",
    "print(\"Test F-Score: %.3f\" % metrics.f1_score(y_test, y_pred))"
   ]
  },
  {
   "cell_type": "markdown",
   "metadata": {},
   "source": [
    "Recalling the definition of precision and recall the numbers mean that 2/3 of the positive predictions are correct and that 1/2 of the test iris versicolor has been found by the classifier. The F-Score is then just the arithmetic mean of both (7/12).\n",
    "\n",
    "To plot the ROC curve the decision function needs to be explicitly evaluated. The following code block also contains a helper function to plot ROC curves."
   ]
  },
  {
   "cell_type": "code",
   "execution_count": null,
   "metadata": {
    "ExecuteTime": {
     "end_time": "2018-09-20T15:29:26.711382Z",
     "start_time": "2018-09-20T15:29:17.501Z"
    }
   },
   "outputs": [],
   "source": [
    "y_score = clf.decision_function(X_test)\n",
    "fpr, tpr, _ = metrics.roc_curve(y_test, y_score, pos_label=1)\n",
    "\n",
    "\n",
    "# helper to plot ROC curves\n",
    "def plot_roc_curves(fprs, tprs):\n",
    "    fig = plt.figure(figsize=(20,10))\n",
    "    for fpr, tpr in zip(fprs, tprs):\n",
    "        plt.plot(fpr, tpr, label='ROC curve (area = %0.2f)' % metrics.auc(fpr, tpr))\n",
    "    plt.plot([0, 1], [0, 1], 'k--')\n",
    "    plt.xlim([0.0, 1.0])\n",
    "    plt.ylim([0.0, 1.05])\n",
    "    plt.xlabel('False Positive Rate')\n",
    "    plt.ylabel('True Positive Rate')\n",
    "    plt.title('Receiver operating characteristic')\n",
    "    plt.legend(loc=\"lower right\")\n",
    "    plt.show()\n",
    "    \n",
    "plot_roc_curves([fpr], [tpr])"
   ]
  },
  {
   "cell_type": "markdown",
   "metadata": {},
   "source": [
    "<b>Ex. 1.1</b>: Train four different classifiers (on the train/test data we used in the prior example) and put them into the list 'clfs' (you can add elements to a list via the 'append' method. Analyse the visualisations that are created by the code blocks after (Is there a uniquely best classifier?). Set the $\\gamma$ parameter to $1$ and vary the $C$. Before trying out values be sure to check the <a href=\"http://scikit-learn.org/stable/modules/svm.html\">SVM</a> documentation in scikit-learn.\n",
    "\n",
    "Hint: Set a name to your classifier, i.e. clf.name = \"Some description\" to keep track of what you have done."
   ]
  },
  {
   "cell_type": "code",
   "execution_count": null,
   "metadata": {
    "ExecuteTime": {
     "end_time": "2018-09-20T15:29:26.712323Z",
     "start_time": "2018-09-20T15:29:17.503Z"
    }
   },
   "outputs": [],
   "source": [
    "# Exercise 1.1\n",
    "from sklearn.svm import SVC\n",
    "clfs = []"
   ]
  },
  {
   "cell_type": "code",
   "execution_count": null,
   "metadata": {
    "ExecuteTime": {
     "end_time": "2018-09-20T15:29:26.712869Z",
     "start_time": "2018-09-20T15:29:17.506Z"
    }
   },
   "outputs": [],
   "source": [
    "# %load solutions/eval_11.py\n",
    "# Solution Exercise 1.1\n",
    "from sklearn.svm import SVC\n",
    "clfs = []\n",
    "Cs = [0.1, 1, 10, 25]\n",
    "for C in Cs:\n",
    "    clf = SVC(gamma=1, C=C)\n",
    "    clf.fit(X_train, y_train)\n",
    "    clf.name = 'C = {}'.format(C)\n",
    "    clfs.append(clf)"
   ]
  },
  {
   "cell_type": "code",
   "execution_count": null,
   "metadata": {
    "ExecuteTime": {
     "end_time": "2018-09-20T15:29:26.713682Z",
     "start_time": "2018-09-20T15:29:17.509Z"
    }
   },
   "outputs": [],
   "source": [
    "# This code visualises the decision functions of the four different classifiers.\n",
    "\n",
    "fig, axes = plt.subplots(2, 2, figsize=(20, 10))\n",
    "\n",
    "for clf, ax in zip(clfs, axes.ravel()):\n",
    "    show_decision_function(clf, ax)\n",
    "    ax.set_title(clf.name)"
   ]
  },
  {
   "cell_type": "code",
   "execution_count": null,
   "metadata": {
    "ExecuteTime": {
     "end_time": "2018-09-20T15:29:26.714644Z",
     "start_time": "2018-09-20T15:29:17.512Z"
    }
   },
   "outputs": [],
   "source": [
    "# draw the roc curves.\n",
    "\n",
    "fprs, tprs = [], []\n",
    "\n",
    "for clf in clfs:\n",
    "    y_score = clf.decision_function(X_test)\n",
    "    fpr, tpr, _ = metrics.roc_curve(y_test, y_score, pos_label=1)\n",
    "    fprs.append(fpr)\n",
    "    tprs.append(tpr)\n",
    "    \n",
    "plot_roc_curves(fprs, tprs)"
   ]
  },
  {
   "cell_type": "markdown",
   "metadata": {},
   "source": [
    "## 2. Cross-Validation\n",
    "\n",
    "Having only 150 samples it seems like a waste to waste 30% of the training samples into the holdout set. To avoid this we can use CV - as presented in the lecture - to trade computational power for a better use of our data. \n",
    "\n",
    "The following code creates a list of masks, where every mask can be used as an index set to select the test samples."
   ]
  },
  {
   "cell_type": "code",
   "execution_count": null,
   "metadata": {
    "ExecuteTime": {
     "end_time": "2018-09-20T15:29:26.715515Z",
     "start_time": "2018-09-20T15:29:17.515Z"
    }
   },
   "outputs": [],
   "source": [
    "def create_kfold_mask(num_samples, k):\n",
    "    masks = []\n",
    "    fold_size = num_samples // k\n",
    "    \n",
    "    for i in range(k):\n",
    "        mask = np.zeros(num_samples, dtype=bool)\n",
    "        mask[i*fold_size:(i+1)*fold_size] = True\n",
    "        masks.append(mask)\n",
    "        \n",
    "    return masks\n",
    "\n",
    "masks = create_kfold_mask(150, 10)\n",
    "plt.matshow(masks)\n",
    "\n",
    "mask = masks[0]\n",
    "print(X_versi[mask]) # selects the test sample\n",
    "print(len(X_versi[~mask])) # selects training sample, ~ is binary negation"
   ]
  },
  {
   "cell_type": "markdown",
   "metadata": {},
   "source": [
    "Since the data is sorted by the labels the $k$-fold CV will likely have trouble with class imbalances in the some cases. A random shuffle solves this problem."
   ]
  },
  {
   "cell_type": "code",
   "execution_count": null,
   "metadata": {
    "ExecuteTime": {
     "end_time": "2018-09-20T15:29:26.716761Z",
     "start_time": "2018-09-20T15:29:17.519Z"
    }
   },
   "outputs": [],
   "source": [
    "print(y_versi)\n",
    "num_sample = len(X_versi)\n",
    "np.random.seed(3)\n",
    "permutation = np.random.permutation(num_sample)\n",
    "X_versi, y_versi = X_versi[permutation], y_versi[permutation]"
   ]
  },
  {
   "cell_type": "markdown",
   "metadata": {},
   "source": [
    "<b>Ex. 2.1</b>: Implement the function scores = cv_k_fold_classifier(clf, k, X, y) that fits the classifier clf on the k-fold cvs of X and y. It returns two lists of scores: the training and test scores of each fold. Interpret the results of the code block after."
   ]
  },
  {
   "cell_type": "code",
   "execution_count": null,
   "metadata": {
    "ExecuteTime": {
     "end_time": "2018-09-20T15:29:26.717351Z",
     "start_time": "2018-09-20T15:29:17.523Z"
    }
   },
   "outputs": [],
   "source": [
    "# Exercise 2.1\n",
    "\n",
    "def cv_k_fold_classifier(clf, k, X, y):\n",
    "    training_scores = []\n",
    "    test_scores = []\n",
    "        \n",
    "    # Your code\n",
    "\n",
    "    return training_scores, test_scores\n",
    "    "
   ]
  },
  {
   "cell_type": "code",
   "execution_count": null,
   "metadata": {
    "ExecuteTime": {
     "end_time": "2018-09-20T15:29:26.717937Z",
     "start_time": "2018-09-20T15:29:17.526Z"
    }
   },
   "outputs": [],
   "source": [
    "# Solution Exercise 2.1\n",
    "\n",
    "from sklearn.metrics import f1_score\n",
    "def cv_k_fold_classifier(clf, k, X, y):\n",
    "    training_scores = []\n",
    "    test_scores = []\n",
    "   \n",
    "    # Your code\n",
    "    n = len(X)\n",
    "    masks = create_kfold_mask(n, k)\n",
    "    \n",
    "    for mask in masks:\n",
    "        X_train, y_train = X[~mask], y[~mask]\n",
    "        clf.fit(X_train, y_train)\n",
    "        # training_scores.append(clf.score(X_train, y_train))\n",
    "        training_scores.append(f1_score(clf.predict(X_train), y_train))\n",
    "        X_test, y_test = X[mask], y[mask]\n",
    "        # test_scores.append(clf.score(X_test, y_test))\n",
    "        test_scores.append(f1_score(clf.predict(X_test), y_test))\n",
    "    \n",
    "    return training_scores, test_scores"
   ]
  },
  {
   "cell_type": "code",
   "execution_count": null,
   "metadata": {
    "ExecuteTime": {
     "end_time": "2018-09-20T15:29:26.718916Z",
     "start_time": "2018-09-20T15:29:17.529Z"
    }
   },
   "outputs": [],
   "source": [
    "np.power(10, np.linspace(-5, 5, 20))"
   ]
  },
  {
   "cell_type": "code",
   "execution_count": null,
   "metadata": {
    "ExecuteTime": {
     "end_time": "2018-09-20T15:29:26.719824Z",
     "start_time": "2018-09-20T15:29:17.532Z"
    }
   },
   "outputs": [],
   "source": [
    "# Train SVM with complete data now and use k-fold CV\n",
    "# still needs to shuffle data\n",
    "X_versi_2 = X[permutation]\n",
    "\n",
    "y_versi_2 = np.zeros(len(y))\n",
    "y_versi_2[y == 1] = 1\n",
    "y_versi_2 = y_versi_2[permutation]\n",
    "\n",
    "Cs = np.linspace(-4, 4, 100)\n",
    "\n",
    "training_scores = []\n",
    "test_scores = []\n",
    "\n",
    "\n",
    "for C in Cs:\n",
    "    clf = SVC(C=10.**C, gamma=0.01) # 10^C\n",
    "    clf.name = \"SVM with C = 10^{}\".format(C) \n",
    "    # [np.mean(xs) for xs in cv_k_fold_classifier(clf, 10, X_versi_2, y_versi_2)]\n",
    "    training_score, test_score = map(lambda xs: np.mean(xs), cv_k_fold_classifier(clf, 10, X_versi_2, y_versi_2))\n",
    "    training_scores.append(training_score)\n",
    "    test_scores.append(test_score)\n",
    "    \n",
    "plt.figure(figsize=(20, 10))\n",
    "plt.plot(Cs, training_scores, label='Training Score')\n",
    "plt.plot(Cs, test_scores, label = 'Test Score')\n",
    "plt.xlim(min(Cs), max(Cs))\n",
    "plt.ylim(min(min(training_scores), min(test_scores)), 1.00)\n",
    "plt.xlabel('$\\log_{10}(C)$')\n",
    "plt.ylabel('Score')\n",
    "plt.title('RBF SVM classification score of Iris versicolor on whole Iris data set')\n",
    "plt.legend()\n",
    "plt.show()   "
   ]
  },
  {
   "cell_type": "markdown",
   "metadata": {},
   "source": [
    "Scikit-learn also contains procedures for creating CV. One of them is stratified k-fold CV, which is k-fold while ensuring that there is no local class imbalance. "
   ]
  },
  {
   "cell_type": "code",
   "execution_count": null,
   "metadata": {
    "ExecuteTime": {
     "end_time": "2018-09-20T15:29:26.720430Z",
     "start_time": "2018-09-20T15:29:17.535Z"
    }
   },
   "outputs": [],
   "source": [
    "import sklearn.cross_validation as cv\n",
    "\n",
    "# Helper to plot scikit CV\n",
    "\n",
    "def plot_cv(cv):\n",
    "    masks = []\n",
    "    for train, test in cv: # this shows you how to use the cv results!\n",
    "        # i.e. X_train, y_train = X[train], y[train]\n",
    "        mask = np.zeros(cv.n, dtype=bool)\n",
    "        mask[test] = 1\n",
    "        masks.append(mask)\n",
    "    \n",
    "    plt.matshow(masks)\n",
    "    \n",
    "kfold = cv.StratifiedKFold(y, n_folds=10) # using it on the original multi-class labels\n",
    "plot_cv(kfold)"
   ]
  },
  {
   "cell_type": "markdown",
   "metadata": {},
   "source": [
    "It is interesting to note how the folds partition into the regions of the three class labels."
   ]
  },
  {
   "cell_type": "code",
   "execution_count": null,
   "metadata": {
    "ExecuteTime": {
     "end_time": "2018-09-20T15:29:26.721282Z",
     "start_time": "2018-09-20T15:29:17.538Z"
    }
   },
   "outputs": [],
   "source": [
    "# Other CV methods do not require labels only the length of the labels\n",
    "plot_cv(cv.KFold(len(y), n_folds=10)) # like we implemented\n",
    "plot_cv(cv.ShuffleSplit(len(y), n_iter=10, test_size=0.3)) # like training_test_split with test 30% of data"
   ]
  },
  {
   "cell_type": "markdown",
   "metadata": {},
   "source": [
    "<b>Ex. 2.2</b>: Using the whole dataset build any classifier that detects iris virginica. \n",
    "Try two cross validation strategies:\n",
    "\n",
    "a) stratified 2-fold CV\n",
    "\n",
    "b) LOOCV (leave one out cross validation)\n",
    "\n",
    "Choose the best models in a) and b). Compare those two models, which one is likely to be better? What do the ROC curves tell you? Should an additional holdout set be used?\n",
    "\n",
    "Hint: The accuracy is the mean of the accuracy on every test set. In LOOCV this is the one test sample. Thus, the overall accuracy is equivalent to the ratio of folds in which the test sample was correctly predicted. "
   ]
  },
  {
   "cell_type": "code",
   "execution_count": null,
   "metadata": {
    "ExecuteTime": {
     "end_time": "2018-09-20T15:29:26.722320Z",
     "start_time": "2018-09-20T15:29:17.541Z"
    }
   },
   "outputs": [],
   "source": [
    "%%time\n",
    "from sklearn.model_selection import cross_val_score\n",
    "from sklearn.linear_model import LogisticRegression\n",
    "from sklearn.model_selection import ShuffleSplit\n",
    "from sklearn.model_selection import GridSearchCV\n",
    "\n",
    "base_clf = LogisticRegression(C=1, solver=\"saga\", max_iter=10000, multi_class=\"multinomial\")\n",
    "\n",
    "param = {\n",
    "    \"C\": [0.03, 0.01, 0.1, 1, 10, 100, 1000],\n",
    "    \"penalty\": (\"l1\", \"l2\")\n",
    "}\n",
    "\n",
    "clf = GridSearchCV(base_clf, param, scoring=\"accuracy\", cv=ShuffleSplit(3), verbose=1)\n",
    "scores = cross_val_score(clf, X, y, scoring=\"accuracy\", cv=ShuffleSplit(5), n_jobs=-1, verbose=1)\n",
    "\n",
    "print(\"%.4f (±%.4f)\" % (np.mean(scores), np.std(scores)))"
   ]
  },
  {
   "cell_type": "code",
   "execution_count": null,
   "metadata": {
    "ExecuteTime": {
     "end_time": "2018-09-20T15:29:26.722897Z",
     "start_time": "2018-09-20T15:29:17.545Z"
    }
   },
   "outputs": [],
   "source": [
    "clf.fit(X, y)\n",
    "y_pred = clf.predict_proba(X)\n",
    "\n",
    "mask = y_pred >= 0.5\n",
    "y_pred[mask] = 1\n",
    "y_pred[~mask] = 0\n",
    "y_pred"
   ]
  },
  {
   "cell_type": "code",
   "execution_count": null,
   "metadata": {
    "ExecuteTime": {
     "end_time": "2018-09-20T15:29:26.723887Z",
     "start_time": "2018-09-20T15:29:17.548Z"
    }
   },
   "outputs": [],
   "source": [
    "# Exercise 2.2"
   ]
  },
  {
   "cell_type": "code",
   "execution_count": null,
   "metadata": {
    "ExecuteTime": {
     "end_time": "2018-09-20T15:29:26.724781Z",
     "start_time": "2018-09-20T15:29:17.551Z"
    }
   },
   "outputs": [],
   "source": [
    "# Solution Exercise 2.2\n",
    "\n",
    "virgin_idx = y == 2\n",
    "y_virgin = np.zeros(len(y))\n",
    "y_virgin[virgin_idx] = 1\n",
    "\n",
    "from sklearn import grid_search\n",
    "from sklearn.cross_validation import LeaveOneOut, StratifiedKFold\n",
    "\n",
    "parameters = {\n",
    "    'kernel':('linear', 'rbf'), \n",
    "    'C':[0.1, 0.2, 0.5, 1, 2, 5, 10, 20, 50, 100]\n",
    "}\n",
    "\n",
    "svc = SVC()\n",
    "\n",
    "# a)\n",
    "clf = grid_search.GridSearchCV(svc, parameters, scoring='accuracy', cv=StratifiedKFold(y_virgin, 2))\n",
    "clf.fit(X, y_virgin) \n",
    "\n",
    "best_clf_a = clf.best_estimator_\n",
    "\n",
    "y_score = best_clf_a.decision_function(X)\n",
    "fpr_a, tpr_a, _ = metrics.roc_curve(y_virgin, y_score, pos_label=1)\n",
    "\n",
    "print(\"Best Classifier (2-fold): %s\" % best_clf_a)\n",
    "print(\"Best Accuracy (2-fold): %.4f\" % clf.best_score_)\n",
    "# b)\n",
    "clf = grid_search.GridSearchCV(svc, parameters, scoring='accuracy', cv=LeaveOneOut(150))\n",
    "clf.fit(X, y_virgin)   \n",
    "\n",
    "best_clf_b = clf.best_estimator_\n",
    "\n",
    "y_score = best_clf_b.decision_function(X)\n",
    "fpr_b, tpr_b, _ = metrics.roc_curve(y_virgin, y_score, pos_label=1)\n",
    "plot_roc_curves([fpr_a, fpr_b], [tpr_a, tpr_b])\n",
    "\n",
    "print(\"Best Classifier (LOOCV): %s\" % best_clf_b)\n",
    "print(\"Best Accuracy (LOOCV): %.4f\" % clf.best_score_)"
   ]
  },
  {
   "cell_type": "markdown",
   "metadata": {},
   "source": [
    "### Validation curves"
   ]
  },
  {
   "cell_type": "code",
   "execution_count": null,
   "metadata": {
    "ExecuteTime": {
     "end_time": "2018-09-20T15:29:26.725367Z",
     "start_time": "2018-09-20T15:29:17.553Z"
    }
   },
   "outputs": [],
   "source": [
    "from sklearn.datasets import load_digits\n",
    "from sklearn.svm import SVC\n",
    "from sklearn.model_selection import validation_curve\n",
    "\n",
    "digits = load_digits()\n",
    "X, y = digits.data, digits.target\n",
    "\n",
    "param_range = np.logspace(-6, -1, 5)\n",
    "train_scores, test_scores = validation_curve(\n",
    "    SVC(), X, y, param_name=\"gamma\", param_range=param_range,\n",
    "    cv=10, scoring=\"accuracy\", n_jobs=1)\n",
    "train_scores_mean = np.mean(train_scores, axis=1)\n",
    "train_scores_std = np.std(train_scores, axis=1)\n",
    "test_scores_mean = np.mean(test_scores, axis=1)\n",
    "test_scores_std = np.std(test_scores, axis=1)\n",
    "\n",
    "plt.title(\"Validation Curve with SVM\")\n",
    "plt.xlabel(\"$\\gamma$\")\n",
    "plt.ylabel(\"Score\")\n",
    "plt.ylim(0.0, 1.1)\n",
    "lw = 2\n",
    "plt.semilogx(param_range, train_scores_mean, label=\"Training score\",\n",
    "             color=\"darkorange\", lw=lw)\n",
    "plt.fill_between(param_range, train_scores_mean - train_scores_std,\n",
    "                 train_scores_mean + train_scores_std, alpha=0.2,\n",
    "                 color=\"darkorange\", lw=lw)\n",
    "plt.semilogx(param_range, test_scores_mean, label=\"Cross-validation score\",\n",
    "             color=\"navy\", lw=lw)\n",
    "plt.fill_between(param_range, test_scores_mean - test_scores_std,\n",
    "                 test_scores_mean + test_scores_std, alpha=0.2,\n",
    "                 color=\"navy\", lw=lw)\n",
    "plt.legend(loc=\"best\")\n",
    "plt.show()"
   ]
  },
  {
   "cell_type": "markdown",
   "metadata": {},
   "source": [
    "## 3. Wrapping up: Politician recognition\n",
    "\n",
    "This section is optional and supposed to be a playground to try out things presented in the lectures so far. Running the next cell loads the data set that loads about 1300 images of politicians of the era of the war in Iraq. As this data set is about 200 MB this can take a while."
   ]
  },
  {
   "cell_type": "code",
   "execution_count": null,
   "metadata": {
    "ExecuteTime": {
     "end_time": "2018-09-20T15:29:26.726216Z",
     "start_time": "2018-09-20T15:29:17.557Z"
    }
   },
   "outputs": [],
   "source": [
    "from sklearn.datasets import fetch_lfw_people\n",
    "\n",
    "lfw_people = fetch_lfw_people(min_faces_per_person=70, resize=0.4,\n",
    "                                       data_home='datasets')\n",
    "print(\"Loaded %d data points with %d features\" % (lfw_people.data.shape[0], lfw_people.data.shape[1]))\n",
    "print(\"Names of politicians: %s\" % lfw_people.target_names)"
   ]
  },
  {
   "cell_type": "markdown",
   "metadata": {},
   "source": [
    "The following code plots some images, feel free to use it."
   ]
  },
  {
   "cell_type": "code",
   "execution_count": null,
   "metadata": {
    "ExecuteTime": {
     "end_time": "2018-09-20T15:29:26.727342Z",
     "start_time": "2018-09-20T15:29:17.560Z"
    }
   },
   "outputs": [],
   "source": [
    "fig = plt.figure(figsize=(12, 8))\n",
    "# plot several images\n",
    "for i in range(15):\n",
    "    ax = fig.add_subplot(3, 5, i + 1, xticks=[], yticks=[]) # xticks / yticks = [] ensures no border\n",
    "    ax.imshow(lfw_people.images[i], cmap=plt.cm.bone)\n",
    "    ax.set_title(lfw_people.target_names[lfw_people.target[i]])"
   ]
  },
  {
   "cell_type": "markdown",
   "metadata": {},
   "source": [
    "<b>Ex. 3.1 (Optional)</b>: Train a classifier for the politician recognition problem. Ideally, you should solve the multiclass problem and use CV and scoring techniques. You can also train a binary classifier to detect one of the politicians.\n",
    "\n",
    "Show what you can!"
   ]
  },
  {
   "cell_type": "code",
   "execution_count": null,
   "metadata": {
    "ExecuteTime": {
     "end_time": "2018-09-20T15:29:26.728606Z",
     "start_time": "2018-09-20T15:29:17.562Z"
    }
   },
   "outputs": [],
   "source": [
    "# simple train test split (can be used, but you can also do CV based approaches).\n",
    "X_train, X_test, y_train, y_test = train_test_split(lfw_people.data, lfw_people.target, random_state=3)"
   ]
  }
 ],
 "metadata": {
  "kernelspec": {
   "display_name": "Python 3",
   "language": "python",
   "name": "python3"
  },
  "language_info": {
   "codemirror_mode": {
    "name": "ipython",
    "version": 3
   },
   "file_extension": ".py",
   "mimetype": "text/x-python",
   "name": "python",
   "nbconvert_exporter": "python",
   "pygments_lexer": "ipython3",
   "version": "3.6.4"
  },
  "toc": {
   "base_numbering": 1,
   "nav_menu": {},
   "number_sections": true,
   "sideBar": true,
   "skip_h1_title": false,
   "title_cell": "Table of Contents",
   "title_sidebar": "Contents",
   "toc_cell": false,
   "toc_position": {},
   "toc_section_display": true,
   "toc_window_display": false
  }
 },
 "nbformat": 4,
 "nbformat_minor": 2
}
