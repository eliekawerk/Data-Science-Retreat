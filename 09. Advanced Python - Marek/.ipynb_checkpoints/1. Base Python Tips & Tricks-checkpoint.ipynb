{
 "cells": [
  {
   "cell_type": "code",
   "execution_count": 3,
   "metadata": {},
   "outputs": [
    {
     "name": "stdout",
     "output_type": "stream",
     "text": [
      "1.0\n",
      "2.0\n",
      "<class 'complex'>\n"
     ]
    },
    {
     "data": {
      "text/plain": [
       "(1-2j)"
      ]
     },
     "execution_count": 3,
     "metadata": {},
     "output_type": "execute_result"
    }
   ],
   "source": [
    "# Complex numbers in python\n",
    "x = 1+2j\n",
    "print(x.real)\n",
    "print(x.imag)\n",
    "print(type(x))\n",
    "x.conjugate()\n",
    "# conjugate is a method, that belongs to the \"complex\" class object"
   ]
  },
  {
   "cell_type": "code",
   "execution_count": 2,
   "metadata": {},
   "outputs": [],
   "source": [
    "# Mutable objects are things that are liable to change\n",
    "# Immutable objects are unlikely to change\n",
    "\n",
    "x = [1, 2, 3] # this is mutable\n",
    "y = 1, 2, 3 # this creates a tuple, you don't need the (), it's immutable"
   ]
  },
  {
   "cell_type": "code",
   "execution_count": 3,
   "metadata": {},
   "outputs": [
    {
     "name": "stdout",
     "output_type": "stream",
     "text": [
      "[1, 2, 3, 1, 2, 3]\n",
      "[2 4 6]\n"
     ]
    }
   ],
   "source": [
    "# remember that python list muliplication is not element-wise, whereas numpy list multiplication is\n",
    "x = [1, 2, 3]\n",
    "print(x*2)\n",
    "import numpy as np\n",
    "print(np.ndarray.__mul__(np.array([1,2,3]),2))"
   ]
  },
  {
   "cell_type": "code",
   "execution_count": 10,
   "metadata": {},
   "outputs": [
    {
     "name": "stdout",
     "output_type": "stream",
     "text": [
      "[100, 2, 3]\n",
      "[100, 2, 3] [1, 2, 3]\n"
     ]
    }
   ],
   "source": [
    "x = [1,2,3]\n",
    "y = x # this just creates a reference to another object, so any changes you make to one you'll make to the other\n",
    "y[0] = 100\n",
    "print(x)\n",
    "\n",
    "# to get around this, we need to make an entire copy of the original before we make changes\n",
    "x = [1,2,3]\n",
    "y = x.copy()\n",
    "y[0] = 100\n",
    "print(y,x)"
   ]
  },
  {
   "cell_type": "code",
   "execution_count": 14,
   "metadata": {},
   "outputs": [
    {
     "name": "stdout",
     "output_type": "stream",
     "text": [
      "1\n",
      "2\n",
      "3\n"
     ]
    }
   ],
   "source": [
    "# iterable interface uses iter() to initialse an iterator on an object which allows us to go through each element in a squence one by one\n",
    "# you then use next() to go through each element\n",
    "\n",
    "x = [1,2,3]\n",
    "i = iter(x)\n",
    "print(next(i))\n",
    "print(next(i))\n",
    "print(next(i))\n",
    "\n",
    "# this is how for loops are made in the background!"
   ]
  },
  {
   "cell_type": "code",
   "execution_count": 22,
   "metadata": {},
   "outputs": [
    {
     "name": "stdout",
     "output_type": "stream",
     "text": [
      "['a', 'b', 'c', 'd']\n",
      "[(0, 'a'), (1, 'b'), (2, 'c'), (3, 'd')]\n",
      "(0, 'a')\n",
      "(1, 'b')\n",
      "(2, 'c')\n",
      "(3, 'd')\n"
     ]
    }
   ],
   "source": [
    "# enumerate is just an example of an iterable object, that assigns a value to each outcome\n",
    "print(list('abcd'))\n",
    "print(list(enumerate('abcd')))\n",
    "for i in enumerate('abcd'):\n",
    "    print(i)"
   ]
  },
  {
   "cell_type": "code",
   "execution_count": 27,
   "metadata": {},
   "outputs": [
    {
     "name": "stdout",
     "output_type": "stream",
     "text": [
      "a b\n",
      "a ['b', 'c', 'd', 'e', 'f', 'g', 'h'] i\n",
      "a b ['c', 'd', 'e', 'f', 'g', 'h', 'i']\n"
     ]
    }
   ],
   "source": [
    "# cool things you can do to assign variables\n",
    "x,y = \"ab\"\n",
    "print(x,y)\n",
    "x, *y, z = 'abcdefghi'\n",
    "print(x,y,z)\n",
    "x, y, *z = 'abcdefghi'\n",
    "print(x,y,z)"
   ]
  },
  {
   "cell_type": "code",
   "execution_count": 30,
   "metadata": {},
   "outputs": [
    {
     "name": "stdout",
     "output_type": "stream",
     "text": [
      "(1, (2, 3, 4, 5, 6, 7), 1, {})\n",
      "(1, (2, 3, 4, 5, 6, 7), 1, {'color': 'red', 'pointstyle': ':'})\n"
     ]
    }
   ],
   "source": [
    "def f(x, *args, y=1, **kwargs):\n",
    "    return x, args, y, kwargs\n",
    "\n",
    "# in this case, the * allows you to pass as many variables as are remaining into the function\n",
    "print(f(1,2,3,4,5,6,7))\n",
    "\n",
    "# kwargs will allow you specify as many key word arguments as you want in a function, and puts them in a dictionary\n",
    "print(f(1,2,3,4,5,6,7,color='red',pointstyle=':'))"
   ]
  },
  {
   "cell_type": "code",
   "execution_count": 38,
   "metadata": {},
   "outputs": [
    {
     "name": "stdout",
     "output_type": "stream",
     "text": [
      "(1, 2, 3, 4, 5)\n",
      "(1, 2, 3, 4, 5)\n",
      "(88, 1, 2, 3, 9)\n"
     ]
    },
    {
     "data": {
      "image/png": "[encoded data removed]",
      "text/plain": [
       "<Figure size 432x288 with 1 Axes>"
      ]
     },
     "metadata": {},
     "output_type": "display_data"
    },
    {
     "data": {
      "image/png": "[encoded data removed]",
      "text/plain": [
       "<Figure size 432x288 with 1 Axes>"
      ]
     },
     "metadata": {},
     "output_type": "display_data"
    }
   ],
   "source": [
    "def f(a,b,c,d,e):\n",
    "    return a,b,c,d,e\n",
    "\n",
    "print(f(1,2,3,4,5))\n",
    "\n",
    "# you can pass *args to a function as well!\n",
    "x = [1,2,3]\n",
    "print(f(*x,4,5))\n",
    "print(f(88,*x,9))\n",
    "\n",
    "# this is useful when plotting because you can specify all of your formats at the top\n",
    "import matplotlib.pyplot as plt\n",
    "kwargs = {\"color\":\"red\",\"marker\":\"s\"}\n",
    "plt.scatter(np.arange(10),np.arange(10)*2,**kwargs)\n",
    "plt.show()\n",
    "plt.close()\n",
    "\n",
    "args = [np.arange(10),np.arange(10)*2]\n",
    "plt.scatter(*args,**kwargs)\n",
    "plt.show()\n",
    "plt.close()"
   ]
  }
 ],
 "metadata": {
  "kernelspec": {
   "display_name": "Python 3",
   "language": "python",
   "name": "python3"
  },
  "language_info": {
   "codemirror_mode": {
    "name": "ipython",
    "version": 3
   },
   "file_extension": ".py",
   "mimetype": "text/x-python",
   "name": "python",
   "nbconvert_exporter": "python",
   "pygments_lexer": "ipython3",
   "version": "3.6.4"
  }
 },
 "nbformat": 4,
 "nbformat_minor": 2
}
